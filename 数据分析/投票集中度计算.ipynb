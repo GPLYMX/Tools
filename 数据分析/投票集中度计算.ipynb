{
 "cells": [
  {
   "cell_type": "code",
   "execution_count": 26,
   "id": "6226ad64",
   "metadata": {},
   "outputs": [],
   "source": [
    "import json\n",
    "import os\n",
    "import re\n",
    "import random\n",
    "from statistics import mean\n",
    "\n",
    "import pandas as pd"
   ]
  },
  {
   "cell_type": "code",
   "execution_count": 19,
   "id": "d5f76241",
   "metadata": {},
   "outputs": [],
   "source": [
    "def get_prob(js):\n",
    "    num = len(js)\n",
    "    lst = []\n",
    "    summ = sum(list(js.values()))\n",
    "    for i in range(num):\n",
    "        lst.append(list(js.values())[i]/summ)\n",
    "    return lst"
   ]
  },
  {
   "cell_type": "code",
   "execution_count": 49,
   "id": "37755e09",
   "metadata": {},
   "outputs": [],
   "source": [
    "def data_analysis(task_label=\"苔色\"):\n",
    "    # 获取所属标签以及相应的概率   \n",
    "    \n",
    "    lst1 = []\n",
    "    lst2 = []\n",
    "    \n",
    "    with open('second_total_detail(20220808)_sm.json', 'r', encoding='utf-8') as d:\n",
    "        json_data = json.load(d)\n",
    "        \n",
    "        category_num = len(json_data[list(json_data.keys())[0]][task_label])\n",
    "        lst1 = []\n",
    "        lst2 = []\n",
    "        for i in range(category_num):\n",
    "            lst1.append([])\n",
    "            lst2.append([])\n",
    "            \n",
    "        for img in list(json_data.keys()):\n",
    "            prob = get_prob(json_data[img][task_label])\n",
    "            idx = prob.index(max(prob))\n",
    "            if idx == 4:\n",
    "                print(img)\n",
    "            lst1[idx].append(max(prob))\n",
    "            \n",
    "    with open('second_total_detail(20220929)_sm.json', 'r', encoding='utf-8') as d:\n",
    "        json_data = json.load(d)\n",
    "        \n",
    "        category_num = len(json_data[list(json_data.keys())[0]][task_label])\n",
    "            \n",
    "        for img in list(json_data.keys()):\n",
    "            prob = get_prob(json_data[img][task_label])\n",
    "            idx = prob.index(max(prob))\n",
    "            if idx == 4:\n",
    "                print(img)\n",
    "            lst1[idx].append(max(prob))\n",
    "            \n",
    "    for i in range(category_num):\n",
    "        print(len(lst1[i]))\n",
    "        print(mean(lst1[i]))"
   ]
  },
  {
   "cell_type": "code",
   "execution_count": 50,
   "id": "9e3aca14",
   "metadata": {},
   "outputs": [
    {
     "name": "stdout",
     "output_type": "stream",
     "text": [
      "20220511090339-1\n",
      "20220518145608-1\n",
      "20220609194107-1\n",
      "306\n",
      "910\n",
      "2328\n",
      "0.7673797786063868\n",
      "808\n",
      "0.5662093256933832\n",
      "218\n",
      "0.587015731197474\n",
      "28\n",
      "0.5708525355352143\n",
      "5\n",
      "0.5949397699075119\n"
     ]
    }
   ],
   "source": [
    "data_analysis(task_label=\"苔色\")"
   ]
  },
  {
   "cell_type": "code",
   "execution_count": null,
   "id": "205dede2",
   "metadata": {},
   "outputs": [],
   "source": []
  }
 ],
 "metadata": {
  "kernelspec": {
   "display_name": "Python 3 (ipykernel)",
   "language": "python",
   "name": "python3"
  },
  "language_info": {
   "codemirror_mode": {
    "name": "ipython",
    "version": 3
   },
   "file_extension": ".py",
   "mimetype": "text/x-python",
   "name": "python",
   "nbconvert_exporter": "python",
   "pygments_lexer": "ipython3",
   "version": "3.9.12"
  }
 },
 "nbformat": 4,
 "nbformat_minor": 5
}
