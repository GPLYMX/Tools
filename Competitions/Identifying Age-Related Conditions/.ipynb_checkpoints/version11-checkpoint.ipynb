{
 "cells": [
  {
   "cell_type": "code",
   "execution_count": 1,
   "metadata": {
    "_cell_guid": "96e001c5-6c5f-4247-b20c-c5de6b1b9276",
    "_uuid": "0faf75b2-9bc8-4389-9c6b-a5b7d6c6d1c6",
    "execution": {
     "iopub.execute_input": "2023-07-13T01:05:10.526351Z",
     "iopub.status.busy": "2023-07-13T01:05:10.525471Z",
     "iopub.status.idle": "2023-07-13T01:05:10.571105Z",
     "shell.execute_reply": "2023-07-13T01:05:10.569674Z",
     "shell.execute_reply.started": "2023-07-13T01:05:10.526307Z"
    },
    "jupyter": {
     "outputs_hidden": false
    }
   },
   "outputs": [],
   "source": [
    "# This Python 3 environment comes with many helpful analytics libraries installed\n",
    "# It is defined by the kaggle/python Docker image: https://github.com/kaggle/docker-python\n",
    "# For example, here's several helpful packages to load\n",
    "\n",
    "import numpy as np # linear algebra\n",
    "import pandas as pd # data processing, CSV file I/O (e.g. pd.read_csv)\n",
    "\n",
    "# Input data files are available in the read-only \"../input/\" directory\n",
    "# For example, running this (by clicking run or pressing Shift+Enter) will list all files under the input directory\n",
    "\n",
    "import os\n",
    "for dirname, _, filenames in os.walk('/kaggle/input'):\n",
    "    for filename in filenames:\n",
    "        print(os.path.join(dirname, filename))\n",
    "\n",
    "# You can write up to 20GB to the current directory (/kaggle/working/) that gets preserved as output when you create a version using \"Save & Run All\" \n",
    "# You can also write temporary files to /kaggle/temp/, but they won't be saved outside of the current session"
   ]
  },
  {
   "cell_type": "code",
   "execution_count": 2,
   "metadata": {
    "_cell_guid": "5b0b7b96-53e4-4391-90c9-6ba8d89637d8",
    "_uuid": "46c19063-de36-4bf1-9731-f40dc4040346",
    "execution": {
     "iopub.execute_input": "2023-07-13T01:05:10.574324Z",
     "iopub.status.busy": "2023-07-13T01:05:10.573842Z",
     "iopub.status.idle": "2023-07-13T01:05:16.074991Z",
     "shell.execute_reply": "2023-07-13T01:05:16.073684Z",
     "shell.execute_reply.started": "2023-07-13T01:05:10.574251Z"
    },
    "jupyter": {
     "outputs_hidden": false
    }
   },
   "outputs": [],
   "source": [
    "import pandas as pd\n",
    "import numpy as np\n",
    "import seaborn as sns\n",
    "import matplotlib.pyplot as plt\n",
    "\n",
    "from sklearn.model_selection import KFold\n",
    "import lightgbm as lgb\n",
    "from sklearn.metrics import mean_squared_error\n",
    "from sklearn.datasets import load_iris\n",
    "from sklearn.model_selection import train_test_split\n",
    "from sklearn.feature_selection import SelectKBest, mutual_info_classif\n",
    "from sklearn.ensemble import RandomForestClassifier\n",
    "from sklearn.svm import SVC\n",
    "from sklearn.metrics import classification_report, roc_auc_score\n",
    "import lightgbm as lgb\n",
    "import catboost as cb\n",
    "import xgboost as xgb\n",
    "import optuna"
   ]
  },
  {
   "cell_type": "code",
   "execution_count": 3,
   "metadata": {
    "_cell_guid": "b1de3b94-4c2e-47cc-afe6-6c845da63a55",
    "_uuid": "82efd7e9-cf6b-4c91-ba7e-6dc379a93f17",
    "execution": {
     "iopub.execute_input": "2023-07-13T01:05:16.077526Z",
     "iopub.status.busy": "2023-07-13T01:05:16.076950Z",
     "iopub.status.idle": "2023-07-13T01:05:16.134315Z",
     "shell.execute_reply": "2023-07-13T01:05:16.133343Z",
     "shell.execute_reply.started": "2023-07-13T01:05:16.077468Z"
    },
    "jupyter": {
     "outputs_hidden": false
    }
   },
   "outputs": [],
   "source": [
    "dataset_df = pd.read_csv('train.csv')\n",
    "dataset_df['EJ'] = dataset_df['EJ'].replace({'A':0, 'B':1})\n",
    "dataset_df = dataset_df.iloc[:,1:]"
   ]
  },
  {
   "cell_type": "code",
   "execution_count": 4,
   "metadata": {
    "_cell_guid": "63d25949-03d0-4ee9-8e96-a1ca01976df6",
    "_uuid": "e5e17feb-657e-4ddb-9202-387eafe58aa3",
    "execution": {
     "iopub.execute_input": "2023-07-13T01:05:16.138685Z",
     "iopub.status.busy": "2023-07-13T01:05:16.137807Z",
     "iopub.status.idle": "2023-07-13T01:05:16.145843Z",
     "shell.execute_reply": "2023-07-13T01:05:16.143384Z",
     "shell.execute_reply.started": "2023-07-13T01:05:16.138634Z"
    }
   },
   "outputs": [],
   "source": [
    "# feature_columns = dataset_df.columns[:-1]  # 假设最后一列为目标变量，不需要处理\n",
    "\n",
    "# # 针对每个特征列，将无穷大值替换为前 97% 大的值\n",
    "# for column in feature_columns:\n",
    "#     # 计算前 97% 大的值\n",
    "#     percentile = 0.98\n",
    "#     threshold = dataset_df[column].quantile(percentile)\n",
    "    \n",
    "#     # 将无穷大值替换为前 97% 大的值\n",
    "#     dataset_df[column] = dataset_df[column].replace(np.inf, threshold)"
   ]
  },
  {
   "cell_type": "code",
   "execution_count": 5,
   "metadata": {
    "_cell_guid": "8d7db594-4610-497b-b92f-c2a39d699566",
    "_uuid": "692cd51c-734f-495e-b1c7-cb51e1eca4a9",
    "execution": {
     "iopub.execute_input": "2023-07-13T01:05:16.148570Z",
     "iopub.status.busy": "2023-07-13T01:05:16.148126Z",
     "iopub.status.idle": "2023-07-13T01:05:16.197952Z",
     "shell.execute_reply": "2023-07-13T01:05:16.196962Z",
     "shell.execute_reply.started": "2023-07-13T01:05:16.148538Z"
    },
    "jupyter": {
     "outputs_hidden": false
    }
   },
   "outputs": [],
   "source": [
    "# 计算特征的均值\n",
    "mean_values = dataset_df.mean()\n",
    "# 填充缺失值为特征的均值\n",
    "dataset_df = dataset_df.fillna(mean_values)"
   ]
  },
  {
   "cell_type": "code",
   "execution_count": 6,
   "metadata": {
    "execution": {
     "iopub.execute_input": "2023-07-13T01:09:11.462931Z",
     "iopub.status.busy": "2023-07-13T01:09:11.462507Z",
     "iopub.status.idle": "2023-07-13T01:09:11.471795Z",
     "shell.execute_reply": "2023-07-13T01:09:11.470636Z",
     "shell.execute_reply.started": "2023-07-13T01:09:11.462902Z"
    }
   },
   "outputs": [
    {
     "data": {
      "text/plain": [
       "AB           0.477149\n",
       "AF        3502.013221\n",
       "AH         118.624513\n",
       "AM          38.968552\n",
       "AR          10.128242\n",
       "AX           5.545576\n",
       "AY           0.060320\n",
       "AZ          10.566447\n",
       "BC           8.053012\n",
       "BD        5350.388655\n",
       "BN          21.419492\n",
       "BP         231.322223\n",
       "BQ          98.328737\n",
       "BR        1218.133238\n",
       "BZ         550.632525\n",
       "CB          77.104151\n",
       "CC           0.688801\n",
       "CD          90.251735\n",
       "CF          11.241064\n",
       "CH           0.030615\n",
       "CL           1.403761\n",
       "CR           0.742262\n",
       "CS          36.917590\n",
       "CU           1.383792\n",
       "CW          27.165653\n",
       "DA          51.128326\n",
       "DE         401.901299\n",
       "DF           0.633884\n",
       "DH           0.367002\n",
       "DI         146.972099\n",
       "DL          94.795377\n",
       "DN          26.370568\n",
       "DU           1.802900\n",
       "DV           1.924830\n",
       "DY          26.388989\n",
       "EB           9.072700\n",
       "EE           3.064778\n",
       "EG        1731.248215\n",
       "EH           0.305107\n",
       "EJ           0.640194\n",
       "EL          69.582596\n",
       "EP         105.060712\n",
       "EU          69.117005\n",
       "FC          71.341526\n",
       "FD           6.930086\n",
       "FE       10306.810737\n",
       "FI          10.111079\n",
       "FL           5.433199\n",
       "FR           3.533905\n",
       "FS           0.421501\n",
       "GB          20.724856\n",
       "GE         131.714987\n",
       "GF       14679.595398\n",
       "GH          31.489716\n",
       "GI          50.584437\n",
       "GL           8.530961\n",
       "Class        0.175041\n",
       "dtype: float64"
      ]
     },
     "execution_count": 6,
     "metadata": {},
     "output_type": "execute_result"
    }
   ],
   "source": [
    "mean_values"
   ]
  },
  {
   "cell_type": "code",
   "execution_count": 7,
   "metadata": {
    "_cell_guid": "f27460e9-1331-44cd-bec7-2b03b659f31e",
    "_uuid": "3743f60e-c56e-4ff1-b95a-1f683bd4e296",
    "execution": {
     "iopub.execute_input": "2023-07-13T01:05:16.200917Z",
     "iopub.status.busy": "2023-07-13T01:05:16.199983Z",
     "iopub.status.idle": "2023-07-13T01:05:16.472332Z",
     "shell.execute_reply": "2023-07-13T01:05:16.470910Z",
     "shell.execute_reply.started": "2023-07-13T01:05:16.200870Z"
    },
    "jupyter": {
     "outputs_hidden": false
    }
   },
   "outputs": [
    {
     "name": "stdout",
     "output_type": "stream",
     "text": [
      "Index(['AB', 'AF', 'AM', 'AR', 'AX', 'BC', 'BD ', 'BN', 'BP', 'BQ', 'BR', 'BZ',\n",
      "       'CC', 'CD ', 'CF', 'CL', 'CR', 'CS', 'CW ', 'DA', 'DE', 'DF', 'DH',\n",
      "       'DI', 'DL', 'DN', 'DU', 'DV', 'DY', 'EB', 'EE', 'EG', 'EH', 'EJ', 'EL',\n",
      "       'EP', 'EU', 'FC', 'FD ', 'FE', 'FI', 'FL', 'FR', 'FS', 'GB', 'GE', 'GF',\n",
      "       'GH', 'GI', 'GL'],\n",
      "      dtype='object')\n"
     ]
    }
   ],
   "source": [
    "# 分割特征和类别\n",
    "X = dataset_df.iloc[:, :-1]  # 特征\n",
    "y = dataset_df.iloc[:, -1]   # 类别\n",
    "# X = X.dropna()  # 删除包含缺失值的行\n",
    "y = y[X.index]  # 保持与特征对应的类别\n",
    "\n",
    "# 对非数值类型特征进行独热编码\n",
    "X_encoded = pd.get_dummies(X)\n",
    "\n",
    "# 初始化特征选择器\n",
    "k = 50  # 选择前k个重要特征\n",
    "selector = SelectKBest(score_func=mutual_info_classif, k=k)\n",
    "\n",
    "# 特征选择\n",
    "X_selected = selector.fit_transform(X_encoded, y)\n",
    "\n",
    "# 获取选择的特征索引\n",
    "selected_feature_indices = selector.get_support(indices=True)\n",
    "\n",
    "# 获取选择的特征名称\n",
    "selected_features = X_encoded.columns[selected_feature_indices]\n",
    "# selected_features = selected_features[:-2].append(pd.Index(['EJ']))\n",
    "# 输出选择的特征\n",
    "print(selected_features)"
   ]
  },
  {
   "cell_type": "code",
   "execution_count": 8,
   "metadata": {
    "execution": {
     "iopub.execute_input": "2023-07-13T01:05:16.475098Z",
     "iopub.status.busy": "2023-07-13T01:05:16.474241Z",
     "iopub.status.idle": "2023-07-13T01:05:16.492611Z",
     "shell.execute_reply": "2023-07-13T01:05:16.491127Z",
     "shell.execute_reply.started": "2023-07-13T01:05:16.475051Z"
    }
   },
   "outputs": [],
   "source": [
    "# 分割特征和类别\n",
    "X = dataset_df.iloc[:, :-1]  # 特征\n",
    "y = dataset_df.iloc[:, -1]   # 类别\n",
    "X = X.dropna()  # 删除包含缺失值的行"
   ]
  },
  {
   "cell_type": "code",
   "execution_count": 9,
   "metadata": {
    "_cell_guid": "17ec9259-5606-4101-bce4-29f367baa3c8",
    "_uuid": "04f2f20e-1b76-4943-b489-46af8ff82845",
    "execution": {
     "iopub.execute_input": "2023-07-13T01:05:16.495367Z",
     "iopub.status.busy": "2023-07-13T01:05:16.494447Z",
     "iopub.status.idle": "2023-07-13T01:05:16.506940Z",
     "shell.execute_reply": "2023-07-13T01:05:16.505205Z",
     "shell.execute_reply.started": "2023-07-13T01:05:16.495321Z"
    },
    "jupyter": {
     "outputs_hidden": false
    }
   },
   "outputs": [],
   "source": [
    "X_train, y_train = dataset_df.loc[:, selected_features], dataset_df.iloc[:, -1]"
   ]
  },
  {
   "cell_type": "code",
   "execution_count": 10,
   "metadata": {
    "_cell_guid": "bf9d9107-f0c3-4ca9-8c23-a0976193c974",
    "_uuid": "303bb115-faee-4812-819b-e191be9287ce",
    "execution": {
     "iopub.execute_input": "2023-07-13T01:05:16.509072Z",
     "iopub.status.busy": "2023-07-13T01:05:16.508578Z",
     "iopub.status.idle": "2023-07-13T01:05:16.526826Z",
     "shell.execute_reply": "2023-07-13T01:05:16.525265Z",
     "shell.execute_reply.started": "2023-07-13T01:05:16.509029Z"
    },
    "jupyter": {
     "outputs_hidden": false
    }
   },
   "outputs": [],
   "source": [
    "params_lgb = {\n",
    "    'objective': 'binary',  # 二分类目标函数\n",
    "    'metric': 'binary_logloss',  # 二分类损失函数\n",
    "    'boosting_type': 'gbdt',  # 提升类型，可选参数：'gbdt', 'dart', 'goss'\n",
    "    'num_leaves': 28,  # 叶子节点数量\n",
    "    'learning_rate': 0.1,  # 学习率\n",
    "    'feature_fraction': 0.85,  # 特征采样比例\n",
    "    'bagging_fraction': 0.7,  # 数据采样比例\n",
    "    'bagging_freq': 4,  # 数据采样频率\n",
    "    'random_state': 42,\n",
    "    'min_child_samples': 8,\n",
    "    'verbose':-1, \n",
    "    'random_state':12\n",
    "}\n",
    "params_cat = {\n",
    "    'iterations': 626,\n",
    "    'learning_rate': 0.01,\n",
    "    'depth': 4,\n",
    "    'l2_leaf_reg': 0.27,\n",
    "    'border_count': 66,\n",
    "    'random_state': 12,\n",
    "    'verbose': False\n",
    "}\n",
    "params_xgb = {\n",
    "    'objective': 'binary:logistic',\n",
    "    'eval_metric': 'logloss',\n",
    "    'eta': 0.0356,\n",
    "    'max_depth': 7,\n",
    "    'subsample': 0.95,\n",
    "    'colsample_bytree': 0.92,\n",
    "    'gamma': 9e-08,\n",
    "    'random_state': 12\n",
    "}\n",
    "params_RF = {\n",
    "    'n_estimators': 300,\n",
    "    'max_depth': 6,\n",
    "    'min_samples_split': 2,\n",
    "    'min_samples_leaf': 3,\n",
    "    'max_features': 'auto',\n",
    "    'random_state': 12\n",
    "}"
   ]
  },
  {
   "cell_type": "code",
   "execution_count": 11,
   "metadata": {
    "_cell_guid": "2e1f3a64-7179-45a7-9d3d-f1b6255ea8bb",
    "_uuid": "b0ee8e1b-5480-4505-93ee-78756c06fe26",
    "execution": {
     "iopub.execute_input": "2023-07-13T01:05:16.531919Z",
     "iopub.status.busy": "2023-07-13T01:05:16.531391Z",
     "iopub.status.idle": "2023-07-13T01:05:28.710251Z",
     "shell.execute_reply": "2023-07-13T01:05:28.708945Z",
     "shell.execute_reply.started": "2023-07-13T01:05:16.531860Z"
    },
    "jupyter": {
     "outputs_hidden": false
    }
   },
   "outputs": [
    {
     "name": "stdout",
     "output_type": "stream",
     "text": [
      "[LightGBM] [Warning] feature_fraction is set=0.85, colsample_bytree=1.0 will be ignored. Current value: feature_fraction=0.85\n",
      "[LightGBM] [Warning] bagging_fraction is set=0.7, subsample=1.0 will be ignored. Current value: bagging_fraction=0.7\n",
      "[LightGBM] [Warning] bagging_freq is set=4, subsample_freq=0 will be ignored. Current value: bagging_freq=4\n",
      "              precision    recall  f1-score   support\n",
      "\n",
      "           0       0.98      1.00      0.99       101\n",
      "           1       1.00      0.91      0.95        23\n",
      "\n",
      "    accuracy                           0.98       124\n",
      "   macro avg       0.99      0.96      0.97       124\n",
      "weighted avg       0.98      0.98      0.98       124\n",
      "\n",
      "0.9758932414980628\n",
      "[LightGBM] [Warning] feature_fraction is set=0.85, colsample_bytree=1.0 will be ignored. Current value: feature_fraction=0.85\n",
      "[LightGBM] [Warning] bagging_fraction is set=0.7, subsample=1.0 will be ignored. Current value: bagging_fraction=0.7\n",
      "[LightGBM] [Warning] bagging_freq is set=4, subsample_freq=0 will be ignored. Current value: bagging_freq=4\n",
      "              precision    recall  f1-score   support\n",
      "\n",
      "           0       0.96      0.99      0.97        98\n",
      "           1       0.96      0.85      0.90        26\n",
      "\n",
      "    accuracy                           0.96       124\n",
      "   macro avg       0.96      0.92      0.94       124\n",
      "weighted avg       0.96      0.96      0.96       124\n",
      "\n",
      "0.9870486656200942\n",
      "[LightGBM] [Warning] feature_fraction is set=0.85, colsample_bytree=1.0 will be ignored. Current value: feature_fraction=0.85\n",
      "[LightGBM] [Warning] bagging_fraction is set=0.7, subsample=1.0 will be ignored. Current value: bagging_fraction=0.7\n",
      "[LightGBM] [Warning] bagging_freq is set=4, subsample_freq=0 will be ignored. Current value: bagging_freq=4\n",
      "              precision    recall  f1-score   support\n",
      "\n",
      "           0       0.99      0.96      0.98       107\n",
      "           1       0.79      0.94      0.86        16\n",
      "\n",
      "    accuracy                           0.96       123\n",
      "   macro avg       0.89      0.95      0.92       123\n",
      "weighted avg       0.96      0.96      0.96       123\n",
      "\n",
      "0.9842289719626168\n",
      "[LightGBM] [Warning] feature_fraction is set=0.85, colsample_bytree=1.0 will be ignored. Current value: feature_fraction=0.85\n",
      "[LightGBM] [Warning] bagging_fraction is set=0.7, subsample=1.0 will be ignored. Current value: bagging_fraction=0.7\n",
      "[LightGBM] [Warning] bagging_freq is set=4, subsample_freq=0 will be ignored. Current value: bagging_freq=4\n",
      "              precision    recall  f1-score   support\n",
      "\n",
      "           0       0.92      0.99      0.95       101\n",
      "           1       0.93      0.59      0.72        22\n",
      "\n",
      "    accuracy                           0.92       123\n",
      "   macro avg       0.92      0.79      0.84       123\n",
      "weighted avg       0.92      0.92      0.91       123\n",
      "\n",
      "0.8928892889288929\n",
      "[LightGBM] [Warning] feature_fraction is set=0.85, colsample_bytree=1.0 will be ignored. Current value: feature_fraction=0.85\n",
      "[LightGBM] [Warning] bagging_fraction is set=0.7, subsample=1.0 will be ignored. Current value: bagging_fraction=0.7\n",
      "[LightGBM] [Warning] bagging_freq is set=4, subsample_freq=0 will be ignored. Current value: bagging_freq=4\n",
      "              precision    recall  f1-score   support\n",
      "\n",
      "           0       0.98      0.97      0.98       102\n",
      "           1       0.86      0.90      0.88        21\n",
      "\n",
      "    accuracy                           0.96       123\n",
      "   macro avg       0.92      0.94      0.93       123\n",
      "weighted avg       0.96      0.96      0.96       123\n",
      "\n",
      "0.9621848739495799\n",
      "0.9838709677419355\n",
      "0.31313131313131315\n",
      "CPU times: total: 14.1 s\n",
      "Wall time: 2.6 s\n"
     ]
    }
   ],
   "source": [
    "%%time\n",
    "\n",
    "Models = []\n",
    "best_acu = 0\n",
    "best_threshold = 0\n",
    "# 定义交叉验证的折数\n",
    "n_folds = 5\n",
    "kf = KFold(n_splits=n_folds, shuffle=True, random_state=42)\n",
    "\n",
    "# 定义模型列表\n",
    "models = [\n",
    "    lgb.LGBMClassifier(**params_lgb),\n",
    "    #cb.CatBoostClassifier(**params_cat),\n",
    "    xgb.XGBClassifier(**params_xgb),\n",
    "    RandomForestClassifier(**params_RF),\n",
    "    # SVC(probability=True, random_state=42)  # 设置 probability=True 以输出概率\n",
    "]\n",
    "\n",
    "for train_index, valid_index in kf.split(X_train):\n",
    "    \n",
    "    X_tr, X_val = X_train.iloc[train_index], X_train.iloc[valid_index]\n",
    "    y_tr, y_val = y_train.iloc[train_index], y_train.iloc[valid_index]\n",
    "    \n",
    "    # 训练模型\n",
    "    for model in models:\n",
    "        model.fit(X_tr, y_tr)\n",
    "\n",
    "    # 预测结果的概率值\n",
    "    y_pred_proba_list = []\n",
    "    for model in models:\n",
    "        y_pred_proba = model.predict_proba(X_val)[:, 1]  # 取第一列的概率值（正类的概率）\n",
    "        y_pred_proba_list.append(y_pred_proba)\n",
    "\n",
    "    # 模型融合（平均概率值）\n",
    "    y_pred_ensemble_proba = np.mean(y_pred_proba_list, axis=0)\n",
    "    \n",
    "    #选取最佳阈值\n",
    "    thresholds = np.linspace(0, 1, 100)\n",
    "    temp_acu = 0\n",
    "    temp_thred = 0\n",
    "    for threshold in thresholds:\n",
    "        # 计算最佳阈值\n",
    "        y_pred_ensemble = np.where(y_pred_ensemble_proba >= threshold, 1, 0)\n",
    "        accuracy = np.mean(y_pred_ensemble == y_val)\n",
    "        if accuracy >= temp_acu:\n",
    "            temp_acu = accuracy\n",
    "            temp_thred = threshold\n",
    "            temp_y_pred = y_pred_ensemble\n",
    "    print(classification_report(y_val, temp_y_pred))\n",
    "    print(roc_auc_score(y_val, y_pred_ensemble_proba))\n",
    "    \n",
    "    # 保存最优模型和最优阈值\n",
    "    if temp_acu >= best_acu:\n",
    "        Models = models\n",
    "        best_acu = temp_acu\n",
    "        best_threshold = temp_thred\n",
    "print(best_acu)\n",
    "print(best_threshold)"
   ]
  },
  {
   "cell_type": "code",
   "execution_count": 15,
   "metadata": {
    "_cell_guid": "3728ed95-4836-4978-954d-bc9a4ba50d10",
    "_uuid": "c3256734-6371-4b63-9d54-98564753569f",
    "execution": {
     "iopub.execute_input": "2023-07-13T01:35:51.387192Z",
     "iopub.status.busy": "2023-07-13T01:35:51.386704Z",
     "iopub.status.idle": "2023-07-13T01:35:51.423652Z",
     "shell.execute_reply": "2023-07-13T01:35:51.422513Z",
     "shell.execute_reply.started": "2023-07-13T01:35:51.387150Z"
    },
    "jupyter": {
     "outputs_hidden": false
    }
   },
   "outputs": [],
   "source": [
    "test = pd.read_csv('test.csv',index_col=\"Id\")\n",
    "# 填充缺失值为特征的均值\n",
    "dataset_df = dataset_df.fillna(mean_values)\n",
    "test_df = test.loc[:, selected_features]\n",
    "test_df['EJ'] = test_df['EJ'].replace({'A':0, 'B':1})"
   ]
  },
  {
   "cell_type": "code",
   "execution_count": 16,
   "metadata": {
    "execution": {
     "iopub.execute_input": "2023-07-13T01:35:51.783461Z",
     "iopub.status.busy": "2023-07-13T01:35:51.782436Z",
     "iopub.status.idle": "2023-07-13T01:35:51.820983Z",
     "shell.execute_reply": "2023-07-13T01:35:51.819553Z",
     "shell.execute_reply.started": "2023-07-13T01:35:51.783423Z"
    }
   },
   "outputs": [
    {
     "data": {
      "text/html": [
       "<div>\n",
       "<style scoped>\n",
       "    .dataframe tbody tr th:only-of-type {\n",
       "        vertical-align: middle;\n",
       "    }\n",
       "\n",
       "    .dataframe tbody tr th {\n",
       "        vertical-align: top;\n",
       "    }\n",
       "\n",
       "    .dataframe thead th {\n",
       "        text-align: right;\n",
       "    }\n",
       "</style>\n",
       "<table border=\"1\" class=\"dataframe\">\n",
       "  <thead>\n",
       "    <tr style=\"text-align: right;\">\n",
       "      <th></th>\n",
       "      <th>AB</th>\n",
       "      <th>AF</th>\n",
       "      <th>AH</th>\n",
       "      <th>AM</th>\n",
       "      <th>AR</th>\n",
       "      <th>AX</th>\n",
       "      <th>AY</th>\n",
       "      <th>AZ</th>\n",
       "      <th>BC</th>\n",
       "      <th>BD</th>\n",
       "      <th>...</th>\n",
       "      <th>FI</th>\n",
       "      <th>FL</th>\n",
       "      <th>FR</th>\n",
       "      <th>FS</th>\n",
       "      <th>GB</th>\n",
       "      <th>GE</th>\n",
       "      <th>GF</th>\n",
       "      <th>GH</th>\n",
       "      <th>GI</th>\n",
       "      <th>GL</th>\n",
       "    </tr>\n",
       "    <tr>\n",
       "      <th>Id</th>\n",
       "      <th></th>\n",
       "      <th></th>\n",
       "      <th></th>\n",
       "      <th></th>\n",
       "      <th></th>\n",
       "      <th></th>\n",
       "      <th></th>\n",
       "      <th></th>\n",
       "      <th></th>\n",
       "      <th></th>\n",
       "      <th></th>\n",
       "      <th></th>\n",
       "      <th></th>\n",
       "      <th></th>\n",
       "      <th></th>\n",
       "      <th></th>\n",
       "      <th></th>\n",
       "      <th></th>\n",
       "      <th></th>\n",
       "      <th></th>\n",
       "      <th></th>\n",
       "    </tr>\n",
       "  </thead>\n",
       "  <tbody>\n",
       "    <tr>\n",
       "      <th>00eed32682bb</th>\n",
       "      <td>0.0</td>\n",
       "      <td>0.0</td>\n",
       "      <td>np.nan.0</td>\n",
       "      <td>0.0</td>\n",
       "      <td>0.0</td>\n",
       "      <td>0.0</td>\n",
       "      <td>0.0</td>\n",
       "      <td>0.0</td>\n",
       "      <td>0.0</td>\n",
       "      <td>0.0</td>\n",
       "      <td>...</td>\n",
       "      <td>0.0</td>\n",
       "      <td>0.0</td>\n",
       "      <td>0.0</td>\n",
       "      <td>0.0</td>\n",
       "      <td>0.0</td>\n",
       "      <td>0.0</td>\n",
       "      <td>0.0</td>\n",
       "      <td>0.0</td>\n",
       "      <td>0.0</td>\n",
       "      <td>0.0</td>\n",
       "    </tr>\n",
       "    <tr>\n",
       "      <th>010ebe33f668</th>\n",
       "      <td>0.0</td>\n",
       "      <td>0.0</td>\n",
       "      <td>0.0</td>\n",
       "      <td>0.0</td>\n",
       "      <td>0.0</td>\n",
       "      <td>0.0</td>\n",
       "      <td>0.0</td>\n",
       "      <td>0.0</td>\n",
       "      <td>0.0</td>\n",
       "      <td>0.0</td>\n",
       "      <td>...</td>\n",
       "      <td>0.0</td>\n",
       "      <td>0.0</td>\n",
       "      <td>0.0</td>\n",
       "      <td>0.0</td>\n",
       "      <td>0.0</td>\n",
       "      <td>0.0</td>\n",
       "      <td>0.0</td>\n",
       "      <td>0.0</td>\n",
       "      <td>0.0</td>\n",
       "      <td>0.0</td>\n",
       "    </tr>\n",
       "    <tr>\n",
       "      <th>02fa521e1838</th>\n",
       "      <td>0.0</td>\n",
       "      <td>0.0</td>\n",
       "      <td>0.0</td>\n",
       "      <td>0.0</td>\n",
       "      <td>0.0</td>\n",
       "      <td>0.0</td>\n",
       "      <td>0.0</td>\n",
       "      <td>0.0</td>\n",
       "      <td>0.0</td>\n",
       "      <td>0.0</td>\n",
       "      <td>...</td>\n",
       "      <td>0.0</td>\n",
       "      <td>0.0</td>\n",
       "      <td>0.0</td>\n",
       "      <td>0.0</td>\n",
       "      <td>0.0</td>\n",
       "      <td>0.0</td>\n",
       "      <td>0.0</td>\n",
       "      <td>0.0</td>\n",
       "      <td>0.0</td>\n",
       "      <td>0.0</td>\n",
       "    </tr>\n",
       "    <tr>\n",
       "      <th>040e15f562a2</th>\n",
       "      <td>0.0</td>\n",
       "      <td>0.0</td>\n",
       "      <td>0.0</td>\n",
       "      <td>0.0</td>\n",
       "      <td>0.0</td>\n",
       "      <td>0.0</td>\n",
       "      <td>0.0</td>\n",
       "      <td>0.0</td>\n",
       "      <td>0.0</td>\n",
       "      <td>0.0</td>\n",
       "      <td>...</td>\n",
       "      <td>0.0</td>\n",
       "      <td>0.0</td>\n",
       "      <td>0.0</td>\n",
       "      <td>0.0</td>\n",
       "      <td>0.0</td>\n",
       "      <td>0.0</td>\n",
       "      <td>0.0</td>\n",
       "      <td>0.0</td>\n",
       "      <td>0.0</td>\n",
       "      <td>0.0</td>\n",
       "    </tr>\n",
       "    <tr>\n",
       "      <th>046e85c7cc7f</th>\n",
       "      <td>0.0</td>\n",
       "      <td>0.0</td>\n",
       "      <td>0.0</td>\n",
       "      <td>0.0</td>\n",
       "      <td>0.0</td>\n",
       "      <td>0.0</td>\n",
       "      <td>0.0</td>\n",
       "      <td>0.0</td>\n",
       "      <td>0.0</td>\n",
       "      <td>0.0</td>\n",
       "      <td>...</td>\n",
       "      <td>0.0</td>\n",
       "      <td>0.0</td>\n",
       "      <td>0.0</td>\n",
       "      <td>0.0</td>\n",
       "      <td>0.0</td>\n",
       "      <td>0.0</td>\n",
       "      <td>0.0</td>\n",
       "      <td>0.0</td>\n",
       "      <td>0.0</td>\n",
       "      <td>0.0</td>\n",
       "    </tr>\n",
       "  </tbody>\n",
       "</table>\n",
       "<p>5 rows × 56 columns</p>\n",
       "</div>"
      ],
      "text/plain": [
       "               AB   AF        AH   AM   AR   AX   AY   AZ   BC  BD   ...   FI  \\\n",
       "Id                                                                   ...        \n",
       "00eed32682bb  0.0  0.0  np.nan.0  0.0  0.0  0.0  0.0  0.0  0.0  0.0  ...  0.0   \n",
       "010ebe33f668  0.0  0.0       0.0  0.0  0.0  0.0  0.0  0.0  0.0  0.0  ...  0.0   \n",
       "02fa521e1838  0.0  0.0       0.0  0.0  0.0  0.0  0.0  0.0  0.0  0.0  ...  0.0   \n",
       "040e15f562a2  0.0  0.0       0.0  0.0  0.0  0.0  0.0  0.0  0.0  0.0  ...  0.0   \n",
       "046e85c7cc7f  0.0  0.0       0.0  0.0  0.0  0.0  0.0  0.0  0.0  0.0  ...  0.0   \n",
       "\n",
       "               FL   FR   FS   GB   GE   GF   GH   GI   GL  \n",
       "Id                                                         \n",
       "00eed32682bb  0.0  0.0  0.0  0.0  0.0  0.0  0.0  0.0  0.0  \n",
       "010ebe33f668  0.0  0.0  0.0  0.0  0.0  0.0  0.0  0.0  0.0  \n",
       "02fa521e1838  0.0  0.0  0.0  0.0  0.0  0.0  0.0  0.0  0.0  \n",
       "040e15f562a2  0.0  0.0  0.0  0.0  0.0  0.0  0.0  0.0  0.0  \n",
       "046e85c7cc7f  0.0  0.0  0.0  0.0  0.0  0.0  0.0  0.0  0.0  \n",
       "\n",
       "[5 rows x 56 columns]"
      ]
     },
     "execution_count": 16,
     "metadata": {},
     "output_type": "execute_result"
    }
   ],
   "source": [
    "test.head()"
   ]
  },
  {
   "cell_type": "code",
   "execution_count": 18,
   "metadata": {
    "_cell_guid": "e143921d-d454-47a2-b71b-65545512f587",
    "_uuid": "c8df3e0d-acf1-40db-ad1a-1849c08df9ac",
    "execution": {
     "iopub.execute_input": "2023-07-13T01:35:57.325269Z",
     "iopub.status.busy": "2023-07-13T01:35:57.324837Z",
     "iopub.status.idle": "2023-07-13T01:35:57.385955Z",
     "shell.execute_reply": "2023-07-13T01:35:57.384535Z",
     "shell.execute_reply.started": "2023-07-13T01:35:57.325237Z"
    },
    "jupyter": {
     "outputs_hidden": false
    }
   },
   "outputs": [
    {
     "name": "stdout",
     "output_type": "stream",
     "text": [
      "[0.38640099 0.38640099 0.38640099 0.38640099 0.38640099]\n"
     ]
    }
   ],
   "source": [
    "y_pred = []\n",
    "for model in Models:\n",
    "    y_pred_proba = model.predict_proba(test_df)[:, 1]  # 取第一列的概率值（正类的概率）\n",
    "    y_pred.append(y_pred_proba)\n",
    "\n",
    "# 模型融合（平均概率值）\n",
    "y_pred = np.mean(y_pred, axis=0)\n",
    "print(y_pred)"
   ]
  },
  {
   "cell_type": "code",
   "execution_count": 19,
   "metadata": {
    "_cell_guid": "fe24b52e-a9ae-473e-afcc-99c4c714f0ac",
    "_uuid": "4b671f91-d4d7-4f30-9e4c-55d87e7d8093",
    "execution": {
     "iopub.execute_input": "2023-07-13T01:35:57.978839Z",
     "iopub.status.busy": "2023-07-13T01:35:57.978442Z",
     "iopub.status.idle": "2023-07-13T01:35:57.987700Z",
     "shell.execute_reply": "2023-07-13T01:35:57.986189Z",
     "shell.execute_reply.started": "2023-07-13T01:35:57.978809Z"
    },
    "jupyter": {
     "outputs_hidden": false
    }
   },
   "outputs": [
    {
     "name": "stdout",
     "output_type": "stream",
     "text": [
      "[[0.44363871 0.55636129]\n",
      " [0.44363871 0.55636129]\n",
      " [0.44363871 0.55636129]\n",
      " [0.44363871 0.55636129]\n",
      " [0.44363871 0.55636129]]\n"
     ]
    }
   ],
   "source": [
    "def map_values(value,thred=best_threshold):\n",
    "    \"\"\"根据阈值映射\"\"\"\n",
    "    if value <= thred:\n",
    "        return 0.5 * (value / thred)\n",
    "    else:\n",
    "        return 0.5 + 0.5 * ((value - thred) / 0.65)\n",
    "y_pred = np.vectorize(map_values)(y_pred)\n",
    "pred = np.stack((1-y_pred, y_pred), axis=1)\n",
    "print(pred)"
   ]
  },
  {
   "cell_type": "code",
   "execution_count": 20,
   "metadata": {
    "_cell_guid": "1b50d9ba-ffbd-4f64-b7b7-cc7c260c465c",
    "_uuid": "15b27c60-92ea-46d6-8e1e-cbf0cd1a7854",
    "execution": {
     "iopub.execute_input": "2023-07-13T01:35:58.392196Z",
     "iopub.status.busy": "2023-07-13T01:35:58.391827Z",
     "iopub.status.idle": "2023-07-13T01:35:58.397570Z",
     "shell.execute_reply": "2023-07-13T01:35:58.396176Z",
     "shell.execute_reply.started": "2023-07-13T01:35:58.392169Z"
    },
    "jupyter": {
     "outputs_hidden": false
    }
   },
   "outputs": [],
   "source": [
    "# submission = pd.DataFrame()\n",
    "# submission[\"Id\"] = test_df.index\n",
    "# submission[\"class_0\"] = 1 - y_pred\n",
    "# submission[\"class_1\"] = y_pred\n",
    "# submission.to_csv('submission.csv', index=False)"
   ]
  },
  {
   "cell_type": "code",
   "execution_count": 21,
   "metadata": {
    "execution": {
     "iopub.execute_input": "2023-07-13T01:35:59.310143Z",
     "iopub.status.busy": "2023-07-13T01:35:59.309706Z",
     "iopub.status.idle": "2023-07-13T01:36:01.356154Z",
     "shell.execute_reply": "2023-07-13T01:36:01.354378Z",
     "shell.execute_reply.started": "2023-07-13T01:35:59.310111Z"
    }
   },
   "outputs": [
    {
     "ename": "KeyError",
     "evalue": "'Id'",
     "output_type": "error",
     "traceback": [
      "\u001b[1;31m---------------------------------------------------------------------------\u001b[0m",
      "\u001b[1;31mKeyError\u001b[0m                                  Traceback (most recent call last)",
      "File \u001b[1;32mD:\\ProgramData\\Anaconda3\\lib\\site-packages\\pandas\\core\\indexes\\base.py:3621\u001b[0m, in \u001b[0;36mIndex.get_loc\u001b[1;34m(self, key, method, tolerance)\u001b[0m\n\u001b[0;32m   3620\u001b[0m \u001b[38;5;28;01mtry\u001b[39;00m:\n\u001b[1;32m-> 3621\u001b[0m     \u001b[38;5;28;01mreturn\u001b[39;00m \u001b[38;5;28;43mself\u001b[39;49m\u001b[38;5;241;43m.\u001b[39;49m\u001b[43m_engine\u001b[49m\u001b[38;5;241;43m.\u001b[39;49m\u001b[43mget_loc\u001b[49m\u001b[43m(\u001b[49m\u001b[43mcasted_key\u001b[49m\u001b[43m)\u001b[49m\n\u001b[0;32m   3622\u001b[0m \u001b[38;5;28;01mexcept\u001b[39;00m \u001b[38;5;167;01mKeyError\u001b[39;00m \u001b[38;5;28;01mas\u001b[39;00m err:\n",
      "File \u001b[1;32mD:\\ProgramData\\Anaconda3\\lib\\site-packages\\pandas\\_libs\\index.pyx:136\u001b[0m, in \u001b[0;36mpandas._libs.index.IndexEngine.get_loc\u001b[1;34m()\u001b[0m\n",
      "File \u001b[1;32mD:\\ProgramData\\Anaconda3\\lib\\site-packages\\pandas\\_libs\\index.pyx:163\u001b[0m, in \u001b[0;36mpandas._libs.index.IndexEngine.get_loc\u001b[1;34m()\u001b[0m\n",
      "File \u001b[1;32mpandas\\_libs\\hashtable_class_helper.pxi:5198\u001b[0m, in \u001b[0;36mpandas._libs.hashtable.PyObjectHashTable.get_item\u001b[1;34m()\u001b[0m\n",
      "File \u001b[1;32mpandas\\_libs\\hashtable_class_helper.pxi:5206\u001b[0m, in \u001b[0;36mpandas._libs.hashtable.PyObjectHashTable.get_item\u001b[1;34m()\u001b[0m\n",
      "\u001b[1;31mKeyError\u001b[0m: 'Id'",
      "\nThe above exception was the direct cause of the following exception:\n",
      "\u001b[1;31mKeyError\u001b[0m                                  Traceback (most recent call last)",
      "Input \u001b[1;32mIn [21]\u001b[0m, in \u001b[0;36m<cell line: 1>\u001b[1;34m()\u001b[0m\n\u001b[1;32m----> 1\u001b[0m submission \u001b[38;5;241m=\u001b[39m pd\u001b[38;5;241m.\u001b[39mDataFrame(\u001b[43mtest\u001b[49m\u001b[43m[\u001b[49m\u001b[38;5;124;43m\"\u001b[39;49m\u001b[38;5;124;43mId\u001b[39;49m\u001b[38;5;124;43m\"\u001b[39;49m\u001b[43m]\u001b[49m, columns \u001b[38;5;241m=\u001b[39m [\u001b[38;5;124m\"\u001b[39m\u001b[38;5;124mId\u001b[39m\u001b[38;5;124m\"\u001b[39m]);\n\u001b[0;32m      2\u001b[0m submission[\u001b[38;5;124m\"\u001b[39m\u001b[38;5;124mclass_0\u001b[39m\u001b[38;5;124m\"\u001b[39m] \u001b[38;5;241m=\u001b[39m \u001b[38;5;241m1\u001b[39m \u001b[38;5;241m-\u001b[39m y_pred\n\u001b[0;32m      3\u001b[0m submission[\u001b[38;5;124m\"\u001b[39m\u001b[38;5;124mclass_1\u001b[39m\u001b[38;5;124m\"\u001b[39m] \u001b[38;5;241m=\u001b[39m y_pred\n",
      "File \u001b[1;32mD:\\ProgramData\\Anaconda3\\lib\\site-packages\\pandas\\core\\frame.py:3505\u001b[0m, in \u001b[0;36mDataFrame.__getitem__\u001b[1;34m(self, key)\u001b[0m\n\u001b[0;32m   3503\u001b[0m \u001b[38;5;28;01mif\u001b[39;00m \u001b[38;5;28mself\u001b[39m\u001b[38;5;241m.\u001b[39mcolumns\u001b[38;5;241m.\u001b[39mnlevels \u001b[38;5;241m>\u001b[39m \u001b[38;5;241m1\u001b[39m:\n\u001b[0;32m   3504\u001b[0m     \u001b[38;5;28;01mreturn\u001b[39;00m \u001b[38;5;28mself\u001b[39m\u001b[38;5;241m.\u001b[39m_getitem_multilevel(key)\n\u001b[1;32m-> 3505\u001b[0m indexer \u001b[38;5;241m=\u001b[39m \u001b[38;5;28;43mself\u001b[39;49m\u001b[38;5;241;43m.\u001b[39;49m\u001b[43mcolumns\u001b[49m\u001b[38;5;241;43m.\u001b[39;49m\u001b[43mget_loc\u001b[49m\u001b[43m(\u001b[49m\u001b[43mkey\u001b[49m\u001b[43m)\u001b[49m\n\u001b[0;32m   3506\u001b[0m \u001b[38;5;28;01mif\u001b[39;00m is_integer(indexer):\n\u001b[0;32m   3507\u001b[0m     indexer \u001b[38;5;241m=\u001b[39m [indexer]\n",
      "File \u001b[1;32mD:\\ProgramData\\Anaconda3\\lib\\site-packages\\pandas\\core\\indexes\\base.py:3623\u001b[0m, in \u001b[0;36mIndex.get_loc\u001b[1;34m(self, key, method, tolerance)\u001b[0m\n\u001b[0;32m   3621\u001b[0m     \u001b[38;5;28;01mreturn\u001b[39;00m \u001b[38;5;28mself\u001b[39m\u001b[38;5;241m.\u001b[39m_engine\u001b[38;5;241m.\u001b[39mget_loc(casted_key)\n\u001b[0;32m   3622\u001b[0m \u001b[38;5;28;01mexcept\u001b[39;00m \u001b[38;5;167;01mKeyError\u001b[39;00m \u001b[38;5;28;01mas\u001b[39;00m err:\n\u001b[1;32m-> 3623\u001b[0m     \u001b[38;5;28;01mraise\u001b[39;00m \u001b[38;5;167;01mKeyError\u001b[39;00m(key) \u001b[38;5;28;01mfrom\u001b[39;00m \u001b[38;5;21;01merr\u001b[39;00m\n\u001b[0;32m   3624\u001b[0m \u001b[38;5;28;01mexcept\u001b[39;00m \u001b[38;5;167;01mTypeError\u001b[39;00m:\n\u001b[0;32m   3625\u001b[0m     \u001b[38;5;66;03m# If we have a listlike key, _check_indexing_error will raise\u001b[39;00m\n\u001b[0;32m   3626\u001b[0m     \u001b[38;5;66;03m#  InvalidIndexError. Otherwise we fall through and re-raise\u001b[39;00m\n\u001b[0;32m   3627\u001b[0m     \u001b[38;5;66;03m#  the TypeError.\u001b[39;00m\n\u001b[0;32m   3628\u001b[0m     \u001b[38;5;28mself\u001b[39m\u001b[38;5;241m.\u001b[39m_check_indexing_error(key)\n",
      "\u001b[1;31mKeyError\u001b[0m: 'Id'"
     ]
    }
   ],
   "source": [
    "submission = pd.DataFrame(test[\"Id\"], columns = [\"Id\"]);\n",
    "submission[\"class_0\"] = 1 - y_pred\n",
    "submission[\"class_1\"] = y_pred\n",
    "\n",
    "submission.to_csv('submission.csv', index = None);\n",
    "submission_df = pd.read_csv('submission.csv')"
   ]
  },
  {
   "cell_type": "code",
   "execution_count": 16,
   "metadata": {
    "execution": {
     "iopub.execute_input": "2023-07-13T01:05:28.875035Z",
     "iopub.status.busy": "2023-07-13T01:05:28.873829Z",
     "iopub.status.idle": "2023-07-13T01:05:28.902151Z",
     "shell.execute_reply": "2023-07-13T01:05:28.900997Z",
     "shell.execute_reply.started": "2023-07-13T01:05:28.874991Z"
    }
   },
   "outputs": [
    {
     "data": {
      "text/html": [
       "<div>\n",
       "<style scoped>\n",
       "    .dataframe tbody tr th:only-of-type {\n",
       "        vertical-align: middle;\n",
       "    }\n",
       "\n",
       "    .dataframe tbody tr th {\n",
       "        vertical-align: top;\n",
       "    }\n",
       "\n",
       "    .dataframe thead th {\n",
       "        text-align: right;\n",
       "    }\n",
       "</style>\n",
       "<table border=\"1\" class=\"dataframe\">\n",
       "  <thead>\n",
       "    <tr style=\"text-align: right;\">\n",
       "      <th></th>\n",
       "      <th>Id</th>\n",
       "      <th>class_0</th>\n",
       "      <th>class_1</th>\n",
       "    </tr>\n",
       "  </thead>\n",
       "  <tbody>\n",
       "    <tr>\n",
       "      <th>0</th>\n",
       "      <td>00eed32682bb</td>\n",
       "      <td>0.311605</td>\n",
       "      <td>0.688395</td>\n",
       "    </tr>\n",
       "    <tr>\n",
       "      <th>1</th>\n",
       "      <td>010ebe33f668</td>\n",
       "      <td>0.311605</td>\n",
       "      <td>0.688395</td>\n",
       "    </tr>\n",
       "    <tr>\n",
       "      <th>2</th>\n",
       "      <td>02fa521e1838</td>\n",
       "      <td>0.311605</td>\n",
       "      <td>0.688395</td>\n",
       "    </tr>\n",
       "    <tr>\n",
       "      <th>3</th>\n",
       "      <td>040e15f562a2</td>\n",
       "      <td>0.311605</td>\n",
       "      <td>0.688395</td>\n",
       "    </tr>\n",
       "    <tr>\n",
       "      <th>4</th>\n",
       "      <td>046e85c7cc7f</td>\n",
       "      <td>0.311605</td>\n",
       "      <td>0.688395</td>\n",
       "    </tr>\n",
       "  </tbody>\n",
       "</table>\n",
       "</div>"
      ],
      "text/plain": [
       "             Id   class_0   class_1\n",
       "0  00eed32682bb  0.311605  0.688395\n",
       "1  010ebe33f668  0.311605  0.688395\n",
       "2  02fa521e1838  0.311605  0.688395\n",
       "3  040e15f562a2  0.311605  0.688395\n",
       "4  046e85c7cc7f  0.311605  0.688395"
      ]
     },
     "execution_count": 16,
     "metadata": {},
     "output_type": "execute_result"
    }
   ],
   "source": [
    "submission_df"
   ]
  },
  {
   "cell_type": "code",
   "execution_count": null,
   "metadata": {},
   "outputs": [],
   "source": []
  }
 ],
 "metadata": {
  "kernelspec": {
   "display_name": "Python 3 (ipykernel)",
   "language": "python",
   "name": "python3"
  },
  "language_info": {
   "codemirror_mode": {
    "name": "ipython",
    "version": 3
   },
   "file_extension": ".py",
   "mimetype": "text/x-python",
   "name": "python",
   "nbconvert_exporter": "python",
   "pygments_lexer": "ipython3",
   "version": "3.9.12"
  }
 },
 "nbformat": 4,
 "nbformat_minor": 4
}
