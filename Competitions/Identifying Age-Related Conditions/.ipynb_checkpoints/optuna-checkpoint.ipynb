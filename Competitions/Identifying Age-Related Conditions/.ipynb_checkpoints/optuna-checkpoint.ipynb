{
 "cells": [
  {
   "cell_type": "code",
   "execution_count": 1,
   "id": "94f0b9cf",
   "metadata": {},
   "outputs": [],
   "source": [
    "import pandas as pd\n",
    "import numpy as np\n",
    "import seaborn as sns\n",
    "import matplotlib.pyplot as plt\n",
    "\n",
    "from sklearn.model_selection import KFold\n",
    "import lightgbm as lgb\n",
    "from sklearn.metrics import mean_squared_error\n",
    "from sklearn.datasets import load_iris\n",
    "from sklearn.model_selection import train_test_split\n",
    "from sklearn.feature_selection import SelectKBest, mutual_info_classif\n",
    "from sklearn.ensemble import RandomForestClassifier\n",
    "from sklearn.svm import SVC\n",
    "from sklearn.metrics import classification_report\n",
    "import lightgbm as lgb\n",
    "import catboost as cb\n",
    "import xgboost as xgb"
   ]
  },
  {
   "cell_type": "code",
   "execution_count": 2,
   "id": "3e8929b6",
   "metadata": {},
   "outputs": [],
   "source": [
    "dataset_df = pd.read_csv('train.csv')\n",
    "dataset_df['EJ'] = dataset_df['EJ'].replace({'A':0, 'B':1})\n",
    "dataset_df = dataset_df.iloc[:,1:]"
   ]
  },
  {
   "cell_type": "code",
   "execution_count": 3,
   "id": "b4db6b6b",
   "metadata": {},
   "outputs": [],
   "source": [
    "feature_columns = dataset_df.columns[:-1]  # 假设最后一列为目标变量，不需要处理\n",
    "\n",
    "# 针对每个特征列，将无穷大值替换为前 97% 大的值\n",
    "for column in feature_columns:\n",
    "    # 计算前 97% 大的值\n",
    "    percentile = 0.98\n",
    "    threshold = dataset_df[column].quantile(percentile)\n",
    "    \n",
    "    # 将无穷大值替换为前 97% 大的值\n",
    "    dataset_df[column] = dataset_df[column].replace(np.inf, threshold)"
   ]
  },
  {
   "cell_type": "code",
   "execution_count": 4,
   "id": "3a2a26a4",
   "metadata": {},
   "outputs": [],
   "source": [
    "# 计算特征的均值\n",
    "mean_values = dataset_df.mean()\n",
    "# 填充缺失值为特征的均值\n",
    "dataset_df = dataset_df.fillna(mean_values)"
   ]
  },
  {
   "cell_type": "code",
   "execution_count": 5,
   "id": "e7b0fd5a",
   "metadata": {},
   "outputs": [
    {
     "name": "stdout",
     "output_type": "stream",
     "text": [
      "Index(['AB', 'AF', 'AH', 'AM', 'AR', 'AX', 'AY', 'BC', 'BD ', 'BN', 'BP', 'BQ',\n",
      "       'BR', 'CC', 'CD ', 'CF', 'CR', 'CS', 'CW ', 'DA', 'DE', 'DF', 'DH',\n",
      "       'DI', 'DL', 'DN', 'DU', 'DV', 'DY', 'EB', 'EE', 'EG', 'EH', 'EJ', 'EL',\n",
      "       'EP', 'EU', 'FC', 'FD ', 'FE', 'FI', 'FL', 'FR', 'FS', 'GB', 'GE', 'GF',\n",
      "       'GH', 'GI', 'GL'],\n",
      "      dtype='object')\n"
     ]
    }
   ],
   "source": [
    "# 分割特征和类别\n",
    "X = dataset_df.iloc[:, :-1]  # 特征\n",
    "y = dataset_df.iloc[:, -1]   # 类别\n",
    "X = X.dropna()  # 删除包含缺失值的行\n",
    "y = y[X.index]  # 保持与特征对应的类别\n",
    "\n",
    "# 对非数值类型特征进行独热编码\n",
    "X_encoded = pd.get_dummies(X)\n",
    "\n",
    "# 初始化特征选择器\n",
    "k = 50  # 选择前k个重要特征\n",
    "selector = SelectKBest(score_func=mutual_info_classif, k=k)\n",
    "\n",
    "# 特征选择\n",
    "X_selected = selector.fit_transform(X_encoded, y)\n",
    "\n",
    "# 获取选择的特征索引\n",
    "selected_feature_indices = selector.get_support(indices=True)\n",
    "\n",
    "# 获取选择的特征名称\n",
    "selected_features = X_encoded.columns[selected_feature_indices]\n",
    "# selected_features = selected_features[:-2].append(pd.Index(['EJ']))\n",
    "# 输出选择的特征\n",
    "print(selected_features)"
   ]
  },
  {
   "cell_type": "code",
   "execution_count": 6,
   "id": "d3aadd46",
   "metadata": {},
   "outputs": [],
   "source": [
    "X_train, y_train = dataset_df.loc[:, selected_features], dataset_df.iloc[:, -1]"
   ]
  },
  {
   "cell_type": "code",
   "execution_count": 22,
   "id": "8c5a17c2",
   "metadata": {},
   "outputs": [
    {
     "name": "stdout",
     "output_type": "stream",
     "text": [
      "              precision    recall  f1-score   support\n",
      "\n",
      "           0       0.98      0.99      0.99       101\n",
      "           1       0.95      0.91      0.93        23\n",
      "\n",
      "    accuracy                           0.98       124\n",
      "   macro avg       0.97      0.95      0.96       124\n",
      "weighted avg       0.98      0.98      0.98       124\n",
      "\n",
      "              precision    recall  f1-score   support\n",
      "\n",
      "           0       0.97      0.98      0.97        98\n",
      "           1       0.92      0.88      0.90        26\n",
      "\n",
      "    accuracy                           0.96       124\n",
      "   macro avg       0.94      0.93      0.94       124\n",
      "weighted avg       0.96      0.96      0.96       124\n",
      "\n",
      "              precision    recall  f1-score   support\n",
      "\n",
      "           0       0.98      0.97      0.98       107\n",
      "           1       0.82      0.88      0.85        16\n",
      "\n",
      "    accuracy                           0.96       123\n",
      "   macro avg       0.90      0.92      0.91       123\n",
      "weighted avg       0.96      0.96      0.96       123\n",
      "\n",
      "              precision    recall  f1-score   support\n",
      "\n",
      "           0       0.93      0.99      0.96       101\n",
      "           1       0.94      0.68      0.79        22\n",
      "\n",
      "    accuracy                           0.93       123\n",
      "   macro avg       0.94      0.84      0.88       123\n",
      "weighted avg       0.94      0.93      0.93       123\n",
      "\n",
      "              precision    recall  f1-score   support\n",
      "\n",
      "           0       0.96      0.98      0.97       102\n",
      "           1       0.89      0.81      0.85        21\n",
      "\n",
      "    accuracy                           0.95       123\n",
      "   macro avg       0.93      0.89      0.91       123\n",
      "weighted avg       0.95      0.95      0.95       123\n",
      "\n",
      "0.9758064516129032\n",
      "0.30303030303030304\n"
     ]
    }
   ],
   "source": [
    "Models = []\n",
    "best_acu = 0\n",
    "best_threshold = 0\n",
    "# 定义交叉验证的折数\n",
    "n_folds = 5\n",
    "kf = KFold(n_splits=n_folds, shuffle=True, random_state=42)\n",
    "\n",
    "# 定义模型列表\n",
    "models = [\n",
    "    lgb.LGBMClassifier(verbose=-1, random_state=42),\n",
    "    cb.CatBoostClassifier(logging_level='Silent', random_seed=42),\n",
    "    xgb.XGBClassifier(verbosity=0, seed=42),\n",
    "    RandomForestClassifier(random_state=42),\n",
    "    SVC(probability=True, random_state=42)  # 设置 probability=True 以输出概率\n",
    "]\n",
    "\n",
    "for train_index, valid_index in kf.split(X_train):\n",
    "    \n",
    "    X_tr, X_val = X_train.iloc[train_index], X_train.iloc[valid_index]\n",
    "    y_tr, y_val = y_train.iloc[train_index], y_train.iloc[valid_index]\n",
    "    \n",
    "    # 训练模型\n",
    "    for model in models:\n",
    "        model.fit(X_tr, y_tr)\n",
    "\n",
    "    # 预测结果的概率值\n",
    "    y_pred_proba_list = []\n",
    "    for model in models:\n",
    "        y_pred_proba = model.predict_proba(X_val)[:, 1]  # 取第一列的概率值（正类的概率）\n",
    "        y_pred_proba_list.append(y_pred_proba)\n",
    "\n",
    "    # 模型融合（平均概率值）\n",
    "    y_pred_ensemble_proba = np.mean(y_pred_proba_list, axis=0)\n",
    "    \n",
    "    #选取最佳阈值\n",
    "    thresholds = np.linspace(0, 1, 100)\n",
    "    temp_acu = 0\n",
    "    temp_thred = 0\n",
    "    for threshold in thresholds:\n",
    "        # 计算最佳阈值\n",
    "        y_pred_ensemble = np.where(y_pred_ensemble_proba >= threshold, 1, 0)\n",
    "        accuracy = np.mean(y_pred_ensemble == y_val)\n",
    "        if accuracy >= temp_acu:\n",
    "            temp_acu = accuracy\n",
    "            temp_thred = threshold\n",
    "            temp_y_pred = y_pred_ensemble\n",
    "    print(classification_report(y_val, temp_y_pred))\n",
    "    \n",
    "    # 保存最优模型和最优阈值\n",
    "    if temp_acu >= best_acu:\n",
    "        Models = models\n",
    "        best_acu = temp_acu\n",
    "        best_threshold = temp_thred\n",
    "print(best_acu)\n",
    "print(best_threshold)"
   ]
  },
  {
   "cell_type": "code",
   "execution_count": 23,
   "id": "85ca510e",
   "metadata": {},
   "outputs": [],
   "source": [
    "test_df = pd.read_csv('test.csv')\n",
    "test_df = test_df.loc[:, selected_features]\n",
    "test_df['EJ'] = test_df['EJ'].replace({'A':0, 'B':1})"
   ]
  },
  {
   "cell_type": "code",
   "execution_count": 24,
   "id": "b4f1ed17",
   "metadata": {},
   "outputs": [
    {
     "name": "stdout",
     "output_type": "stream",
     "text": [
      "[0.39831778 0.39831778 0.39831778 0.39831778 0.39831778]\n"
     ]
    }
   ],
   "source": [
    "y_pred = []\n",
    "for model in Models:\n",
    "    y_pred_proba = model.predict_proba(test_df)[:, 1]  # 取第一列的概率值（正类的概率）\n",
    "    y_pred.append(y_pred_proba)\n",
    "\n",
    "# 模型融合（平均概率值）\n",
    "y_pred = np.mean(y_pred, axis=0)\n",
    "print(y_pred)"
   ]
  },
  {
   "cell_type": "code",
   "execution_count": 25,
   "id": "5715d971",
   "metadata": {},
   "outputs": [
    {
     "name": "stdout",
     "output_type": "stream",
     "text": [
      "[[0.42670194 0.57329806]\n",
      " [0.42670194 0.57329806]\n",
      " [0.42670194 0.57329806]\n",
      " [0.42670194 0.57329806]\n",
      " [0.42670194 0.57329806]]\n"
     ]
    }
   ],
   "source": [
    "def map_values(value,thred=best_threshold):\n",
    "    \"\"\"根据阈值映射\"\"\"\n",
    "    if value <= thred:\n",
    "        return 0.5 * (value / thred)\n",
    "    else:\n",
    "        return 0.5 + 0.5 * ((value - thred) / 0.65)\n",
    "y_pred = np.vectorize(map_values)(y_pred)\n",
    "pred = np.stack((1-y_pred, y_pred), axis=1)\n",
    "print(pred)"
   ]
  },
  {
   "cell_type": "code",
   "execution_count": 26,
   "id": "f63b8922",
   "metadata": {},
   "outputs": [],
   "source": [
    "sample_submission = pd.read_csv(\"sample_submission.csv\")\n",
    "sample_submission[['class_0', 'class_1']] = pred\n",
    "sample_submission.to_csv('submission.csv', index=False)"
   ]
  },
  {
   "cell_type": "code",
   "execution_count": null,
   "id": "192d47f8",
   "metadata": {},
   "outputs": [],
   "source": []
  }
 ],
 "metadata": {
  "kernelspec": {
   "display_name": "Python 3 (ipykernel)",
   "language": "python",
   "name": "python3"
  },
  "language_info": {
   "codemirror_mode": {
    "name": "ipython",
    "version": 3
   },
   "file_extension": ".py",
   "mimetype": "text/x-python",
   "name": "python",
   "nbconvert_exporter": "python",
   "pygments_lexer": "ipython3",
   "version": "3.9.12"
  }
 },
 "nbformat": 4,
 "nbformat_minor": 5
}
