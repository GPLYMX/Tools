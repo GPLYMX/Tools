{
 "cells": [
  {
   "cell_type": "code",
   "execution_count": 4,
   "id": "ed2b6bf0",
   "metadata": {},
   "outputs": [],
   "source": [
    "import os\n",
    "import json"
   ]
  },
  {
   "cell_type": "code",
   "execution_count": 47,
   "id": "13e4d361",
   "metadata": {},
   "outputs": [],
   "source": [
    "def judge_fit(json_info, category='白', confidence_index=[0.9, 1]):\n",
    "    vote_num = []\n",
    "    for cat in json_info.keys():\n",
    "        vote_num.append(json_info[cat])\n",
    "    rate = json_info[category] / sum(vote_num)\n",
    "    if (rate >= confidence_index[0]) & (confidence_index[1]>=rate):\n",
    "        return True\n",
    "    else:\n",
    "        return False"
   ]
  },
  {
   "cell_type": "code",
   "execution_count": 54,
   "id": "f914679e",
   "metadata": {},
   "outputs": [],
   "source": [
    "def extract_info(label_filename='second_total_detail(20220808)_sm.json',task='苔色', category='淡黄', confidence_index=[0.8, 1]):\n",
    "    with open(label_filename, 'r', encoding='utf-8') as f:\n",
    "        json_data = json.load(f)\n",
    "        for img in json_data.keys():\n",
    "            flag = judge_fit(json_data[img][task], category, confidence_index)\n",
    "            if flag:\n",
    "                print(img)\n",
    "                print(json_data[img][task])"
   ]
  },
  {
   "cell_type": "code",
   "execution_count": 55,
   "id": "3d4ec6b8",
   "metadata": {},
   "outputs": [
    {
     "name": "stdout",
     "output_type": "stream",
     "text": [
      "20220510110651-1\n",
      "{'白': 1.0, '淡黄': 22.0, '黄': 3.0, '焦黄': 0.0, '灰黑': 0.0}\n",
      "20220511085738-1\n",
      "{'白': 1.0, '淡黄': 20.0, '黄': 4.0, '焦黄': 0.0, '灰黑': 0.0}\n",
      "20220514084108-1\n",
      "{'白': 1.0, '淡黄': 18.0, '黄': 3.0, '焦黄': 0.0, '灰黑': 0.0}\n",
      "20220516110944-1\n",
      "{'白': 1.0, '淡黄': 19.0, '黄': 2.0, '焦黄': 0.0, '灰黑': 0.0}\n",
      "20220518152944-1\n",
      "{'白': 4.0, '淡黄': 19.0, '黄': 0.0, '焦黄': 0.0, '灰黑': 0.0}\n",
      "20220521104346-1\n",
      "{'白': 4.0, '淡黄': 19.0, '黄': 0.0, '焦黄': 0.0, '灰黑': 0.0}\n",
      "20220521121858-1\n",
      "{'白': 1.0, '淡黄': 19.0, '黄': 3.0, '焦黄': 0.0, '灰黑': 0.0}\n",
      "20220522003124-1\n",
      "{'白': 1.0, '淡黄': 21.0, '黄': 2.0, '焦黄': 0.0, '灰黑': 0.0}\n",
      "20220522083806-1\n",
      "{'白': 3.0, '淡黄': 19.0, '黄': 1.0, '焦黄': 0.0, '灰黑': 0.0}\n",
      "20220530111727-1\n",
      "{'白': 1.0, '淡黄': 22.0, '黄': 1.0, '焦黄': 0.0, '灰黑': 0.0}\n",
      "20220602182530-1\n",
      "{'白': 3.0, '淡黄': 21.0, '黄': 2.0, '焦黄': 0.0, '灰黑': 0.0}\n",
      "20220605102833-1\n",
      "{'白': 2.0, '淡黄': 20.0, '黄': 3.0, '焦黄': 0.0, '灰黑': 0.0}\n",
      "20220726092821-1\n",
      "{'白': 1.0, '淡黄': 19.0, '黄': 1.0, '焦黄': 1.0, '灰黑': 0.0}\n"
     ]
    }
   ],
   "source": [
    "extract_info(label_filename='second_total_detail(20220808)_sm.json')"
   ]
  },
  {
   "cell_type": "code",
   "execution_count": 56,
   "id": "3a795ac5",
   "metadata": {},
   "outputs": [
    {
     "name": "stdout",
     "output_type": "stream",
     "text": [
      "225\n",
      "{'白': 2.0, '淡黄': 27.0, '黄': 3.0, '焦黄': 0.0, '灰黑': 0.0}\n"
     ]
    }
   ],
   "source": [
    "extract_info(label_filename='second_total_detail(20220929)_sm.json')"
   ]
  },
  {
   "cell_type": "code",
   "execution_count": null,
   "id": "576189d5",
   "metadata": {},
   "outputs": [],
   "source": []
  }
 ],
 "metadata": {
  "kernelspec": {
   "display_name": "Python 3 (ipykernel)",
   "language": "python",
   "name": "python3"
  },
  "language_info": {
   "codemirror_mode": {
    "name": "ipython",
    "version": 3
   },
   "file_extension": ".py",
   "mimetype": "text/x-python",
   "name": "python",
   "nbconvert_exporter": "python",
   "pygments_lexer": "ipython3",
   "version": "3.9.12"
  }
 },
 "nbformat": 4,
 "nbformat_minor": 5
}
