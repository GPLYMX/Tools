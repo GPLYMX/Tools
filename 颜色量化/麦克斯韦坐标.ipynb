{
 "cells": [
  {
   "cell_type": "code",
   "execution_count": 76,
   "id": "26866956",
   "metadata": {},
   "outputs": [],
   "source": [
    "import os\n",
    "\n",
    "import cv2 as cv\n",
    "import numpy as np\n",
    "import pandas as pd\n",
    "from matplotlib import pyplot as plt\n",
    "from tqdm import tqdm"
   ]
  },
  {
   "cell_type": "code",
   "execution_count": 113,
   "id": "a205c08b",
   "metadata": {},
   "outputs": [],
   "source": [
    "def cal_pixel(img_root, ttype='mean'):\n",
    "    \"\"\"\n",
    "    输入：图片地址\n",
    "    图片非黑色的像素的各通道平均值\n",
    "    \"\"\"\n",
    "    img = cv.imread(img_root)\n",
    "    piexl_mean = []\n",
    "    for channel in range(3):\n",
    "        lst = []\n",
    "        for i in img[:,:,channel]:\n",
    "            for j in i:\n",
    "                if j != 0:\n",
    "                    lst.append(j)\n",
    "        if ttype == 'median':\n",
    "            lst = sorted(lst)\n",
    "            temp = lst[int(len(lst)/2)]\n",
    "        elif ttype == 'midpiece':\n",
    "            lst = sorted(lst)\n",
    "            temp = lst[int(len(lst)/3):int(len(lst)/3*2)]\n",
    "            temp = sum(temp)/len(temp)\n",
    "        else:\n",
    "            temp = sum(lst)/len(lst)\n",
    "        piexl_mean.append(temp)\n",
    "    \n",
    "    # 返回值为一个列表，eg：[41.54551997121267, 36.72313797313797, 37.9352688172043]\n",
    "    return piexl_mean"
   ]
  },
  {
   "cell_type": "code",
   "execution_count": 114,
   "id": "c108951d",
   "metadata": {},
   "outputs": [],
   "source": [
    "def cal_RG(piexl_mean):\n",
    "    RG_lst = []\n",
    "    RG_lst.append(piexl_mean[2]/sum(piexl_mean))\n",
    "    RG_lst.append(piexl_mean[1]/sum(piexl_mean))\n",
    "    return RG_lst"
   ]
  },
  {
   "cell_type": "code",
   "execution_count": 115,
   "id": "6ec8298d",
   "metadata": {
    "collapsed": true
   },
   "outputs": [
    {
     "name": "stderr",
     "output_type": "stream",
     "text": [
      "  0%|                                                                                            | 0/5 [00:00<?, ?it/s]\n",
      "  0%|                                                                                         | 0/2344 [00:00<?, ?it/s]\u001b[A\n",
      "  0%|                                                                                 | 2/2344 [00:00<06:06,  6.39it/s]\u001b[A\n",
      "  0%|▏                                                                                | 4/2344 [00:00<06:04,  6.41it/s]\u001b[A\n",
      "  0%|▏                                                                                | 6/2344 [00:01<07:48,  5.00it/s]\u001b[A\n",
      "  0%|▎                                                                                | 8/2344 [00:01<09:49,  3.96it/s]\u001b[A\n",
      "  0%|▎                                                                               | 10/2344 [00:02<10:14,  3.80it/s]\u001b[A\n",
      "  1%|▍                                                                               | 12/2344 [00:02<09:09,  4.24it/s]\u001b[A\n",
      "  1%|▍                                                                               | 14/2344 [00:03<10:47,  3.60it/s]\u001b[A\n",
      "  1%|▌                                                                               | 16/2344 [00:03<09:28,  4.10it/s]\u001b[A\n",
      "  1%|▌                                                                               | 18/2344 [00:04<07:58,  4.86it/s]\u001b[A\n",
      "  1%|▋                                                                               | 20/2344 [00:04<08:08,  4.76it/s]\u001b[A\n",
      "  1%|▊                                                                               | 22/2344 [00:05<08:50,  4.38it/s]\u001b[A\n",
      "  1%|▊                                                                               | 24/2344 [00:05<09:13,  4.19it/s]\u001b[A\n",
      "  1%|▉                                                                               | 26/2344 [00:06<09:20,  4.13it/s]\u001b[A\n",
      "  1%|▉                                                                               | 29/2344 [00:06<09:01,  4.27it/s]\u001b[A\n",
      "  0%|                                                                                            | 0/5 [00:06<?, ?it/s]\n"
     ]
    },
    {
     "ename": "KeyboardInterrupt",
     "evalue": "",
     "output_type": "error",
     "traceback": [
      "\u001b[1;31m---------------------------------------------------------------------------\u001b[0m",
      "\u001b[1;31mKeyboardInterrupt\u001b[0m                         Traceback (most recent call last)",
      "Input \u001b[1;32mIn [115]\u001b[0m, in \u001b[0;36m<cell line: 5>\u001b[1;34m()\u001b[0m\n\u001b[0;32m      6\u001b[0m \u001b[38;5;28;01mfor\u001b[39;00m img \u001b[38;5;129;01min\u001b[39;00m tqdm(os\u001b[38;5;241m.\u001b[39mlistdir(os\u001b[38;5;241m.\u001b[39mpath\u001b[38;5;241m.\u001b[39mjoin(root, filelst))):\n\u001b[0;32m      7\u001b[0m     \u001b[38;5;28;01mif\u001b[39;00m img[\u001b[38;5;241m-\u001b[39m\u001b[38;5;241m7\u001b[39m:] \u001b[38;5;241m==\u001b[39m \u001b[38;5;124m'\u001b[39m\u001b[38;5;124mseg.png\u001b[39m\u001b[38;5;124m'\u001b[39m:\n\u001b[1;32m----> 8\u001b[0m         RG \u001b[38;5;241m=\u001b[39m cal_RG(\u001b[43mcal_pixel\u001b[49m\u001b[43m(\u001b[49m\u001b[43mos\u001b[49m\u001b[38;5;241;43m.\u001b[39;49m\u001b[43mpath\u001b[49m\u001b[38;5;241;43m.\u001b[39;49m\u001b[43mjoin\u001b[49m\u001b[43m(\u001b[49m\u001b[43mroot\u001b[49m\u001b[43m,\u001b[49m\u001b[43m \u001b[49m\u001b[43mfilelst\u001b[49m\u001b[43m,\u001b[49m\u001b[43m \u001b[49m\u001b[43mimg\u001b[49m\u001b[43m)\u001b[49m\u001b[43m)\u001b[49m)\n\u001b[0;32m      9\u001b[0m         lst_x\u001b[38;5;241m.\u001b[39mappend(RG[\u001b[38;5;241m0\u001b[39m])\n\u001b[0;32m     10\u001b[0m         lst_y\u001b[38;5;241m.\u001b[39mappend(RG[\u001b[38;5;241m1\u001b[39m])\n",
      "Input \u001b[1;32mIn [113]\u001b[0m, in \u001b[0;36mcal_pixel\u001b[1;34m(img_root, ttype)\u001b[0m\n\u001b[0;32m     11\u001b[0m     \u001b[38;5;28;01mfor\u001b[39;00m j \u001b[38;5;129;01min\u001b[39;00m i:\n\u001b[0;32m     12\u001b[0m         \u001b[38;5;28;01mif\u001b[39;00m j \u001b[38;5;241m!=\u001b[39m \u001b[38;5;241m0\u001b[39m:\n\u001b[1;32m---> 13\u001b[0m             lst\u001b[38;5;241m.\u001b[39mappend(j)\n\u001b[0;32m     14\u001b[0m \u001b[38;5;28;01mif\u001b[39;00m ttype \u001b[38;5;241m==\u001b[39m \u001b[38;5;124m'\u001b[39m\u001b[38;5;124mmedian\u001b[39m\u001b[38;5;124m'\u001b[39m:\n\u001b[0;32m     15\u001b[0m     lst \u001b[38;5;241m=\u001b[39m \u001b[38;5;28msorted\u001b[39m(lst)\n",
      "\u001b[1;31mKeyboardInterrupt\u001b[0m: "
     ]
    }
   ],
   "source": [
    "root = r'D:\\MyCodes\\pythonProject\\coated_tongue_color\\datas\\data_coated\\category'\n",
    "lst_x = []\n",
    "lst_y = []\n",
    "lst_colors = []\n",
    "for filelst in tqdm(os.listdir(root)):\n",
    "    for img in tqdm(os.listdir(os.path.join(root, filelst))):\n",
    "        if img[-7:] == 'seg.png':\n",
    "            RG = cal_RG(cal_pixel(os.path.join(root, filelst, img)))\n",
    "            lst_x.append(RG[0])\n",
    "            lst_y.append(RG[1])\n",
    "            lst_colors.append(int(filelst)*20)\n",
    "lst_x = np.array(lst_x)\n",
    "lst_y = np.array(lst_y)\n",
    "lst_colors = np.array(lst_colors)"
   ]
  },
  {
   "cell_type": "code",
   "execution_count": null,
   "id": "cfc199f7",
   "metadata": {},
   "outputs": [],
   "source": [
    "plt.scatter(lst_x, lst_y, c=lst_colors, cmap='viridis')\n",
    "plt.show()"
   ]
  },
  {
   "cell_type": "code",
   "execution_count": null,
   "id": "503d3a4a",
   "metadata": {},
   "outputs": [],
   "source": [
    "a = cal_pixel(r'D:\\MyCodes\\pythonProject\\coated_tongue_color\\datas\\data_coated\\category\\0\\20220514114446-1seg.png')"
   ]
  },
  {
   "cell_type": "code",
   "execution_count": null,
   "id": "77885c5a",
   "metadata": {},
   "outputs": [],
   "source": [
    "list(set(lst_colors))"
   ]
  },
  {
   "cell_type": "code",
   "execution_count": 23,
   "id": "5749abaa",
   "metadata": {},
   "outputs": [
    {
     "name": "stderr",
     "output_type": "stream",
     "text": [
      "100%|███████████████████████████████████████████████████████████████████████████| 1440/1440 [00:00<00:00, 16536.79it/s]\n",
      "100%|███████████████████████████████████████████████████████████████████████████| 1440/1440 [00:00<00:00, 17100.85it/s]\n",
      "100%|███████████████████████████████████████████████████████████████████████████| 1440/1440 [00:00<00:00, 16510.39it/s]\n",
      "100%|███████████████████████████████████████████████████████████████████████████| 1440/1440 [00:00<00:00, 17033.57it/s]\n",
      "100%|███████████████████████████████████████████████████████████████████████████| 1440/1440 [00:00<00:00, 18054.36it/s]\n"
     ]
    }
   ],
   "source": [
    "list_x = []\n",
    "list_y = []\n",
    "list_colors = []\n",
    "for idx,color in enumerate(set(lst_colors)):\n",
    "    list_x.append([])\n",
    "    list_y.append([])\n",
    "    for i in tqdm(range(len(lst_colors))):\n",
    "        if lst_colors[i] == list(set(lst_colors))[idx]:\n",
    "            list_x[idx].append(lst_x[i])\n",
    "            list_y[idx].append(lst_y[i])"
   ]
  },
  {
   "cell_type": "code",
   "execution_count": 35,
   "id": "330ced92",
   "metadata": {},
   "outputs": [
    {
     "data": {
      "text/plain": [
       "6"
      ]
     },
     "execution_count": 35,
     "metadata": {},
     "output_type": "execute_result"
    }
   ],
   "source": [
    "len(list_y[2])"
   ]
  },
  {
   "cell_type": "code",
   "execution_count": 37,
   "id": "5d29976f",
   "metadata": {},
   "outputs": [
    {
     "data": {
      "text/plain": [
       "1440"
      ]
     },
     "execution_count": 37,
     "metadata": {},
     "output_type": "execute_result"
    }
   ],
   "source": [
    "len(lst_colors)"
   ]
  },
  {
   "cell_type": "code",
   "execution_count": 116,
   "id": "72e68ef7",
   "metadata": {},
   "outputs": [
    {
     "name": "stderr",
     "output_type": "stream",
     "text": [
      "100%|████████████████████████████████████████████████████████████████████████████| 2344/2344 [1:06:15<00:00,  1.70s/it]\n",
      "100%|████████████████████████████████████████████████████████████████████████████████| 406/406 [10:55<00:00,  1.62s/it]\n",
      "100%|██████████████████████████████████████████████████████████████████████████████████| 98/98 [02:09<00:00,  1.32s/it]\n",
      "100%|██████████████████████████████████████████████████████████████████████████████████| 20/20 [00:46<00:00,  2.34s/it]\n",
      "100%|██████████████████████████████████████████████████████████████████████████████████| 12/12 [00:12<00:00,  1.03s/it]\n"
     ]
    }
   ],
   "source": [
    "root = r'D:\\MyCodes\\pythonProject\\coated_tongue_color\\datas\\data_coated\\category'\n",
    "list_x = []\n",
    "list_y = []\n",
    "list_gray = []\n",
    "list_name = []\n",
    "list_colors = []\n",
    "for idx, filelst in enumerate(os.listdir(root)):\n",
    "    list_x.append([])\n",
    "    list_y.append([])\n",
    "    list_gray.append([])\n",
    "    list_name.append([])\n",
    "    list_colors.append([])\n",
    "    for img in tqdm(os.listdir(os.path.join(root, filelst))):\n",
    "        if img[-7:] == 'seg.png':\n",
    "            pixel = cal_pixel(os.path.join(root, filelst, img))\n",
    "            RG = cal_RG(pixel)\n",
    "            list_x[idx].append(RG[0])\n",
    "            list_y[idx].append(RG[1])\n",
    "            list_gray[idx].append(sum(pixel))\n",
    "            list_name[idx].append(img)\n",
    "            list_colors[idx].append(int(filelst)*20)\n",
    "# lst_x = np.array(lst_x)\n",
    "# lst_y = np.array(lst_y)\n",
    "# lst_colors = np.array(lst_colors)"
   ]
  },
  {
   "cell_type": "code",
   "execution_count": 117,
   "id": "2f5ce061",
   "metadata": {},
   "outputs": [
    {
     "data": {
      "text/plain": [
       "1172"
      ]
     },
     "execution_count": 117,
     "metadata": {},
     "output_type": "execute_result"
    }
   ],
   "source": [
    "len(list_x[0])"
   ]
  },
  {
   "cell_type": "code",
   "execution_count": 118,
   "id": "1b6e2601",
   "metadata": {},
   "outputs": [
    {
     "data": {
      "image/png": "[encoded data removed]",
      "text/plain": [
       "<Figure size 432x288 with 1 Axes>"
      ]
     },
     "metadata": {
      "needs_background": "light"
     },
     "output_type": "display_data"
    }
   ],
   "source": [
    "plt.scatter(list_x[0],list_y[0],marker=\"o\",color='red',label=\"white\")\n",
    "plt.scatter(list_x[1],list_y[1],marker=\"o\",color='cyan',label=\"lightyellow\")\n",
    "plt.scatter(list_x[2],list_y[2],marker=\"o\",color='blue',label=\"yellow\")\n",
    "# plt.scatter(list_x[3],list_y[3],marker=\"o\",color='goldenrod',label=\"brown\")\n",
    "# plt.scatter(list_x[4],list_y[4],marker=\"o\",color='black',label=\"darkgray\")\n",
    "# fig = plt.figure()\n",
    "# axes = fig.add_axes([0,0,1,1])\n",
    "# axes.set_xlabel('R/(R+G+B)')\n",
    "# axes.set_ylabel('G/(R+G+B)')\n",
    "plt.legend()\n",
    "plt.show()"
   ]
  },
  {
   "cell_type": "code",
   "execution_count": 106,
   "id": "b96cdd36",
   "metadata": {},
   "outputs": [
    {
     "name": "stdout",
     "output_type": "stream",
     "text": [
      "20220511112504-1seg.png\n",
      "20220511154021-1seg.png\n",
      "20220512122723-1seg.png\n",
      "20220514111751-1seg.png\n",
      "20220516111616-1seg.png\n",
      "20220518151744-1seg.png\n",
      "20220518152158-1seg.png\n",
      "20220518152317-1seg.png\n",
      "20220520092614-1seg.png\n",
      "20220520092849-1seg.png\n",
      "20220520123505-1seg.png\n",
      "20220520124452-1seg.png\n",
      "20220521135534-1seg.png\n",
      "20220521135904-1seg.png\n",
      "20220531205524-1seg.png\n",
      "20220531205601-1seg.png\n",
      "20220531205958-1seg.png\n",
      "20220603083617-1seg.png\n",
      "20220603084354-1seg.png\n",
      "20220605102641-1seg.png\n",
      "20220605104709-1seg.png\n",
      "20220605113340-1seg.png\n",
      "20220605114959-1seg.png\n",
      "20220605120005-1seg.png\n",
      "20220605160500-1seg.png\n",
      "20220607123748-1seg.png\n",
      "20220607145825-1seg.png\n",
      "20220613130213-1seg.png\n",
      "20220613193027-1seg.png\n",
      "20220616192558-1seg.png\n",
      "20220617133104-1seg.png\n",
      "20220617133339-1seg.png\n",
      "20220620112324-1seg.png\n",
      "20220620113450-1seg.png\n",
      "20220622093635-1seg.png\n",
      "20220622093713-1seg.png\n",
      "20220624233416-1seg.png\n",
      "20220717201824-1seg.png\n",
      "20220729115043-1seg.png\n",
      "20220730200536-1seg.png\n"
     ]
    }
   ],
   "source": [
    "for idx, i in enumerate(list_x[0]):\n",
    "    if i+list_y[0][idx]>0.75:\n",
    "        print(list_name[0][idx])"
   ]
  },
  {
   "cell_type": "code",
   "execution_count": 1,
   "id": "ca7475f7",
   "metadata": {},
   "outputs": [
    {
     "ename": "NameError",
     "evalue": "name 'cv' is not defined",
     "output_type": "error",
     "traceback": [
      "\u001b[1;31m---------------------------------------------------------------------------\u001b[0m",
      "\u001b[1;31mNameError\u001b[0m                                 Traceback (most recent call last)",
      "Input \u001b[1;32mIn [1]\u001b[0m, in \u001b[0;36m<cell line: 1>\u001b[1;34m()\u001b[0m\n\u001b[1;32m----> 1\u001b[0m a \u001b[38;5;241m=\u001b[39m \u001b[43mcv\u001b[49m\u001b[38;5;241m.\u001b[39mimread(\u001b[38;5;124mr\u001b[39m\u001b[38;5;124m'\u001b[39m\u001b[38;5;124mD:\u001b[39m\u001b[38;5;124m\\\u001b[39m\u001b[38;5;124mMyCodes\u001b[39m\u001b[38;5;124m\\\u001b[39m\u001b[38;5;124mpythonProject\u001b[39m\u001b[38;5;124m\\\u001b[39m\u001b[38;5;124mcoated_tongue_color\u001b[39m\u001b[38;5;124m\\\u001b[39m\u001b[38;5;124mdatas\u001b[39m\u001b[38;5;124m\\\u001b[39m\u001b[38;5;124mdata3\u001b[39m\u001b[38;5;124m\\\u001b[39m\u001b[38;5;124mcategory\u001b[39m\u001b[38;5;124m\\\u001b[39m\u001b[38;5;124m0\u001b[39m\u001b[38;5;124m\\\u001b[39m\u001b[38;5;124m20.png\u001b[39m\u001b[38;5;124m'\u001b[39m)\n",
      "\u001b[1;31mNameError\u001b[0m: name 'cv' is not defined"
     ]
    }
   ],
   "source": [
    "a = cv.imread(r'D:\\MyCodes\\pythonProject\\coated_tongue_color\\datas\\data3\\category\\0\\20.png')"
   ]
  },
  {
   "cell_type": "code",
   "execution_count": 4,
   "id": "af2a9011",
   "metadata": {},
   "outputs": [
    {
     "data": {
      "text/plain": [
       "43"
      ]
     },
     "execution_count": 4,
     "metadata": {},
     "output_type": "execute_result"
    }
   ],
   "source": [
    "eval('2+36+5')"
   ]
  },
  {
   "cell_type": "code",
   "execution_count": null,
   "id": "5604394f",
   "metadata": {},
   "outputs": [],
   "source": []
  }
 ],
 "metadata": {
  "kernelspec": {
   "display_name": "Python 3 (ipykernel)",
   "language": "python",
   "name": "python3"
  },
  "language_info": {
   "codemirror_mode": {
    "name": "ipython",
    "version": 3
   },
   "file_extension": ".py",
   "mimetype": "text/x-python",
   "name": "python",
   "nbconvert_exporter": "python",
   "pygments_lexer": "ipython3",
   "version": "3.9.12"
  }
 },
 "nbformat": 4,
 "nbformat_minor": 5
}
