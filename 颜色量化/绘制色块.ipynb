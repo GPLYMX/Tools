{
 "cells": [
  {
   "cell_type": "code",
   "execution_count": 5,
   "id": "e294138d",
   "metadata": {},
   "outputs": [],
   "source": [
    "import numpy as np\n",
    "import pandas as pd\n",
    "import matplotlib as mpl\n",
    "import matplotlib.pyplot as plt"
   ]
  },
  {
   "cell_type": "code",
   "execution_count": 3,
   "id": "9b9b83d8",
   "metadata": {},
   "outputs": [
    {
     "data": {
      "image/png": "[encoded data removed]",
      "text/plain": [
       "<Figure size 432x288 with 100 Axes>"
      ]
     },
     "metadata": {
      "needs_background": "light"
     },
     "output_type": "display_data"
    }
   ],
   "source": [
    "fig,a =  plt.subplots(10, 10)"
   ]
  },
  {
   "cell_type": "code",
   "execution_count": 4,
   "id": "44277eb5",
   "metadata": {},
   "outputs": [
    {
     "data": {
      "image/png": "[encoded data removed]",
      "text/plain": [
       "<Figure size 432x288 with 3 Axes>"
      ]
     },
     "metadata": {
      "needs_background": "light"
     },
     "output_type": "display_data"
    }
   ],
   "source": [
    "#本示例演示了直接使用 ColorbarBase()类\n",
    "\n",
    "%matplotlib inline\n",
    "\n",
    "import numpy as np\n",
    "import pandas as pd\n",
    "import matplotlib as mpl\n",
    "import matplotlib.pyplot as plt\n",
    "\n",
    "fig = plt.figure(constrained_layout=True)\n",
    "ax1,ax2,ax3 = fig.subplots(1,3)\n",
    "ax1.set_title('norm=norm')\n",
    "ax2.set_title('norm = \\n.Normalize(clip=False)')\n",
    "ax3.set_title('norm = .NoNorm()')\n",
    "\n",
    "mpl.rcParams['font.sans-serif'] = ['SimHei'] # 指定默认字体\n",
    "mpl.rcParams['axes.unicode_minus'] = False  # 解决保存图像是负号'-'显示为方块的问题\n",
    "\n",
    "cmp = mpl.colors.ListedColormap(['r','g','b'])\n",
    "# 创建一个BoundaryNorm实例\n",
    "norm = mpl.colors.BoundaryNorm([0, 0.4, 0.8, 1.0], cmp.N)\n",
    "\n",
    "fcb1 = mpl.colorbar.ColorbarBase(norm=norm, cmap=mpl.cm.get_cmap('Paired'),ax=ax1)\n",
    "fcb2 = mpl.colorbar.ColorbarBase(norm=mpl.colors.Normalize(clip=False), cmap=mpl.cm.get_cmap('Paired'),ax=ax2)\n",
    "fcb3 = mpl.colorbar.ColorbarBase(norm=mpl.colors.NoNorm(), cmap=mpl.cm.get_cmap('Paired'),ax=ax3)\n",
    "\n",
    "#下面演示了ColorbarBase类的两个重要方法\n",
    "fcb1.set_label('Colorbar_label') #set_label()方法\n",
    "fcb1.add_lines((0.4,0.8),('r','m'),(5)) #add_lines()方法\n",
    "\n",
    "fig.savefig('ColorbarBase_Demo.png')\n",
    "\n",
    "plt.show()\n"
   ]
  },
  {
   "cell_type": "code",
   "execution_count": 9,
   "id": "6cbc31c8",
   "metadata": {},
   "outputs": [],
   "source": [
    "def getFootPoint(point, line_p1, line_p2):\n",
    "    \"\"\"\n",
    "    求点到直线的垂足\n",
    "    @point, line_p1, line_p2 : [x, y, z]\n",
    "    \"\"\"\n",
    "    x0 = point[0]\n",
    "    y0 = point[1]\n",
    "    z0 = 0\n",
    "\n",
    "    x1 = line_p1[0]\n",
    "    y1 = line_p1[1]\n",
    "    z1 = 0\n",
    "\n",
    "    x2 = line_p2[0]\n",
    "    y2 = line_p2[1]\n",
    "    z2 = 0\n",
    "\n",
    "    k = -((x1 - x0) * (x2 - x1) + (y1 - y0) * (y2 - y1) + (z1 - z0) * (z2 - z1)) / \\\n",
    "        ((x2 - x1) ** 2 + (y2 - y1) ** 2 + (z2 - z1) ** 2)*1.0\n",
    "\n",
    "    xn = k * (x2 - x1) + x1\n",
    "    yn = k * (y2 - y1) + y1\n",
    "    # zn = k * (z2 - z1) + z1\n",
    "\n",
    "    return [xn, yn]"
   ]
  },
  {
   "cell_type": "code",
   "execution_count": 11,
   "id": "b84903af",
   "metadata": {},
   "outputs": [
    {
     "data": {
      "text/plain": [
       "[0.4, 0.8]"
      ]
     },
     "execution_count": 11,
     "metadata": {},
     "output_type": "execute_result"
    }
   ],
   "source": [
    "getFootPoint([0, 1, 0], [0, 0, 0], [1, 2, 0])"
   ]
  },
  {
   "cell_type": "code",
   "execution_count": null,
   "id": "4018c05b",
   "metadata": {},
   "outputs": [],
   "source": []
  }
 ],
 "metadata": {
  "kernelspec": {
   "display_name": "Python 3 (ipykernel)",
   "language": "python",
   "name": "python3"
  },
  "language_info": {
   "codemirror_mode": {
    "name": "ipython",
    "version": 3
   },
   "file_extension": ".py",
   "mimetype": "text/x-python",
   "name": "python",
   "nbconvert_exporter": "python",
   "pygments_lexer": "ipython3",
   "version": "3.9.12"
  }
 },
 "nbformat": 4,
 "nbformat_minor": 5
}
