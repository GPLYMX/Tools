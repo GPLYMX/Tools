{
 "cells": [
  {
   "cell_type": "code",
   "execution_count": 162,
   "id": "6e6f4249",
   "metadata": {},
   "outputs": [],
   "source": [
    "import math\n",
    "\n",
    "import numpy as np\n",
    "import cv2 as cv\n",
    "import matplotlib as mpl\n",
    "import matplotlib.pyplot as plt\n",
    "from matplotlib import cm\n",
    "from colorspacious import cspace_converter\n",
    "from matplotlib.colors import ListedColormap,LinearSegmentedColormap"
   ]
  },
  {
   "cell_type": "code",
   "execution_count": 173,
   "id": "ee172661",
   "metadata": {},
   "outputs": [
    {
     "data": {
      "text/plain": [
       "<matplotlib.colorbar.Colorbar at 0x17bc6349a00>"
      ]
     },
     "execution_count": 173,
     "metadata": {},
     "output_type": "execute_result"
    },
    {
     "data": {
      "image/png": "[encoded data removed]",
      "text/plain": [
       "<Figure size 432x72 with 1 Axes>"
      ]
     },
     "metadata": {
      "needs_background": "light"
     },
     "output_type": "display_data"
    }
   ],
   "source": [
    "fig, ax = plt.subplots(figsize=(6, 1))\n",
    "fig.subplots_adjust(bottom=0.5)\n",
    "\n",
    "colors = [(255, 255, 255),(255, 245, 230), #(255, 200, 200),\n",
    "          #(255, 230, 220), (255, 220, 200),\n",
    "          (255, 220, 180),(255, 230, 100),\n",
    "          (255, 180, 100),(255, 160, 80),\n",
    "          (77, 55, 58)]\n",
    "# 对colors做归一化处理\n",
    "for i in range(len(colors)):\n",
    "    colors[i] = list(colors[i])\n",
    "    for j in range(len(colors[i])):\n",
    "        \n",
    "        colors[i][j] = colors[i][j] / 256\n",
    "    colors[i] = tuple(colors[i])\n",
    "\n",
    "cmap_name = 'my_cmap'\n",
    "cm = LinearSegmentedColormap.from_list(cmap_name, colors, N=100)\n",
    "norm = mpl.colors.Normalize(vmin=0, vmax=1)\n",
    "\n",
    "fig.colorbar(mpl.cm.ScalarMappable(norm=norm, cmap=cm),\n",
    "             cax=ax, orientation='horizontal', label='coating color')"
   ]
  },
  {
   "cell_type": "code",
   "execution_count": 168,
   "id": "c1bb11ad",
   "metadata": {},
   "outputs": [],
   "source": [
    "def get_colorbar_list(cm):\n",
    "    \"\"\"\n",
    "    计算色度条中所有的像素点\n",
    "    :param cm: 使用LinearSegmentedColormap.from_list构造的色度条\n",
    "    :return: [[1, 1, 1], [0.2, 0.3, 0.4], [0.4, 0.6 , 0.5]...]\n",
    "    \"\"\"\n",
    "    color_list = [[cm(i)[0],cm(i)[1],cm(i)[2] ]for i in range(cm.N)]\n",
    "    np_list = np.array(color_list)\n",
    "    # np.savetxt('black2read_cmp.txt',npList,fmt='%.3e') # 存储数据\n",
    "    return np_list"
   ]
  },
  {
   "cell_type": "code",
   "execution_count": 169,
   "id": "1cd12c67",
   "metadata": {},
   "outputs": [],
   "source": [
    "def eucliDist(A,B):\n",
    "    \"\"\"\n",
    "    计算欧氏距离\n",
    "    :param A,B:list\n",
    "    \"\"\"\n",
    "    return math.sqrt(sum([(a - b)**2 for (a,b) in zip(A,B)]))"
   ]
  },
  {
   "cell_type": "code",
   "execution_count": 182,
   "id": "e8024c61",
   "metadata": {},
   "outputs": [],
   "source": [
    "def cal_min_distdance_ratio(np_list, point):\n",
    "    \"\"\"\n",
    "    计算点point在np_list中离得最近的点，返回位置(0-1)\n",
    "    \"\"\"\n",
    "    ecu_list = []\n",
    "    for p in np_list:\n",
    "        ecu_list.append(eucliDist(p, point))\n",
    "    nearest_point = min(ecu_list)\n",
    "    idx = ecu_list.index(nearest_point)\n",
    "    ratio = idx/len(ecu_list)\n",
    "    return round(ratio, 2)"
   ]
  },
  {
   "cell_type": "code",
   "execution_count": 188,
   "id": "b844cdd0",
   "metadata": {},
   "outputs": [
    {
     "data": {
      "text/plain": [
       "0.33"
      ]
     },
     "execution_count": 188,
     "metadata": {},
     "output_type": "execute_result"
    }
   ],
   "source": [
    "np_list = get_colorbar_list(cm)\n",
    "cal_min_distdance_ratio(np_list, [255/255, 220/255, 180/255])"
   ]
  },
  {
   "cell_type": "code",
   "execution_count": 170,
   "id": "f838de41",
   "metadata": {},
   "outputs": [
    {
     "data": {
      "image/png": "[encoded data removed]",
      "text/plain": [
       "<Figure size 460.8x51.84 with 2 Axes>"
      ]
     },
     "metadata": {
      "needs_background": "light"
     },
     "output_type": "display_data"
    }
   ],
   "source": [
    "cmaps = {}\n",
    "\n",
    "gradient = np.linspace(0, 1, 256)\n",
    "gradient = np.vstack((gradient, gradient))\n",
    "\n",
    "\n",
    "def plot_color_gradients(category, cmap_list):\n",
    "    # Create figure and adjust figure height to number of colormaps\n",
    "    nrows = len(cmap_list)\n",
    "    figh = 0.35 + 0.15 + (nrows + (nrows - 1) * 0.1) * 0.22\n",
    "    fig, axs = plt.subplots(nrows=nrows + 1, figsize=(6.4, figh))\n",
    "    fig.subplots_adjust(top=1 - 0.35 / figh, bottom=0.15 / figh,\n",
    "                        left=0.2, right=0.99)\n",
    "    axs[0].set_title(f'{category} colormaps', fontsize=14)\n",
    "\n",
    "    for ax, name in zip(axs, cmap_list):\n",
    "        ax.imshow(gradient, aspect='auto', cmap=plt.get_cmap(name))\n",
    "        ax.text(-0.01, 0.5, name, va='center', ha='right', fontsize=10,\n",
    "                transform=ax.transAxes)\n",
    "\n",
    "    # Turn off *all* ticks & spines, not just the ones with colormaps.\n",
    "    for ax in axs:\n",
    "        ax.set_axis_off()\n",
    "\n",
    "    # Save colormap list for later.\n",
    "    cmaps[category] = cmap_list\n",
    "plot_color_gradients('Perceptually Uniform Sequential',\n",
    "                     ['YlOrBr'])"
   ]
  }
 ],
 "metadata": {
  "kernelspec": {
   "display_name": "Python 3 (ipykernel)",
   "language": "python",
   "name": "python3"
  },
  "language_info": {
   "codemirror_mode": {
    "name": "ipython",
    "version": 3
   },
   "file_extension": ".py",
   "mimetype": "text/x-python",
   "name": "python",
   "nbconvert_exporter": "python",
   "pygments_lexer": "ipython3",
   "version": "3.9.12"
  }
 },
 "nbformat": 4,
 "nbformat_minor": 5
}
