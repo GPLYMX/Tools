{
 "cells": [
  {
   "cell_type": "code",
   "execution_count": 2,
   "id": "4b93d1d3",
   "metadata": {},
   "outputs": [],
   "source": [
    "import math\n",
    "import os\n",
    "from tqdm import tqdm\n",
    "from time import time\n",
    "\n",
    "import numpy as np\n",
    "from numpy import *\n",
    "import cv2 as cv\n",
    "import matplotlib as mpl\n",
    "import matplotlib.pyplot as plt\n",
    "from matplotlib import cm\n",
    "from colorspacious import cspace_converter\n",
    "from matplotlib.colors import ListedColormap, LinearSegmentedColormap\n",
    "import pandas as pd"
   ]
  },
  {
   "cell_type": "code",
   "execution_count": 3,
   "id": "1f40cdfa",
   "metadata": {},
   "outputs": [],
   "source": [
    "def get_colorbar_list(cm):\n",
    "    \"\"\"\n",
    "    计算色度条中所有的像素点\n",
    "    :param cm: 使用LinearSegmentedColormap.from_list构造的色度条\n",
    "    :return: [[1, 1, 1], [0.2, 0.3, 0.4], [0.4, 0.6 , 0.5]...]\n",
    "    \"\"\"\n",
    "    color_list = [[cm(i)[0],cm(i)[1],cm(i)[2] ]for i in range(cm.N)]\n",
    "    np_list = np.array(color_list)\n",
    "    # np.savetxt('black2read_cmp.txt',npList,fmt='%.3e') # 存储数据\n",
    "    \n",
    "    return np_list"
   ]
  },
  {
   "cell_type": "code",
   "execution_count": 9,
   "id": "b3457ca0",
   "metadata": {},
   "outputs": [],
   "source": [
    "def structure_uint_bar(colors=[(255, 255, 255),(255, 245, 230)]):\n",
    "    \"\"\"\n",
    "    构造阶段色条\n",
    "    \"\"\"\n",
    "#     fig, ax = plt.subplots(figsize=(6, 1))\n",
    "#     fig.subplots_adjust(bottom=0.5)\n",
    "#     colors = [(255, 255, 255),(255, 245, 230), #(255, 200, 200),\n",
    "#               #(255, 230, 220), (255, 220, 200),\n",
    "#               (255, 220, 180),(255, 220, 130),\n",
    "#               [255, 213, 100],(255, 180, 100),(255, 155, 51),\n",
    "#               (99, 71, 75)]\n",
    "    # 对colors做归一化处理\n",
    "    for i in range(len(colors)):\n",
    "        colors[i] = list(colors[i])\n",
    "        for j in range(len(colors[i])):\n",
    "\n",
    "            colors[i][j] = colors[i][j] / 256\n",
    "        colors[i] = tuple(colors[i])\n",
    "\n",
    "    cmap_name = 'my_cmap'\n",
    "    cm = LinearSegmentedColormap.from_list(cmap_name, colors, N=20)\n",
    "    \n",
    "    # 获取色条中的每个像素\n",
    "    color_list = [[cm(i)[0],cm(i)[1],cm(i)[2] ]for i in range(cm.N)]\n",
    "    np_list = list(color_list)\n",
    "    \n",
    "    return list(np_list)"
   ]
  },
  {
   "cell_type": "code",
   "execution_count": 10,
   "id": "94681185",
   "metadata": {},
   "outputs": [],
   "source": [
    "def structure_uint_bar(colors=[(255, 255, 255),(255, 245, 230)], num=20):\n",
    "    \"\"\"\n",
    "    构造阶段色条\n",
    "    :param num:色条的插值个数\n",
    "    \"\"\"\n",
    "#     fig, ax = plt.subplots(figsize=(6, 1))\n",
    "#     fig.subplots_adjust(bottom=0.5)\n",
    "#     colors = [(255, 255, 255),(255, 245, 230), #(255, 200, 200),\n",
    "#               #(255, 230, 220), (255, 220, 200),\n",
    "#               (255, 220, 180),(255, 220, 130),\n",
    "#               [255, 213, 100],(255, 180, 100),(255, 155, 51),\n",
    "#               (99, 71, 75)]\n",
    "    # 对colors做归一化处理\n",
    "    for i in range(len(colors)):\n",
    "        colors[i] = list(colors[i])\n",
    "        for j in range(len(colors[i])):\n",
    "\n",
    "            colors[i][j] = colors[i][j] / 256\n",
    "        colors[i] = tuple(colors[i])\n",
    "\n",
    "    cmap_name = 'my_cmap'\n",
    "    cm = LinearSegmentedColormap.from_list(cmap_name, colors, N=num)\n",
    "    \n",
    "    # 获取色条中的每个像素\n",
    "    color_list = [[cm(i)[0],cm(i)[1],cm(i)[2] ]for i in range(cm.N)]\n",
    "    np_list = list(color_list)\n",
    "    \n",
    "    return list(np_list)"
   ]
  },
  {
   "cell_type": "code",
   "execution_count": 11,
   "id": "479f7535",
   "metadata": {},
   "outputs": [
    {
     "data": {
      "image/png": "[encoded data removed]",
      "text/html": [
       "<div style=\"vertical-align: middle;\"><strong>my_cmap</strong> </div><div class=\"cmap\"><img alt=\"my_cmap colormap\" title=\"my_cmap\" style=\"border: 1px solid #555;\" src=\"data:image/png;base64,iVBORw0KGgoAAAANSUhEUgAAAgAAAABACAYAAABsv8+/AAAAFnRFWHRUaXRsZQBteV9jbWFwIGNvbG9ybWFw2E+iFQAAABx0RVh0RGVzY3JpcHRpb24AbXlfY21hcCBjb2xvcm1hcH9hE2wAAAAwdEVYdEF1dGhvcgBNYXRwbG90bGliIHYzLjUuMSwgaHR0cHM6Ly9tYXRwbG90bGliLm9yZ/e3zs8AAAAydEVYdFNvZnR3YXJlAE1hdHBsb3RsaWIgdjMuNS4xLCBodHRwczovL21hdHBsb3RsaWIub3Jn2RFR6AAAAapJREFUeJzt1lFqwkAUQNFp979YBUt/TOwCfIWIxZbecz4fk4yGYbhv+77f1mSaPjUbhtvB2fXgurXW2vZh72G2toOz6X0Hnx3XXYfZA+8cP+70/16x7kV7T2fn6Lmbtn1k7dGzPD7807NX7eN3v3Sf6X6aztgf+9mHZ9PddvvuHhzmvzS7bvezj8/pTl7rfLmfny73H+M0rDsfXDe975l911rrfZwCAP+aAACAIAEAAEECAACCBAAABAkAAAgSAAAQJAAAIEgAAECQAACAIAEAAEECAACCBAAABAkAAAgSAAAQJAAAIEgAAECQAACAIAEAAEECAACCBAAABAkAAAgSAAAQJAAAIEgAAECQAACAIAEAAEECAACCBAAABAkAAAgSAAAQJAAAIEgAAECQAACAIAEAAEECAACCBAAABAkAAAgSAAAQJAAAIEgAAECQAACAIAEAAEECAACCBAAABAkAAAgSAAAQJAAAIEgAAECQAACAIAEAAEECAACCBAAABAkAAAgSAAAQJAAAIEgAAECQAACAIAEAAEECAACCBAAABAkAAAgSAAAQ9AUFn5Jxo10ykwAAAABJRU5ErkJggg==\"></div><div style=\"vertical-align: middle; max-width: 514px; display: flex; justify-content: space-between;\"><div style=\"float: left;\"><div title=\"#fefefeff\" style=\"display: inline-block; width: 1em; height: 1em; margin: 0; vertical-align: middle; border: 1px solid #555; background-color: #fefefeff;\"></div> under</div><div style=\"margin: 0 auto; display: inline-block;\">bad <div title=\"#00000000\" style=\"display: inline-block; width: 1em; height: 1em; margin: 0; vertical-align: middle; border: 1px solid #555; background-color: #00000000;\"></div></div><div style=\"float: right;\">over <div title=\"#63474bff\" style=\"display: inline-block; width: 1em; height: 1em; margin: 0; vertical-align: middle; border: 1px solid #555; background-color: #63474bff;\"></div></div>"
      ],
      "text/plain": [
       "<matplotlib.colors.LinearSegmentedColormap at 0x1dee5e81280>"
      ]
     },
     "execution_count": 11,
     "metadata": {},
     "output_type": "execute_result"
    }
   ],
   "source": [
    "def structure_bar():\n",
    "    \"\"\"\n",
    "    构造色条\n",
    "    \"\"\"\n",
    "    \n",
    "    # 配置色条各分段的参数\n",
    "#     white_bar = structure_uint_bar(colors=[(255, 255, 255),(255, 245, 230)])\n",
    "#     yellowish_bar = structure_uint_bar(colors=[(255, 245, 230), (255, 220, 180),(255, 220, 130)])\n",
    "#     yellow_bar = structure_uint_bar(colors=[(255, 220, 130), [255, 213, 100],(255, 180, 100)])\n",
    "#     brown_bar = structure_uint_bar(colors=[(255, 180, 100), (255, 164, 105),(255, 160, 65)])\n",
    "#     gray_bar = structure_uint_bar(colors=[(255, 160, 65), (255, 155, 51),(99, 71, 75)])\n",
    "    \n",
    "    white_bar = structure_uint_bar(colors=[(255, 255, 255),[255, 251, 255],(255, 234, 249),(255, 233, 236),(255, 230, 220)])\n",
    "    yellowish_bar = structure_uint_bar(colors=[(255, 230, 220), (255, 230, 210), (255, 230, 200), (255, 220, 200)])\n",
    "    yellow_bar = structure_uint_bar(colors=[(255, 220, 200), [255, 220, 180],(255, 220, 160)])\n",
    "    brown_bar = structure_uint_bar(colors=[(255, 220, 160), (255, 220, 140), (255, 200, 140)])\n",
    "    gray_bar = structure_uint_bar(colors=[(255, 200, 140), (255, 190, 100),(99, 71, 75)])\n",
    "    \n",
    "    colors = white_bar + yellowish_bar[1:] + yellow_bar[1:]  + brown_bar[1:] + gray_bar[1:]\n",
    "\n",
    "    cmap_name = 'my_cmap'\n",
    "    \n",
    "    cm = LinearSegmentedColormap.from_list(cmap_name, colors, N=100)\n",
    "    norm = mpl.colors.Normalize(vmin=0, vmax=10)\n",
    "    \n",
    "    # 绘制色条\n",
    "#     fig, ax = plt.subplots(figsize=(6, 1))\n",
    "#     fig.subplots_adjust(bottom=0.5)\n",
    "#     fig.colorbar(mpl.cm.ScalarMappable(norm=norm, cmap=cm),\n",
    "#                  cax=ax, orientation='horizontal', label='coating color')\n",
    "    \n",
    "    return cm\n",
    "\n",
    "structure_bar()"
   ]
  },
  {
   "cell_type": "code",
   "execution_count": 19,
   "id": "4efbc36c",
   "metadata": {},
   "outputs": [
    {
     "data": {
      "image/png": "[encoded data removed]",
      "text/html": [
       "<div style=\"vertical-align: middle;\"><strong>my_cmap</strong> </div><div class=\"cmap\"><img alt=\"my_cmap colormap\" title=\"my_cmap\" style=\"border: 1px solid #555;\" src=\"data:image/png;base64,iVBORw0KGgoAAAANSUhEUgAAAgAAAABACAYAAABsv8+/AAAAFnRFWHRUaXRsZQBteV9jbWFwIGNvbG9ybWFw2E+iFQAAABx0RVh0RGVzY3JpcHRpb24AbXlfY21hcCBjb2xvcm1hcH9hE2wAAAAwdEVYdEF1dGhvcgBNYXRwbG90bGliIHYzLjUuMSwgaHR0cHM6Ly9tYXRwbG90bGliLm9yZ/e3zs8AAAAydEVYdFNvZnR3YXJlAE1hdHBsb3RsaWIgdjMuNS4xLCBodHRwczovL21hdHBsb3RsaWIub3Jn2RFR6AAAAfNJREFUeJzt1sFSgzAYhdHo+z9zfxdiJqUkMC2u7jkLm0ICUdrx+3o8HtWqWlf9R3/5HZ/Nqefj4+vL8b+1B3NX86fnj+bt9vwyfzKu/fELa/qerswd3i/XnKxdvr9rzpU1N93r6FkdPufZ3CvP8urco3ud3H96fPH5vHzu7ut9eI+X7//k2HK8OH+2fv+9WV3r03vdvu/F52X2e719frzff58f9/PO+Xp6OfsdaxtXa63qfNy299UfwzjezvVbbP8Sh3F/7OO8pzXP16xtQdV+vO1+tqaPt3O7vY/XXO139vcY995aa98NAIgjAAAgkAAAgEACAAACCQAACCQAACCQAACAQAIAAAIJAAAIJAAAIJAAAIBAAgAAAgkAAAgkAAAgkAAAgEACAAACCQAACCQAACCQAACAQAIAAAIJAAAIJAAAIJAAAIBAAgAAAgkAAAgkAAAgkAAAgEACAAACCQAACCQAACCQAACAQAIAAAIJAAAIJAAAIJAAAIBAAgAAAgkAAAgkAAAgkAAAgEACAAACCQAACCQAACCQAACAQAIAAAIJAAAIJAAAIJAAAIBAAgAAAgkAAAgkAAAgkAAAgEACAAACCQAACCQAACCQAACAQAIAAAIJAAAIJAAAIJAAAIBAAgAAAgkAAAgkAAAgkAAAgEA/Cwp0FzW9jKEAAAAASUVORK5CYII=\"></div><div style=\"vertical-align: middle; max-width: 514px; display: flex; justify-content: space-between;\"><div style=\"float: left;\"><div title=\"#fefefeff\" style=\"display: inline-block; width: 1em; height: 1em; margin: 0; vertical-align: middle; border: 1px solid #555; background-color: #fefefeff;\"></div> under</div><div style=\"margin: 0 auto; display: inline-block;\">bad <div title=\"#00000000\" style=\"display: inline-block; width: 1em; height: 1em; margin: 0; vertical-align: middle; border: 1px solid #555; background-color: #00000000;\"></div></div><div style=\"float: right;\">over <div title=\"#c78142ff\" style=\"display: inline-block; width: 1em; height: 1em; margin: 0; vertical-align: middle; border: 1px solid #555; background-color: #c78142ff;\"></div></div>"
      ],
      "text/plain": [
       "<matplotlib.colors.LinearSegmentedColormap at 0x1dee6038130>"
      ]
     },
     "execution_count": 19,
     "metadata": {},
     "output_type": "execute_result"
    },
    {
     "data": {
      "image/png": "[encoded data removed]",
      "text/plain": [
       "<Figure size 432x72 with 1 Axes>"
      ]
     },
     "metadata": {
      "needs_background": "light"
     },
     "output_type": "display_data"
    }
   ],
   "source": [
    "def structure_bar2():\n",
    "    \"\"\"\n",
    "    构造色条\n",
    "    \"\"\"\n",
    "    fig, ax = plt.subplots(figsize=(6, 1))\n",
    "    fig.subplots_adjust(bottom=0.5)\n",
    "    \n",
    "    # 配置色条各分段的参数\n",
    "    white_bar = structure_uint_bar(colors=[(255, 255, 255),[255, 249, 251],[255, 246, 241],[255, 244, 230]], num=100)\n",
    "    yellowish_bar = structure_uint_bar(colors=[[255, 244, 230], (255, 240, 212), (255, 240, 200)], num=200)\n",
    "    yellow_bar = structure_uint_bar(colors=[(255, 240, 200), [255, 230, 180],(255, 230, 150)], num=200)\n",
    "    brown_bar = structure_uint_bar(colors=[(255, 230, 150), (255, 200, 120), (255, 180, 90), [200, 130, 66]], num=450)\n",
    "    \n",
    "    colors = white_bar + yellowish_bar[1:] + yellow_bar[1:]  + brown_bar[1:]\n",
    "\n",
    "    cmap_name = 'my_cmap'\n",
    "    \n",
    "    cm = LinearSegmentedColormap.from_list(cmap_name, colors, N=1000)\n",
    "    norm = mpl.colors.Normalize(vmin=0, vmax=10)\n",
    "    \n",
    "        # 绘制色条\n",
    "    fig.colorbar(mpl.cm.ScalarMappable(norm=norm, cmap=cm),\n",
    "                 cax=ax, orientation='horizontal', label='coating color')\n",
    "    \n",
    "    return cm\n",
    "\n",
    "structure_bar2()"
   ]
  },
  {
   "cell_type": "code",
   "execution_count": 14,
   "id": "23cb13d3",
   "metadata": {},
   "outputs": [
    {
     "ename": "SyntaxError",
     "evalue": "invalid syntax (3267478242.py, line 11)",
     "output_type": "error",
     "traceback": [
      "\u001b[1;36m  Input \u001b[1;32mIn [14]\u001b[1;36m\u001b[0m\n\u001b[1;33m    yellow_bar = structure_uint_bar(colors=[(255, 240, 200), [255, 230, 180],(255, 230, 150), num=20])\u001b[0m\n\u001b[1;37m                                                                                                 ^\u001b[0m\n\u001b[1;31mSyntaxError\u001b[0m\u001b[1;31m:\u001b[0m invalid syntax\n"
     ]
    }
   ],
   "source": [
    "def structure_bar2():\n",
    "    \"\"\"\n",
    "    构造色条\n",
    "    \"\"\"\n",
    "    fig, ax = plt.subplots(figsize=(6, 1))\n",
    "    fig.subplots_adjust(bottom=0.5)\n",
    "    \n",
    "    # 配置色条各分段的参数\n",
    "    white_bar = structure_uint_bar(colors=[(255, 255, 255),[255, 249, 251],[255, 246, 241],[255, 244, 230]], num=10)\n",
    "    yellowish_bar = structure_uint_bar(colors=[[255, 244, 230], (255, 240, 212), (255, 240, 200)])\n",
    "    yellow_bar = structure_uint_bar(colors=[(255, 240, 200), [255, 230, 180],(255, 230, 150)])\n",
    "    brown_bar = structure_uint_bar(colors=[(255, 230, 150), (255, 200, 120), (255, 180, 90), [200, 130, 66]], num=45)\n",
    "    \n",
    "    colors = white_bar + yellowish_bar[1:] + yellow_bar[1:]  + brown_bar[1:]\n",
    "\n",
    "    cmap_name = 'my_cmap'\n",
    "    \n",
    "    cm = LinearSegmentedColormap.from_list(cmap_name, colors, N=100)\n",
    "    norm = mpl.colors.Normalize(vmin=0, vmax=10)\n",
    "    \n",
    "        # 绘制色条\n",
    "    fig.colorbar(mpl.cm.ScalarMappable(norm=norm, cmap=cm),\n",
    "                 cax=ax, orientation='horizontal', label='coating color')\n",
    "    \n",
    "    return cm\n",
    "\n",
    "structure_bar2()"
   ]
  },
  {
   "cell_type": "code",
   "execution_count": 8,
   "id": "dd987cc5",
   "metadata": {},
   "outputs": [
    {
     "data": {
      "image/png": "[encoded data removed]",
      "text/html": [
       "<div style=\"vertical-align: middle;\"><strong>my_cmap</strong> </div><div class=\"cmap\"><img alt=\"my_cmap colormap\" title=\"my_cmap\" style=\"border: 1px solid #555;\" src=\"data:image/png;base64,iVBORw0KGgoAAAANSUhEUgAAAgAAAABACAYAAABsv8+/AAAAFnRFWHRUaXRsZQBteV9jbWFwIGNvbG9ybWFw2E+iFQAAABx0RVh0RGVzY3JpcHRpb24AbXlfY21hcCBjb2xvcm1hcH9hE2wAAAAwdEVYdEF1dGhvcgBNYXRwbG90bGliIHYzLjUuMSwgaHR0cHM6Ly9tYXRwbG90bGliLm9yZ/e3zs8AAAAydEVYdFNvZnR3YXJlAE1hdHBsb3RsaWIgdjMuNS4xLCBodHRwczovL21hdHBsb3RsaWIub3Jn2RFR6AAAAkNJREFUeJzt1stu01AUheGdAkUFiYvUETPe/8G4SAwrkiZx+gBnIblT1vcNt+wc+9h1/8P2vN0mOV7W2em6zm6ncPJzmIXf28Lseg7HhXVnC7OZ2e7X2fkhXE5aO8xuYe1r2LJzmKXf29J+zczbsGd3YbaF/bmEa4yzsPbz0zq7D3v48es6m5kJl5NnYX9u4Rmm2bb3uLDudgjDVxz7/XGdPX4IJ6c/o7jIOjq84v2ecOzOZdKpeZn0AMO7vPvhT/47is9w53HxZvZeT7iXf7wm8y689+nzdgrP/5Kue+/3Mh2X7iXtw8zuF+D9p3X28CWcm64xzG47v9/pdZrJ34m0j3H2JvzgcR3dwix9l9P/ovScZ2aOYX4M9/03/OYhfE8+f1tnlz/r7PfPdfbj1zp7CufOzF2cAgD/NQEAAIUEAAAUEgAAUEgAAEAhAQAAhQQAABQSAABQSAAAQCEBAACFBAAAFBIAAFBIAABAIQEAAIUEAAAUEgAAUEgAAEAhAQAAhQQAABQSAABQSAAAQCEBAACFBAAAFBIAAFBIAABAIQEAAIUEAAAUEgAAUEgAAEAhAQAAhQQAABQSAABQSAAAQCEBAACFBAAAFBIAAFBIAABAIQEAAIUEAAAUEgAAUEgAAEAhAQAAhQQAABQSAABQSAAAQCEBAACFBAAAFBIAAFBIAABAIQEAAIUEAAAUEgAAUEgAAEAhAQAAhQQAABQSAABQSAAAQCEBAACFBAAAFBIAAFBIAABAIQEAAIUEAAAUegHXrIkjIXEKvAAAAABJRU5ErkJggg==\"></div><div style=\"vertical-align: middle; max-width: 514px; display: flex; justify-content: space-between;\"><div style=\"float: left;\"><div title=\"#fefafeff\" style=\"display: inline-block; width: 1em; height: 1em; margin: 0; vertical-align: middle; border: 1px solid #555; background-color: #fefafeff;\"></div> under</div><div style=\"margin: 0 auto; display: inline-block;\">bad <div title=\"#00000000\" style=\"display: inline-block; width: 1em; height: 1em; margin: 0; vertical-align: middle; border: 1px solid #555; background-color: #00000000;\"></div></div><div style=\"float: right;\">over <div title=\"#fe7038ff\" style=\"display: inline-block; width: 1em; height: 1em; margin: 0; vertical-align: middle; border: 1px solid #555; background-color: #fe7038ff;\"></div></div>"
      ],
      "text/plain": [
       "<matplotlib.colors.LinearSegmentedColormap at 0x1f6a2c94610>"
      ]
     },
     "execution_count": 8,
     "metadata": {},
     "output_type": "execute_result"
    }
   ],
   "source": [
    "def structure_bar3():\n",
    "    \"\"\"\n",
    "    构造色条\n",
    "    \"\"\"\n",
    "    \n",
    "    # 配置色条各分段的参数\n",
    "    white_bar1 = structure_uint_bar(colors=[[255, 223, 234], [255, 215, 226], [255, 213, 220], [255, 204, 220], [255, 200, 208], [255, 208, 196], [255, 201, 188], [255, 194, 183],(255, 183, 161)], num=15)    \n",
    "    white_bar2 = structure_uint_bar(colors=[[255, 251, 255],(255, 236, 249),(255, 235, 236),(255, 235, 228),(255, 228, 220),(255, 228, 216)], num=10)\n",
    "    yellowish_bar1 = structure_uint_bar(colors=[(255, 228, 216), (255, 228, 210), (255, 230, 200), (255, 220, 200)], num=12)\n",
    "    yellowish_bar2 = structure_uint_bar(colors=[(255, 210, 190), (255, 189, 190), (255, 183, 181), (255, 175, 183)], num=13)\n",
    "    yellow_bar1 = structure_uint_bar(colors=[(255, 220, 200), [255, 220, 180],(255, 215, 170),(255, 215, 150)], num=13)\n",
    "    yellow_bar2 = structure_uint_bar(colors=[(255, 229, 172), [255, 204, 170],[255, 204, 144], [255, 204, 134]], num=12)\n",
    "    brown_bar1 = structure_uint_bar(colors=[(255, 220, 173), (255, 220, 160), (255, 220, 145), (255, 210, 145),(255, 200, 140)], num=10)\n",
    "    brown_bar2 = structure_uint_bar(colors=[(255, 196, 155), (255, 196, 130), (255, 192, 114), (255, 173, 114), (255, 152, 101)], num=10)\n",
    "    brown_bar3 = structure_uint_bar(colors=[(255, 174, 146), (255, 174, 120), (255, 128, 82), (255, 112, 56)], num=5)\n",
    "    # gray_bar = structure_uint_bar(colors=[(255, 200, 140), (255, 190, 100),(99, 71, 75)])\n",
    "    \n",
    "    colors = white_bar2 + white_bar1 +  yellowish_bar2[1:] + yellowish_bar1[1:] + yellow_bar1[1:]  + yellow_bar2[1:] \\\n",
    "             + brown_bar1[1:] + brown_bar2[1:] + brown_bar3[0:]\n",
    "\n",
    "    cmap_name = 'my_cmap'\n",
    "    \n",
    "    cm = LinearSegmentedColormap.from_list(cmap_name, colors, N=100)\n",
    "    norm = mpl.colors.Normalize(vmin=0, vmax=10)\n",
    "    \n",
    "    # 绘制色条\n",
    "#     fig, ax = plt.subplots(figsize=(6, 1))\n",
    "#     fig.subplots_adjust(bottom=0.5)\n",
    "#     fig.colorbar(mpl.cm.ScalarMappable(norm=norm, cmap=cm),\n",
    "#                  cax=ax, orientation='horizontal', label='coating color')\n",
    "    \n",
    "    return cm\n",
    "\n",
    "structure_bar3()"
   ]
  },
  {
   "cell_type": "code",
   "execution_count": 20,
   "id": "c9081378",
   "metadata": {},
   "outputs": [],
   "source": [
    "import random"
   ]
  },
  {
   "cell_type": "code",
   "execution_count": 31,
   "id": "29232310",
   "metadata": {},
   "outputs": [
    {
     "data": {
      "text/plain": [
       "-0.16212987478057217"
      ]
     },
     "execution_count": 31,
     "metadata": {},
     "output_type": "execute_result"
    }
   ],
   "source": [
    "random.uniform(-0.2, 0.2)"
   ]
  },
  {
   "cell_type": "code",
   "execution_count": null,
   "id": "f1bb0d78",
   "metadata": {},
   "outputs": [],
   "source": []
  }
 ],
 "metadata": {
  "kernelspec": {
   "display_name": "Python 3 (ipykernel)",
   "language": "python",
   "name": "python3"
  },
  "language_info": {
   "codemirror_mode": {
    "name": "ipython",
    "version": 3
   },
   "file_extension": ".py",
   "mimetype": "text/x-python",
   "name": "python",
   "nbconvert_exporter": "python",
   "pygments_lexer": "ipython3",
   "version": "3.9.12"
  }
 },
 "nbformat": 4,
 "nbformat_minor": 5
}
