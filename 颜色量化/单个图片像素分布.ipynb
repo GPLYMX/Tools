{
 "cells": [
  {
   "cell_type": "code",
   "execution_count": 11,
   "id": "c75b7e63",
   "metadata": {},
   "outputs": [],
   "source": [
    "import os\n",
    "\n",
    "import cv2 as cv\n",
    "import numpy as np\n",
    "import pandas as pd\n",
    "from matplotlib import pyplot as plt\n",
    "from tqdm import tqdm"
   ]
  },
  {
   "cell_type": "code",
   "execution_count": 12,
   "id": "a814ca63",
   "metadata": {},
   "outputs": [],
   "source": [
    "def cal_RG(piexl_mean):\n",
    "    RG_lst = []\n",
    "    RG_lst.append(piexl_mean[2]/sum(piexl_mean))\n",
    "    RG_lst.append(piexl_mean[1]/sum(piexl_mean))\n",
    "    return RG_lst"
   ]
  },
  {
   "cell_type": "code",
   "execution_count": 44,
   "id": "fcc11fa9",
   "metadata": {},
   "outputs": [],
   "source": [
    "def get_pixel(img_root):\n",
    "    lst_R = []\n",
    "    lst_G = []\n",
    "    img = cv.imread(img_root)\n",
    "    for i in range(img.shape[0]):\n",
    "        for j in range(img.shape[1]):\n",
    "            if all(set(img[i, j, :])):\n",
    "                RG_lst = cal_RG(list(img[i, j, :]))\n",
    "                lst_R.append(RG_lst[0])\n",
    "                lst_G.append(RG_lst[1])\n",
    "    return lst_R, lst_G"
   ]
  },
  {
   "cell_type": "code",
   "execution_count": 45,
   "id": "97374dd9",
   "metadata": {},
   "outputs": [],
   "source": [
    "img_root = r'D:\\MyCodes\\pythonProject\\coated_tongue_color\\datas\\data3\\category\\3\\20220510145206-1.png'"
   ]
  },
  {
   "cell_type": "code",
   "execution_count": 46,
   "id": "df8ac937",
   "metadata": {},
   "outputs": [],
   "source": [
    "lst_R, lst_G = get_pixel(img_root)"
   ]
  },
  {
   "cell_type": "code",
   "execution_count": 47,
   "id": "7ca8d41a",
   "metadata": {},
   "outputs": [
    {
     "data": {
      "image/png": "[encoded data removed]",
      "text/plain": [
       "<Figure size 432x288 with 1 Axes>"
      ]
     },
     "metadata": {
      "needs_background": "light"
     },
     "output_type": "display_data"
    }
   ],
   "source": [
    "plt.scatter(lst_R,lst_G,marker=\"o\",color='red',label=\"white\")\n",
    "# plt.scatter(list_x[1],list_y[1],marker=\"o\",color='cyan',label=\"lightyellow\")\n",
    "# plt.scatter(list_x[2],list_y[2],marker=\"o\",color='blue',label=\"yellow\")\n",
    "# plt.scatter(list_x[3],list_y[3],marker=\"o\",color='goldenrod',label=\"brown\")\n",
    "# plt.scatter(list_x[4],list_y[4],marker=\"o\",color='black',label=\"darkgray\")\n",
    "# fig = plt.figure()\n",
    "# axes = fig.add_axes([0,0,1,1])\n",
    "# axes.set_xlabel('R/(R+G+B)')\n",
    "# axes.set_ylabel('G/(R+G+B)')\n",
    "plt.legend()\n",
    "plt.show()"
   ]
  },
  {
   "cell_type": "code",
   "execution_count": 24,
   "id": "dac141c1",
   "metadata": {},
   "outputs": [],
   "source": [
    "img = cv.imread(img_root)"
   ]
  },
  {
   "cell_type": "code",
   "execution_count": 43,
   "id": "5651cb8d",
   "metadata": {},
   "outputs": [
    {
     "name": "stdout",
     "output_type": "stream",
     "text": [
      "True\n"
     ]
    }
   ],
   "source": [
    "if  all(set([1, 1,1])):\n",
    "    print(True)"
   ]
  },
  {
   "cell_type": "code",
   "execution_count": 48,
   "id": "9ff13771",
   "metadata": {},
   "outputs": [],
   "source": [
    "def getFootPoint(point, line_p1=[0.28, 0.35], line_p2=[0.32, 0.44]):\n",
    "    \"\"\"\n",
    "    求点到直线的垂足\n",
    "    @point, line_p1, line_p2 : [x, y, z]\n",
    "    \"\"\"\n",
    "    x0 = point[0]\n",
    "    y0 = point[1]\n",
    "    z0 = 0\n",
    "\n",
    "    x1 = line_p1[0]\n",
    "    y1 = line_p1[1]\n",
    "    z1 = 0\n",
    "\n",
    "    x2 = line_p2[0]\n",
    "    y2 = line_p2[1]\n",
    "    z2 = 0\n",
    "\n",
    "    k = -((x1 - x0) * (x2 - x1) + (y1 - y0) * (y2 - y1) + (z1 - z0) * (z2 - z1)) / \\\n",
    "        ((x2 - x1) ** 2 + (y2 - y1) ** 2 + (z2 - z1) ** 2)*1.0\n",
    "\n",
    "    xn = k * (x2 - x1) + x1\n",
    "    yn = k * (y2 - y1) + y1\n",
    "    # zn = k * (z2 - z1) + z1\n",
    "\n",
    "    return [xn, yn]"
   ]
  },
  {
   "cell_type": "code",
   "execution_count": null,
   "id": "a9f4ec20",
   "metadata": {},
   "outputs": [],
   "source": []
  }
 ],
 "metadata": {
  "kernelspec": {
   "display_name": "Python 3 (ipykernel)",
   "language": "python",
   "name": "python3"
  },
  "language_info": {
   "codemirror_mode": {
    "name": "ipython",
    "version": 3
   },
   "file_extension": ".py",
   "mimetype": "text/x-python",
   "name": "python",
   "nbconvert_exporter": "python",
   "pygments_lexer": "ipython3",
   "version": "3.9.12"
  }
 },
 "nbformat": 4,
 "nbformat_minor": 5
}
