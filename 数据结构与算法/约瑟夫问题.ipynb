{
 "cells": [
  {
   "cell_type": "markdown",
   "id": "c0640ff7",
   "metadata": {},
   "source": [
    "## 刚开始把所有的人放到一个列表里面去，报的数字不是3就把这个人放到列表的最后一个位置上面去，如果是3就把这个数字从列表中去掉。直到列表剩下一个人为止，"
   ]
  },
  {
   "cell_type": "code",
   "execution_count": 86,
   "id": "ebdcda0e",
   "metadata": {},
   "outputs": [
    {
     "name": "stdout",
     "output_type": "stream",
     "text": [
      "[31]\n"
     ]
    }
   ],
   "source": [
    "def josephus(n,k):\n",
    "    #n代表总人数，k代表报数的数字\n",
    "    List = list(range(1,n+1))\n",
    "    index = 0\n",
    "    while List:\n",
    "        temp = List.pop(0)\n",
    "        index += 1\n",
    "        if index == k:\n",
    "            index = 0\n",
    "            continue\n",
    "        List.append(temp)\n",
    "        if len(List)==1:\n",
    "            print(List)\n",
    "            break\n",
    "\n",
    "if __name__ == '__main__':\n",
    "    josephus(41,3)\n"
   ]
  },
  {
   "cell_type": "code",
   "execution_count": 92,
   "id": "a3a97221",
   "metadata": {},
   "outputs": [],
   "source": [
    "def josephus(n, k):\n",
    "    lst = list(range(1, n+1))\n",
    "    \n",
    "    while len(lst)>1:\n",
    "        for i in range(k-1):\n",
    "            b = lst.pop(0)\n",
    "            lst.append(b)\n",
    "        lst.pop(0)\n",
    "    return lst"
   ]
  },
  {
   "cell_type": "code",
   "execution_count": 93,
   "id": "412ae012",
   "metadata": {},
   "outputs": [
    {
     "data": {
      "text/plain": [
       "[31]"
      ]
     },
     "execution_count": 93,
     "metadata": {},
     "output_type": "execute_result"
    }
   ],
   "source": [
    "josephus(41,3)"
   ]
  },
  {
   "cell_type": "markdown",
   "id": "e12a5bb6",
   "metadata": {},
   "source": [
    "## 运用单向链表的循环"
   ]
  },
  {
   "cell_type": "code",
   "execution_count": 89,
   "id": "2562fb57",
   "metadata": {},
   "outputs": [
    {
     "name": "stdout",
     "output_type": "stream",
     "text": [
      "3-->6-->9-->12-->15-->18-->21-->24-->27-->30-->33-->36-->39-->1-->5-->10-->14-->19-->23-->28-->32-->37-->41-->7-->13-->20-->26-->34-->40-->8-->17-->29-->38-->11-->25-->2-->22-->4-->35-->16-->31\n"
     ]
    }
   ],
   "source": [
    "class Node(object):\n",
    "    \"\"\"结点\"\"\"\n",
    "    def __init__(self,item):\n",
    "        self.elem = item\n",
    "        self.next = None\n",
    "\n",
    "class SingleCycleLinkList(object):\n",
    "    \"\"\"单向循环链表\"\"\"\n",
    "    def __init__(self):\n",
    "        self.head = None\n",
    "\n",
    "    def append(self,item):\n",
    "        node = Node(item)\n",
    "        if self.head is None:\n",
    "            self.head = node\n",
    "            node.next = node\n",
    "        else:\n",
    "            cur = self.head\n",
    "            while cur.next != self.head:\n",
    "                cur = cur.next\n",
    "            cur.next = node\n",
    "            node.next = self.head\n",
    "\n",
    "    def travel(self):\n",
    "        cur = self.head\n",
    "        while cur.next != self.head:\n",
    "            print(cur.elem, end=\" \")\n",
    "            cur = cur.next\n",
    "        print(cur.elem)\n",
    "\n",
    "    def remove(self,item):\n",
    "        '''删除节点'''\n",
    "        cur = self.head\n",
    "        pre = None\n",
    "        while cur.next != self.head:\n",
    "            if cur.elem == item:\n",
    "                #头节点的情况\n",
    "                if cur == self.head:\n",
    "                    rear = self.head\n",
    "                    while rear.next != self.head:\n",
    "                        rear = rear.next\n",
    "                    rear.next = cur.next\n",
    "                    self.head = cur.next\n",
    "                else:\n",
    "                    #中间结点的情况\n",
    "                    pre.next = cur.next\n",
    "                return\n",
    "            else:\n",
    "                pre = cur\n",
    "                cur = cur.next\n",
    "    #尾节点的情况和一个元素的情况\n",
    "        if cur.elem == item:\n",
    "                # 一个元素的情况\n",
    "            if cur == self.head:\n",
    "                self.head = None\n",
    "                # 尾节点元素的情况\n",
    "            else:\n",
    "                pre.next = self.head\n",
    "                # pre.next = cur.next\n",
    "\n",
    "    def judgement(self):\n",
    "        cur = self.head\n",
    "        count = 1\n",
    "        while cur != cur.next :\n",
    "            cur = cur.next\n",
    "            count += 1\n",
    "            if count == 3:\n",
    "                self.remove(cur.elem)\n",
    "                print(\"%d-->\"%cur.elem,end=\"\")\n",
    "                count = 0\n",
    "        print(cur.elem)\n",
    "\n",
    "if __name__ == '__main__':\n",
    "    sll = SingleCycleLinkList()\n",
    "    for i in range(1,42):\n",
    "        sll.append(i)\n",
    "    sll.judgement()"
   ]
  },
  {
   "cell_type": "code",
   "execution_count": null,
   "id": "bb590ef6",
   "metadata": {},
   "outputs": [],
   "source": []
  }
 ],
 "metadata": {
  "kernelspec": {
   "display_name": "Python 3 (ipykernel)",
   "language": "python",
   "name": "python3"
  },
  "language_info": {
   "codemirror_mode": {
    "name": "ipython",
    "version": 3
   },
   "file_extension": ".py",
   "mimetype": "text/x-python",
   "name": "python",
   "nbconvert_exporter": "python",
   "pygments_lexer": "ipython3",
   "version": "3.9.12"
  }
 },
 "nbformat": 4,
 "nbformat_minor": 5
}
