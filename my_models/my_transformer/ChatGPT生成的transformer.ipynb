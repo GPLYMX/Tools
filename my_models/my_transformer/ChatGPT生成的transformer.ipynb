{
 "cells": [
  {
   "cell_type": "code",
   "execution_count": null,
   "id": "e6730b70",
   "metadata": {},
   "outputs": [],
   "source": [
    "import torch\n",
    "import torch.nn as nn\n",
    "import torch.nn.functional as F"
   ]
  },
  {
   "cell_type": "code",
   "execution_count": null,
   "id": "401c8800",
   "metadata": {},
   "outputs": [],
   "source": [
    "# 定义Transformer模型的编码器和解码器\n",
    "class TransformerEncoder(nn.Module):\n",
    "    def __init__(self, num_layers, hidden_size, num_heads, dropout):\n",
    "        super(TransformerEncoder, self).__init__()\n",
    "        self.layers = nn.ModuleList([\n",
    "            nn.TransformerEncoderLayer(hidden_size, num_heads, hidden_size * 4, dropout)\n",
    "            for _ in range(num_layers)\n",
    "        ])\n",
    "        self.norm = nn.LayerNorm(hidden_size)\n",
    "\n",
    "    def forward(self, x):\n",
    "        for layer in self.layers:\n",
    "            x = layer(x)\n",
    "        x = self.norm(x)\n",
    "        return x\n",
    "\n",
    "class TransformerDecoder(nn.Module):\n",
    "    def __init__(self, hidden_size, num_classes):\n",
    "        super(TransformerDecoder, self).__init__()\n",
    "        self.fc = nn.Linear(hidden_size, num_classes)\n",
    "\n",
    "    def forward(self, x):\n",
    "        x = self.fc(x)\n",
    "        return x\n"
   ]
  },
  {
   "cell_type": "code",
   "execution_count": null,
   "id": "22de2ebc",
   "metadata": {},
   "outputs": [],
   "source": [
    "# 定义完整的Transformer模型，包括编码器和解码器\n",
    "class Transformer(nn.Module):\n",
    "    def __init__(self, img_size, num_layers, hidden_size, num_heads, dropout, num_classes):\n",
    "        super(Transformer, self).__init__()\n",
    "        self.embedding = nn.Sequential(\n",
    "            nn.Linear(img_size, hidden_size),\n",
    "            nn.LayerNorm(hidden_size)\n",
    "        )\n",
    "        self.encoder = TransformerEncoder(num_layers, hidden_size, num_heads, dropout)\n",
    "        self.decoder = TransformerDecoder(hidden_size, num_classes)\n",
    "\n",
    "    def forward(self, x):\n",
    "        x = self.embedding(x)\n",
    "        x = x.transpose(0, 1)\n",
    "        x = self.encoder(x)\n",
    "        x = x.mean(dim=0)\n",
    "        x = self.decoder(x)\n",
    "        return x"
   ]
  },
  {
   "cell_type": "code",
   "execution_count": null,
   "id": "de3f62b9",
   "metadata": {},
   "outputs": [],
   "source": [
    "model = Transformer(img_size=224*224, num_layers=4, hidden_size=512, num_heads=8, dropout=0.1, num_classes=10)\n",
    "x = torch.randn(10, 32, 224, 224)\n",
    "y = model(x.view(10, -1, 224*224))\n",
    "print(y.shape) # 输出：torch.Size([10, 10])\n"
   ]
  },
  {
   "cell_type": "code",
   "execution_count": null,
   "id": "a874cd0b",
   "metadata": {},
   "outputs": [],
   "source": []
  }
 ],
 "metadata": {
  "kernelspec": {
   "display_name": "Python 3 (ipykernel)",
   "language": "python",
   "name": "python3"
  },
  "language_info": {
   "codemirror_mode": {
    "name": "ipython",
    "version": 3
   },
   "file_extension": ".py",
   "mimetype": "text/x-python",
   "name": "python",
   "nbconvert_exporter": "python",
   "pygments_lexer": "ipython3",
   "version": "3.9.12"
  }
 },
 "nbformat": 4,
 "nbformat_minor": 5
}
