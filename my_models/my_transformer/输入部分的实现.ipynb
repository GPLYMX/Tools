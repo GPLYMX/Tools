{
 "cells": [
  {
   "cell_type": "code",
   "execution_count": 14,
   "id": "e9063638",
   "metadata": {},
   "outputs": [],
   "source": [
    "import math\n",
    "\n",
    "import torch\n",
    "import torch.nn as nn\n",
    "import numpy as np\n",
    "from torch.autograd import Variable # torch中变量封装函数"
   ]
  },
  {
   "cell_type": "code",
   "execution_count": 15,
   "id": "c8fa1168",
   "metadata": {},
   "outputs": [],
   "source": [
    "# 定义embeddings类来实现文本嵌入层，这里s说明代表两个一模一样的嵌入层，他们共享参数.\n",
    "# 该类继承nn.Module，这样就有标准层的一些功能，这里我们也可以理解为一种模式，我们自己实现所有层\n",
    "class Embeddings(nn.Module):\n",
    "    def __init__(self, d_model, vocab):\n",
    "        \"\"\"\n",
    "        :param d_model:指词的嵌入维度\n",
    "        :param vocab:指词表的大小\n",
    "        \"\"\"\n",
    "        super(Embeddings, self).__init__()\n",
    "        # 调用nn中的预定一层Dmbedding，获得一个词嵌入对象self.lut\n",
    "        self.lut = nn.Embedding(vocal, d_model)\n",
    "        self.d_model = d_model\n",
    "        \n",
    "    def foreard(self, x):\n",
    "        \n",
    "        return self.lut(x) * math.sqrt(self.d_model)"
   ]
  },
  {
   "cell_type": "code",
   "execution_count": 16,
   "id": "9264516c",
   "metadata": {},
   "outputs": [],
   "source": [
    "def subsequent_mask(size):\n",
    "    \"\"\"\n",
    "    生成向后遮掩的掩码张良\n",
    "    :param size:掩码张量最后两个维度的大小，最后两个维度大小相等、是一个方阵\n",
    "    \"\"\"\n",
    "    # 定义掩码张量的形状\n",
    "    attn_shape = (1, size, size)\n",
    "    \n",
    "    # 形成右上三角阵，数据格式为uint8(节约空间)\n",
    "    subsequent_mask = np.triu(np.ones(attn_shape), k=1).astype('uint8')\n",
    "    \n",
    "    # 右上三角反转为左下三角\n",
    "    return torch.from_numpy(1-subsequent_mask)"
   ]
  },
  {
   "cell_type": "code",
   "execution_count": 17,
   "id": "4140bfeb",
   "metadata": {},
   "outputs": [
    {
     "name": "stderr",
     "output_type": "stream",
     "text": [
      "usage: ipykernel_launcher.py [-h] [--sparse] [--seed SEED] [--epochs EPOCHS]\n",
      "ipykernel_launcher.py: error: unrecognized arguments: -f C:\\Users\\GP1\\AppData\\Roaming\\jupyter\\runtime\\kernel-3f18184e-eb23-4b4c-9115-4b04fe998ceb.json\n"
     ]
    },
    {
     "ename": "SystemExit",
     "evalue": "2",
     "output_type": "error",
     "traceback": [
      "An exception has occurred, use %tb to see the full traceback.\n",
      "\u001b[1;31mSystemExit\u001b[0m\u001b[1;31m:\u001b[0m 2\n"
     ]
    }
   ],
   "source": [
    "import argparse\n",
    "\n",
    "parser = argparse.ArgumentParser(description='test')\n",
    "\n",
    "parser.add_argument('--sparse', action='store_true', default=False, help='GAT with sparse version or not.')\n",
    "parser.add_argument('--seed', type=int, default=72, help='Random seed.')\n",
    "parser.add_argument('--epochs', type=int, default=10000, help='Number of epochs to train.')\n",
    "\n",
    "args = parser.parse_args()\n",
    "print(args.sparse)\n",
    "print(args.seed)\n",
    "print(args.epochs)"
   ]
  }
 ],
 "metadata": {
  "kernelspec": {
   "display_name": "Python 3 (ipykernel)",
   "language": "python",
   "name": "python3"
  },
  "language_info": {
   "codemirror_mode": {
    "name": "ipython",
    "version": 3
   },
   "file_extension": ".py",
   "mimetype": "text/x-python",
   "name": "python",
   "nbconvert_exporter": "python",
   "pygments_lexer": "ipython3",
   "version": "3.9.12"
  }
 },
 "nbformat": 4,
 "nbformat_minor": 5
}
