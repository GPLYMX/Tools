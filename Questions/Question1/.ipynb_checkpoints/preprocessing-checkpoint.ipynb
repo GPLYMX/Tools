{
 "cells": [
  {
   "cell_type": "code",
   "execution_count": 7,
   "id": "26772253",
   "metadata": {},
   "outputs": [],
   "source": [
    "import numpy as np\n",
    "\n",
    "# 读取raw文件\n",
    "def read_raw_file(file_path, width, height):\n",
    "    # 指定数据类型和尺寸\n",
    "    data_type = np.uint8  # 根据实际情况选择数据类型\n",
    "    data_shape = (20,height, width)  # 根据实际图像尺寸设置\n",
    "\n",
    "    # 读取raw文件数据\n",
    "    raw_data = np.fromfile(file_path, dtype=data_type)\n",
    "    # 调整数据形状\n",
    "    raw_data = np.reshape(raw_data, data_shape)\n",
    "\n",
    "    return raw_data\n",
    "\n",
    "# 示例用法\n",
    "file_path = r\"C:\\Users\\Administrator\\mypython\\研究院笔试题\\第一题：分类识别\\peanut_traning_data\\cube_20221019_094726\\ENVI_cube_20221019_094726.raw\"\n",
    "width = 1280  # 图像宽度\n",
    "height = 1024  # 图像高度\n",
    "\n",
    "# 读取raw文件\n",
    "image_data = read_raw_file(file_path, width, height)\n"
   ]
  },
  {
   "cell_type": "code",
   "execution_count": 1,
   "id": "37dfd3a8",
   "metadata": {},
   "outputs": [
    {
     "ename": "FileNotFoundError",
     "evalue": "[WinError 3] 系统找不到指定的路径。: 'C:\\\\Users\\\\Administrator\\\\mypython\\\\Questions\\\\Question1\\\\peanut_traning_data\\\\cube_20221019_091444\\\\png'",
     "output_type": "error",
     "traceback": [
      "\u001b[1;31m---------------------------------------------------------------------------\u001b[0m",
      "\u001b[1;31mFileNotFoundError\u001b[0m                         Traceback (most recent call last)",
      "Input \u001b[1;32mIn [1]\u001b[0m, in \u001b[0;36m<cell line: 11>\u001b[1;34m()\u001b[0m\n\u001b[0;32m      9\u001b[0m \u001b[38;5;66;03m# 读取图片\u001b[39;00m\n\u001b[0;32m     10\u001b[0m image_list \u001b[38;5;241m=\u001b[39m []\n\u001b[1;32m---> 11\u001b[0m \u001b[38;5;28;01mfor\u001b[39;00m filename \u001b[38;5;129;01min\u001b[39;00m \u001b[43mos\u001b[49m\u001b[38;5;241;43m.\u001b[39;49m\u001b[43mlistdir\u001b[49m\u001b[43m(\u001b[49m\u001b[43mfolder_path\u001b[49m\u001b[43m)\u001b[49m:\n\u001b[0;32m     12\u001b[0m     \u001b[38;5;28;01mif\u001b[39;00m filename\u001b[38;5;241m.\u001b[39mendswith(\u001b[38;5;124m'\u001b[39m\u001b[38;5;124m.png\u001b[39m\u001b[38;5;124m'\u001b[39m):\n\u001b[0;32m     13\u001b[0m         image_path \u001b[38;5;241m=\u001b[39m os\u001b[38;5;241m.\u001b[39mpath\u001b[38;5;241m.\u001b[39mjoin(folder_path, filename)\n",
      "\u001b[1;31mFileNotFoundError\u001b[0m: [WinError 3] 系统找不到指定的路径。: 'C:\\\\Users\\\\Administrator\\\\mypython\\\\Questions\\\\Question1\\\\peanut_traning_data\\\\cube_20221019_091444\\\\png'"
     ]
    }
   ],
   "source": [
    "import numpy as np\n",
    "import cv2\n",
    "import os\n",
    "\n",
    "# 图片文件夹路径\n",
    "current_path = os.getcwd()\n",
    "folder_path = os.path.join(current_path,'peanut_traning_data','cube_20221019_091444', 'png' )\n",
    "\n",
    "# 读取图片\n",
    "image_list = []\n",
    "for filename in os.listdir(folder_path):\n",
    "    if filename.endswith('.png'):\n",
    "        image_path = os.path.join(folder_path, filename)\n",
    "        image = cv2.imread(image_path, cv2.IMREAD_GRAYSCALE)  # 以灰度模式读取图片\n",
    "        print(image.shape)\n",
    "        image_list.append(image)\n",
    "\n",
    "# 将图片转换为NumPy数组\n",
    "image_array = np.array(image_list)\n",
    "\n",
    "# 输出数组形状\n",
    "print(image_array.shape)"
   ]
  },
  {
   "cell_type": "code",
   "execution_count": null,
   "id": "1306b6fe",
   "metadata": {},
   "outputs": [],
   "source": [
    "image_array"
   ]
  },
  {
   "cell_type": "code",
   "execution_count": null,
   "id": "46321808",
   "metadata": {},
   "outputs": [],
   "source": []
  }
 ],
 "metadata": {
  "kernelspec": {
   "display_name": "Python 3 (ipykernel)",
   "language": "python",
   "name": "python3"
  },
  "language_info": {
   "codemirror_mode": {
    "name": "ipython",
    "version": 3
   },
   "file_extension": ".py",
   "mimetype": "text/x-python",
   "name": "python",
   "nbconvert_exporter": "python",
   "pygments_lexer": "ipython3",
   "version": "3.9.12"
  }
 },
 "nbformat": 4,
 "nbformat_minor": 5
}
