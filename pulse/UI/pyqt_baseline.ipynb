{
 "cells": [
  {
   "cell_type": "code",
   "execution_count": 2,
   "id": "fb722c2f",
   "metadata": {},
   "outputs": [],
   "source": [
    "import sys"
   ]
  },
  {
   "cell_type": "code",
   "execution_count": 3,
   "id": "5a948721",
   "metadata": {},
   "outputs": [],
   "source": [
    "from PyQt5.QtWidgets import QApplication, QWidget"
   ]
  },
  {
   "cell_type": "code",
   "execution_count": 4,
   "id": "f1b821c9",
   "metadata": {},
   "outputs": [],
   "source": [
    "if __name__ == '__main__':\n",
    "    # 创建QApplication\n",
    "    app = QApplication(sys.argv)\n",
    "    # 创建一个窗口\n",
    "    w = QWidget()\n",
    "    # 设置窗口尺寸\n",
    "    w.resize(1500, 550)\n",
    "    # 移动窗口\n",
    "    w.move(300, 300)\n",
    "    \n",
    "    # 色湖之窗口的标题\n",
    "    w.setWindowTitle('第一个基于PYQT5的桌面应用')\n",
    "    w.show()\n",
    "    \n",
    "    # 进入程序的主循环，并通过exit函数确保主循环安全结束\n",
    "    "
   ]
  },
  {
   "cell_type": "code",
   "execution_count": null,
   "id": "16e19f0f",
   "metadata": {},
   "outputs": [],
   "source": []
  }
 ],
 "metadata": {
  "kernelspec": {
   "display_name": "Python 3 (ipykernel)",
   "language": "python",
   "name": "python3"
  },
  "language_info": {
   "codemirror_mode": {
    "name": "ipython",
    "version": 3
   },
   "file_extension": ".py",
   "mimetype": "text/x-python",
   "name": "python",
   "nbconvert_exporter": "python",
   "pygments_lexer": "ipython3",
   "version": "3.9.12"
  }
 },
 "nbformat": 4,
 "nbformat_minor": 5
}
