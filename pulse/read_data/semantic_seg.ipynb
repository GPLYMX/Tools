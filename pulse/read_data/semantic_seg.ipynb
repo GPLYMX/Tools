{
 "cells": [
  {
   "cell_type": "code",
   "execution_count": 98,
   "id": "8e9cf90a",
   "metadata": {},
   "outputs": [],
   "source": [
    "import os\n",
    "import torch\n",
    "import torch.nn as nn\n",
    "import torch.optim as optim\n",
    "from torch.utils.data import Dataset, DataLoader\n",
    "from torchvision.transforms import ToTensor\n",
    "from PIL import Image\n",
    "from matplotlib import pyplot as plt"
   ]
  },
  {
   "cell_type": "code",
   "execution_count": 99,
   "id": "37e62272",
   "metadata": {},
   "outputs": [],
   "source": [
    "device = torch.device('cuda' if torch.cuda.is_available() else 'cpu')"
   ]
  },
  {
   "cell_type": "code",
   "execution_count": 100,
   "id": "7ea67e25",
   "metadata": {},
   "outputs": [],
   "source": [
    "# 自定义数据集类\n",
    "class SemanticSegmentationDataset(Dataset):\n",
    "    def __init__(self, data_dir, label_dir, transform=None):\n",
    "        self.data_dir = data_dir\n",
    "        self.label_dir = label_dir\n",
    "        self.transform = transform\n",
    "\n",
    "        # 获取数据和标签文件名列表\n",
    "        self.data_filenames = os.listdir(data_dir)\n",
    "        self.label_filenames = os.listdir(label_dir)\n",
    "\n",
    "    def __len__(self):\n",
    "        return len(self.data_filenames)\n",
    "\n",
    "    def __getitem__(self, idx):\n",
    "        # 读取数据和标签图像\n",
    "        data_path = os.path.join(self.data_dir, self.data_filenames[idx])\n",
    "        label_path = os.path.join(self.label_dir, self.label_filenames[idx])\n",
    "        data_image = Image.open(data_path).convert('RGB')\n",
    "        data_image = data_image.resize((348, 230))\n",
    "        label_image = Image.open(label_path).convert('L')\n",
    "        label_image = label_image.resize((348, 230))\n",
    "\n",
    "        # 数据预处理\n",
    "        if self.transform:\n",
    "            data_image = self.transform(data_image)\n",
    "            label_image = self.transform(label_image)\n",
    "\n",
    "        return data_image, label_image\n"
   ]
  },
  {
   "cell_type": "code",
   "execution_count": 147,
   "id": "40e04d36",
   "metadata": {},
   "outputs": [],
   "source": [
    "# 定义语义分割模型\n",
    "class SemanticSegmentationModel(nn.Module):\n",
    "    def __init__(self, in_channels, out_channels):\n",
    "        super(SemanticSegmentationModel, self).__init__()\n",
    "\n",
    "        # 编码器部分\n",
    "        self.encoder = nn.Sequential(\n",
    "            nn.Conv2d(in_channels, 64, kernel_size=3, stride=1, padding=1),\n",
    "            nn.ReLU(),\n",
    "            nn.Conv2d(64, 64, kernel_size=3, stride=1, padding=1),\n",
    "            nn.ReLU(),\n",
    "            nn.MaxPool2d(kernel_size=2, stride=2)\n",
    "        )\n",
    "\n",
    "        # 解码器部分\n",
    "        self.decoder = nn.Sequential(\n",
    "            nn.Conv2d(64, 64, kernel_size=3, stride=1, padding=1),\n",
    "            nn.ReLU(),\n",
    "            nn.Conv2d(64, out_channels, kernel_size=3, stride=1, padding=1),\n",
    "            nn.ReLU(),\n",
    "            nn.Upsample(scale_factor=2, mode='bilinear', align_corners=True)\n",
    "        )\n",
    "\n",
    "    def forward(self, x):\n",
    "        # 编码器\n",
    "        encoded = self.encoder(x)\n",
    "\n",
    "        # 解码器\n",
    "        decoded = self.decoder(encoded)\n",
    "\n",
    "        return decoded"
   ]
  },
  {
   "cell_type": "code",
   "execution_count": 149,
   "id": "5e815508",
   "metadata": {},
   "outputs": [
    {
     "name": "stdout",
     "output_type": "stream",
     "text": [
      "Epoch [1/100], Loss: 19.0176\n",
      "Epoch [2/100], Loss: 19.0491\n",
      "Epoch [3/100], Loss: 18.8073\n",
      "Epoch [4/100], Loss: 19.0553\n",
      "Epoch [5/100], Loss: 19.2958\n",
      "Epoch [6/100], Loss: 19.1698\n",
      "Epoch [7/100], Loss: 19.8761\n",
      "Epoch [8/100], Loss: 12.4031\n",
      "Epoch [9/100], Loss: 19.2650\n",
      "Epoch [10/100], Loss: 13.2718\n",
      "Epoch [11/100], Loss: 10.6841\n",
      "Epoch [12/100], Loss: 10.1310\n",
      "Epoch [13/100], Loss: 19.0898\n",
      "Epoch [14/100], Loss: 19.0874\n",
      "Epoch [15/100], Loss: 19.0334\n",
      "Epoch [16/100], Loss: 18.9513\n",
      "Epoch [17/100], Loss: 9.9558\n",
      "Epoch [18/100], Loss: 9.9295\n",
      "Epoch [19/100], Loss: 18.8224\n",
      "Epoch [20/100], Loss: 19.0194\n",
      "Epoch [21/100], Loss: 19.0012\n",
      "Epoch [22/100], Loss: 18.6703\n",
      "Epoch [23/100], Loss: 9.7321\n",
      "Epoch [24/100], Loss: 11.2109\n",
      "Epoch [25/100], Loss: 18.6687\n",
      "Epoch [26/100], Loss: 9.6294\n",
      "Epoch [27/100], Loss: 19.2061\n",
      "Epoch [28/100], Loss: 18.5778\n",
      "Epoch [29/100], Loss: 9.5449\n",
      "Epoch [30/100], Loss: 19.2162\n",
      "Epoch [31/100], Loss: 19.0403\n",
      "Epoch [32/100], Loss: 18.4934\n",
      "Epoch [33/100], Loss: 10.8935\n",
      "Epoch [34/100], Loss: 18.5155\n",
      "Epoch [35/100], Loss: 9.4564\n",
      "Epoch [36/100], Loss: 18.8719\n",
      "Epoch [37/100], Loss: 18.8550\n",
      "Epoch [38/100], Loss: 18.8485\n",
      "Epoch [39/100], Loss: 18.6642\n",
      "Epoch [40/100], Loss: 9.4336\n",
      "Epoch [41/100], Loss: 10.6482\n",
      "Epoch [42/100], Loss: 18.4324\n",
      "Epoch [43/100], Loss: 10.6024\n",
      "Epoch [44/100], Loss: 10.0160\n",
      "Epoch [45/100], Loss: 18.8857\n",
      "Epoch [46/100], Loss: 11.0244\n",
      "Epoch [47/100], Loss: 18.9187\n",
      "Epoch [48/100], Loss: 18.9096\n",
      "Epoch [49/100], Loss: 11.3839\n",
      "Epoch [50/100], Loss: 18.8944\n",
      "Epoch [51/100], Loss: 18.6449\n",
      "Epoch [52/100], Loss: 9.4606\n",
      "Epoch [53/100], Loss: 10.7914\n",
      "Epoch [54/100], Loss: 18.5149\n",
      "Epoch [55/100], Loss: 18.5152\n",
      "Epoch [56/100], Loss: 18.3918\n",
      "Epoch [57/100], Loss: 18.8284\n",
      "Epoch [58/100], Loss: 9.3784\n",
      "Epoch [59/100], Loss: 18.3721\n",
      "Epoch [60/100], Loss: 18.3750\n",
      "Epoch [61/100], Loss: 18.8112\n",
      "Epoch [62/100], Loss: 18.4206\n",
      "Epoch [63/100], Loss: 18.4049\n",
      "Epoch [64/100], Loss: 10.3097\n",
      "Epoch [65/100], Loss: 9.2663\n",
      "Epoch [66/100], Loss: 18.3346\n",
      "Epoch [67/100], Loss: 18.7823\n",
      "Epoch [68/100], Loss: 18.8189\n",
      "Epoch [69/100], Loss: 9.2455\n",
      "Epoch [70/100], Loss: 10.2649\n",
      "Epoch [71/100], Loss: 9.2428\n",
      "Epoch [72/100], Loss: 9.2466\n",
      "Epoch [73/100], Loss: 9.2788\n",
      "Epoch [74/100], Loss: 18.6629\n",
      "Epoch [75/100], Loss: 18.8071\n",
      "Epoch [76/100], Loss: 18.3579\n",
      "Epoch [77/100], Loss: 18.3255\n",
      "Epoch [78/100], Loss: 18.5058\n",
      "Epoch [79/100], Loss: 18.7921\n",
      "Epoch [80/100], Loss: 10.3656\n",
      "Epoch [81/100], Loss: 18.3335\n",
      "Epoch [82/100], Loss: 9.3961\n",
      "Epoch [83/100], Loss: 18.7546\n",
      "Epoch [84/100], Loss: 18.7553\n",
      "Epoch [85/100], Loss: 9.2882\n",
      "Epoch [86/100], Loss: 18.7481\n",
      "Epoch [87/100], Loss: 18.3961\n",
      "Epoch [88/100], Loss: 18.7491\n",
      "Epoch [89/100], Loss: 9.3190\n",
      "Epoch [90/100], Loss: 18.7242\n",
      "Epoch [91/100], Loss: 18.7127\n",
      "Epoch [92/100], Loss: 9.1595\n",
      "Epoch [93/100], Loss: 18.2910\n",
      "Epoch [94/100], Loss: 18.6782\n",
      "Epoch [95/100], Loss: 18.7120\n",
      "Epoch [96/100], Loss: 9.1840\n",
      "Epoch [97/100], Loss: 9.9663\n",
      "Epoch [98/100], Loss: 9.1486\n",
      "Epoch [99/100], Loss: 18.7795\n",
      "Epoch [100/100], Loss: 9.2301\n"
     ]
    }
   ],
   "source": [
    "# 设置数据和标签的文件夹路径\n",
    "data_dir = 'datas/data'\n",
    "label_dir = 'datas/label'\n",
    "\n",
    "# 创建自定义数据集和数据加载器\n",
    "transform = ToTensor()\n",
    "dataset = SemanticSegmentationDataset(data_dir, label_dir, transform=transform)\n",
    "dataloader = DataLoader(dataset, batch_size=1, shuffle=True)\n",
    "\n",
    "# 创建语义分割模型实例\n",
    "in_channels = 3  # 输入图像的通道数\n",
    "out_channels = 1  # 输出的类别数（包括背景和目标区域）\n",
    "model = SemanticSegmentationModel(in_channels, out_channels)\n",
    "\n",
    "# 设置训练超参数\n",
    "num_epochs = 100\n",
    "learning_rate = 0.001\n",
    "\n",
    "# 将模型移动到设备上\n",
    "device = torch.device('cuda' if torch.cuda.is_available() else 'cpu')\n",
    "model.to(device)\n",
    "\n",
    "# 获取模型的可训练参数\n",
    "params = [param for param in model.parameters() if param.requires_grad]\n",
    "\n",
    "# 定义损失函数和优化器\n",
    "criterion = nn.CrossEntropyLoss()\n",
    "optimizer = optim.Adam(params, lr=learning_rate)\n",
    "lst = []\n",
    "lst2 = []\n",
    "# 训练模型\n",
    "for epoch in range(num_epochs):\n",
    "    for data, label in dataloader:\n",
    "        model.train()\n",
    "        # 数据加载到设备\n",
    "        data = data.to(device)\n",
    "        label = label.to(device)\n",
    "        \n",
    "        # 前向传播\n",
    "        output = model(data)\n",
    "        # plt.imshow(output)\n",
    "        if epoch == (num_epochs -1):\n",
    "            lst.append(output)\n",
    "            lst2.append(label)\n",
    "        # 计算损失\n",
    "        loss = criterion(output[0], label[0])\n",
    "\n",
    "        # 反向传播和优化\n",
    "        optimizer.zero_grad()\n",
    "        loss.backward()\n",
    "        optimizer.step()\n",
    "        model.eval()\n",
    "\n",
    "    print(f\"Epoch [{epoch+1}/{num_epochs}], Loss: {loss.item():.4f}\")\n"
   ]
  },
  {
   "cell_type": "code",
   "execution_count": 187,
   "id": "e9405301",
   "metadata": {},
   "outputs": [],
   "source": [
    "import numpy as np\n",
    "a = lst[3].detach().numpy()"
   ]
  },
  {
   "cell_type": "code",
   "execution_count": 188,
   "id": "4a739dbf",
   "metadata": {},
   "outputs": [
    {
     "data": {
      "text/plain": [
       "tensor(-0., grad_fn=<DivBackward1>)"
      ]
     },
     "execution_count": 188,
     "metadata": {},
     "output_type": "execute_result"
    }
   ],
   "source": [
    "criterion(lst[2], lst2[2])"
   ]
  },
  {
   "cell_type": "code",
   "execution_count": 189,
   "id": "5a352430",
   "metadata": {},
   "outputs": [],
   "source": [
    "a = a[0][0]"
   ]
  },
  {
   "cell_type": "code",
   "execution_count": 190,
   "id": "4dcd79c0",
   "metadata": {},
   "outputs": [
    {
     "data": {
      "text/plain": [
       "<matplotlib.image.AxesImage at 0x1f32134b340>"
      ]
     },
     "execution_count": 190,
     "metadata": {},
     "output_type": "execute_result"
    },
    {
     "data": {
      "image/png": "[encoded data removed]",
      "text/plain": [
       "<Figure size 432x288 with 1 Axes>"
      ]
     },
     "metadata": {
      "needs_background": "light"
     },
     "output_type": "display_data"
    }
   ],
   "source": [
    "plt.imshow(a, cmap='gray')"
   ]
  },
  {
   "cell_type": "code",
   "execution_count": null,
   "id": "affea2ee",
   "metadata": {},
   "outputs": [],
   "source": []
  }
 ],
 "metadata": {
  "kernelspec": {
   "display_name": "Python 3 (ipykernel)",
   "language": "python",
   "name": "python3"
  },
  "language_info": {
   "codemirror_mode": {
    "name": "ipython",
    "version": 3
   },
   "file_extension": ".py",
   "mimetype": "text/x-python",
   "name": "python",
   "nbconvert_exporter": "python",
   "pygments_lexer": "ipython3",
   "version": "3.9.12"
  }
 },
 "nbformat": 4,
 "nbformat_minor": 5
}
