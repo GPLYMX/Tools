{
 "cells": [
  {
   "cell_type": "code",
   "execution_count": 5,
   "id": "affea2ee",
   "metadata": {},
   "outputs": [],
   "source": [
    "import tkinter as tk"
   ]
  },
  {
   "cell_type": "code",
   "execution_count": 6,
   "id": "1a517057",
   "metadata": {},
   "outputs": [],
   "source": [
    "root = tk.Tk()"
   ]
  },
  {
   "cell_type": "code",
   "execution_count": 9,
   "id": "3e6d2260",
   "metadata": {},
   "outputs": [],
   "source": [
    "canvas = tk.Canvas(root, width=400, height=400)"
   ]
  },
  {
   "cell_type": "code",
   "execution_count": 10,
   "id": "b33118af",
   "metadata": {},
   "outputs": [],
   "source": [
    "canvas .pack()"
   ]
  },
  {
   "cell_type": "code",
   "execution_count": 1,
   "id": "de6f8061",
   "metadata": {},
   "outputs": [
    {
     "name": "stdout",
     "output_type": "stream",
     "text": [
      "电脑的分辨率是2560x1440\n",
      "窗口的分辨率是450x300\n"
     ]
    }
   ],
   "source": [
    "import tkinter as tk\n",
    "\n",
    "window =tk.Tk()\n",
    "#设置窗口title\n",
    "window.title('C语言中文网')\n",
    "#设置窗口大小:宽x高,注,此处不能为 \"*\",必须使用 \"x\"\n",
    "window.geometry('450x300')\n",
    "# 获取电脑屏幕的大小\n",
    "print(\"电脑的分辨率是%dx%d\"%(window.winfo_screenwidth(),window.winfo_screenheight()))\n",
    "# 要求窗口的大小，必须先刷新一下屏幕\n",
    "window.update()\n",
    "print(\"窗口的分辨率是%dx%d\"%(window.winfo_width(),window.winfo_height()))\n",
    "# 如使用该函数则窗口不能被拉伸\n",
    "# window.resizable(0,0)\n",
    "# 改变背景颜色\n",
    "window.config(background=\"#6fb765\")\n",
    "# 设置窗口处于顶层\n",
    "window.attributes('-topmost',True)\n",
    "# 设置窗口的透明度\n",
    "window.attributes('-alpha',1)\n",
    "# 设置窗口被允许最大调整的范围，与resizble()冲突\n",
    "window.maxsize(window.winfo_screenwidth(),window.winfo_screenheight())\n",
    "# 设置窗口被允许最小调整的范围，与resizble()冲突\n",
    "window.minsize(50,50)\n",
    "#更改左上角窗口的的icon图标,加载C语言中文网logo标\n",
    "# window.iconbitmap('D:\\MyCodes\\pythonProject\\coated_tongue_color\\datas\\data_with_generate_gray\\category\\4\\36.png')\n",
    "#添加文本内容,并对字体添加相应的格式 font(字体,字号,\"字体类型\")\n",
    "text=tk.Label(window,text=\"C语言中文网，网址：c.biancheng.net\",bg=\"yellow\",fg=\"red\",font=('Times', 15, 'bold italic underline'))\n",
    "#将文本内容放置在主窗口内\n",
    "text.pack()\n",
    "# 添加按钮，以及按钮的文本，并通过command 参数设置关闭窗口的功能\n",
    "button=tk.Button(window,text=\"关闭\",command=window.quit)\n",
    "# 将按钮放置在主窗口内\n",
    "button.pack(side=\"bottom\")\n",
    "#进入主循环，显示主窗口\n",
    "window.mainloop()"
   ]
  },
  {
   "cell_type": "code",
   "execution_count": 20,
   "id": "fa5078cb",
   "metadata": {},
   "outputs": [],
   "source": [
    "import tkinter as tk\n",
    "root = tk.Tk()\n",
    "root.title(\"C语言中文网\")\n",
    "root.geometry('450x180+300+200')\n",
    "#root.iconbitmap('C:/Users/Administrator/Desktop/C语言中文网logo.ico')\n",
    "# 创建一个滚动条控件，默认为垂直方向\n",
    "sbar1= tk.Scrollbar(root)\n",
    "# 将滚动条放置在右侧，并设置当窗口大小改变时滚动条会沿着垂直方向延展\n",
    "sbar1.pack(side=RIGHT, fill=Y)\n",
    "# 创建水平滚动条，默认为水平方向,当拖动窗口时会沿着X轴方向填充\n",
    "sbar2 = Scrollbar (root, orient=HORIZONTAL)\n",
    "sbar2.pack(side=BOTTOM, fill=X)\n",
    "# 创建列表框控件,并添加两个滚动条（分别在垂直和水平方向），使用 set() 进行设置\n",
    "mylist = tk.Listbox(root,xscrollcommand = sbar2.set,yscrollcommand = sbar1.set)\n",
    "for i in range(30):\n",
    "    mylist.insert(END,'第'+ str(i+1)+'次:'+'C语言中文网，网址为：c.biancheng.net'+ '\\n' )\n",
    "# 当窗口改变大小时会在X与Y方向填满窗口\n",
    "mylist.pack(side=LEFT,fill = BOTH)\n",
    "# 使用 command 关联控件的 yview、xview方法\n",
    "sbar1.config(command =mylist.yview)\n",
    "sbar2.config(command = mylist.xview)\n",
    "#  显示主窗口\n",
    "root.mainloop()"
   ]
  },
  {
   "cell_type": "code",
   "execution_count": null,
   "id": "7c425eeb",
   "metadata": {},
   "outputs": [],
   "source": []
  }
 ],
 "metadata": {
  "kernelspec": {
   "display_name": "Python 3 (ipykernel)",
   "language": "python",
   "name": "python3"
  },
  "language_info": {
   "codemirror_mode": {
    "name": "ipython",
    "version": 3
   },
   "file_extension": ".py",
   "mimetype": "text/x-python",
   "name": "python",
   "nbconvert_exporter": "python",
   "pygments_lexer": "ipython3",
   "version": "3.9.12"
  }
 },
 "nbformat": 4,
 "nbformat_minor": 5
}
