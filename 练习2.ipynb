{
 "cells": [
  {
   "cell_type": "code",
   "execution_count": 1,
   "id": "0e5daebc",
   "metadata": {},
   "outputs": [],
   "source": [
    "def b():\n",
    "    print(__name__)"
   ]
  },
  {
   "cell_type": "code",
   "execution_count": 2,
   "id": "af6e55e7",
   "metadata": {},
   "outputs": [
    {
     "name": "stdout",
     "output_type": "stream",
     "text": [
      "__main__\n"
     ]
    }
   ],
   "source": [
    "b()"
   ]
  },
  {
   "cell_type": "code",
   "execution_count": null,
   "id": "3072b33c",
   "metadata": {},
   "outputs": [],
   "source": []
  }
 ],
 "metadata": {
  "kernelspec": {
   "display_name": "Python 3 (ipykernel)",
   "language": "python",
   "name": "python3"
  },
  "language_info": {
   "codemirror_mode": {
    "name": "ipython",
    "version": 3
   },
   "file_extension": ".py",
   "mimetype": "text/x-python",
   "name": "python",
   "nbconvert_exporter": "python",
   "pygments_lexer": "ipython3",
   "version": "3.9.12"
  }
 },
 "nbformat": 4,
 "nbformat_minor": 5
}
