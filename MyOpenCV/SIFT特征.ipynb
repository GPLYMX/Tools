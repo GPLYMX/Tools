{
 "cells": [
  {
   "cell_type": "code",
   "execution_count": 4,
   "id": "88e7734f",
   "metadata": {},
   "outputs": [],
   "source": [
    "import cv2\n",
    "import numpy as np"
   ]
  },
  {
   "cell_type": "code",
   "execution_count": 6,
   "id": "ceeefd6f",
   "metadata": {},
   "outputs": [],
   "source": [
    "img = cv2.imread('T.jpg')\n",
    "gray = cv2.cvtColor(img, cv2.COLOR_BGR2GRAY)"
   ]
  },
  {
   "cell_type": "code",
   "execution_count": 14,
   "id": "d14ba335",
   "metadata": {},
   "outputs": [],
   "source": [
    "# 得到特征点并在图中画出\n",
    "sift = cv2.SIFT_create()\n",
    "kp = sift.detect(gray, None)  # 关键点\n",
    "img = cv2.drawKeypoints(gray, kp, img)\n",
    "\n",
    "cv2.imshow('drawKeypoints', img)\n",
    "cv2.waitKey(0)\n",
    "cv2.destroyAllWindows()"
   ]
  },
  {
   "cell_type": "code",
   "execution_count": 13,
   "id": "ef3bf21a",
   "metadata": {},
   "outputs": [
    {
     "name": "stdout",
     "output_type": "stream",
     "text": [
      "(215,)\n"
     ]
    },
    {
     "data": {
      "text/plain": [
       "(215, 128)"
      ]
     },
     "execution_count": 13,
     "metadata": {},
     "output_type": "execute_result"
    }
   ],
   "source": [
    "# 计算特征\n",
    "kp, des = sift.compute(gray, kp)\n",
    "print (np.array(kp).shape)  # (6807,)表示有6807个特征点\n",
    "des.shape  # (6807, 128)表示每个特征点有128个维度"
   ]
  },
  {
   "cell_type": "code",
   "execution_count": 12,
   "id": "e581c2b6",
   "metadata": {},
   "outputs": [
    {
     "data": {
      "text/plain": [
       "array([ 59.,   4.,   0.,   0.,   0.,   0.,   0.,   7., 187.,  27.,   0.,\n",
       "         0.,   0.,   0.,   0.,  43., 128.,   4.,   1.,  10.,  46.,   8.,\n",
       "         2.,  18.,   0.,   0.,   0.,  46., 127.,   6.,   0.,   0.,  69.,\n",
       "         4.,   0.,   0.,   0.,   0.,   0.,   6., 187.,  34.,   0.,   0.,\n",
       "         0.,   0.,   0.,  13., 170.,  14.,   4.,  65.,  59.,   3.,   1.,\n",
       "         4.,   0.,   0.,   0.,  84., 172.,   4.,   0.,   0.,  29.,   1.,\n",
       "         0.,   0.,   0.,   0.,   0.,   1., 187.,  10.,   0.,   1.,   0.,\n",
       "         0.,   0.,  11.,  84.,   7.,   1.,  32.,  66.,   3.,   0.,   2.,\n",
       "         0.,   0.,   0.,  19., 140.,  25.,   0.,   0.,   0.,   0.,   0.,\n",
       "         0.,   0.,   0.,   0.,   0.,   0.,   0.,   0.,   0.,   0.,   0.,\n",
       "         0.,   0.,   0.,   0.,   0.,   0.,   3.,   0.,   0.,   0.,   0.,\n",
       "         0.,   0.,   1.,  16.,   1.,   0.,   0.], dtype=float32)"
      ]
     },
     "execution_count": 12,
     "metadata": {},
     "output_type": "execute_result"
    }
   ],
   "source": [
    "des[0]"
   ]
  },
  {
   "cell_type": "code",
   "execution_count": null,
   "id": "4800ae44",
   "metadata": {},
   "outputs": [],
   "source": [
    "def cal_sift(root):\n",
    "    img = cv2.imread('T.jpg')\n",
    "gray = cv2.cvtColor(img, cv2.COLOR_BGR2GRAY)"
   ]
  }
 ],
 "metadata": {
  "kernelspec": {
   "display_name": "Python 3 (ipykernel)",
   "language": "python",
   "name": "python3"
  },
  "language_info": {
   "codemirror_mode": {
    "name": "ipython",
    "version": 3
   },
   "file_extension": ".py",
   "mimetype": "text/x-python",
   "name": "python",
   "nbconvert_exporter": "python",
   "pygments_lexer": "ipython3",
   "version": "3.9.12"
  }
 },
 "nbformat": 4,
 "nbformat_minor": 5
}
