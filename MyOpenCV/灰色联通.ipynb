{
 "cells": [
  {
   "cell_type": "code",
   "execution_count": 1,
   "id": "c5407f81",
   "metadata": {},
   "outputs": [],
   "source": [
    "import os\n",
    "\n",
    "import numpy as np\n",
    "from scipy import stats\n",
    "import matplotlib.pyplot as plt\n",
    "import cv2 as cv"
   ]
  },
  {
   "cell_type": "code",
   "execution_count": 2,
   "id": "b2586ca6",
   "metadata": {},
   "outputs": [],
   "source": [
    "img = cv.imread(r'C:\\Users\\GP1\\Documents\\WeChat Files\\wxid_3837678375312\\FileStorage\\File\\2022-08\\seg-crop\\g3.png')"
   ]
  },
  {
   "cell_type": "code",
   "execution_count": 3,
   "id": "d64d1127",
   "metadata": {},
   "outputs": [
    {
     "data": {
      "text/plain": [
       "<matplotlib.image.AxesImage at 0x180a54ecd60>"
      ]
     },
     "execution_count": 3,
     "metadata": {},
     "output_type": "execute_result"
    },
    {
     "data": {
      "image/png": "[encoded data removed]",
      "text/plain": [
       "<Figure size 432x288 with 1 Axes>"
      ]
     },
     "metadata": {
      "needs_background": "light"
     },
     "output_type": "display_data"
    }
   ],
   "source": [
    "plt.imshow(img[:,:,::-1])"
   ]
  },
  {
   "cell_type": "code",
   "execution_count": 4,
   "id": "bb8b9d01",
   "metadata": {},
   "outputs": [
    {
     "name": "stdout",
     "output_type": "stream",
     "text": [
      "(71, 66, 3)\n"
     ]
    }
   ],
   "source": [
    "# img = cv.cvtColor(img, cv.COLOR_BGR2HSV)\n",
    "print(img.shape)\n",
    "lower_color = np.array([0,0,0])\n",
    "upper_color = np.array([100,100,120])\n",
    "mask = cv.inRange(img,lower_color,upper_color)"
   ]
  },
  {
   "cell_type": "code",
   "execution_count": 5,
   "id": "659743a7",
   "metadata": {},
   "outputs": [
    {
     "data": {
      "text/plain": [
       "<matplotlib.image.AxesImage at 0x180a6c63a30>"
      ]
     },
     "execution_count": 5,
     "metadata": {},
     "output_type": "execute_result"
    },
    {
     "data": {
      "image/png": "[encoded data removed]",
      "text/plain": [
       "<Figure size 432x288 with 1 Axes>"
      ]
     },
     "metadata": {
      "needs_background": "light"
     },
     "output_type": "display_data"
    }
   ],
   "source": [
    "plt.imshow(mask)"
   ]
  },
  {
   "cell_type": "code",
   "execution_count": 6,
   "id": "2a3b50db",
   "metadata": {},
   "outputs": [
    {
     "name": "stdout",
     "output_type": "stream",
     "text": [
      "6\n"
     ]
    }
   ],
   "source": [
    "retval, labels, stats, centroids = cv.connectedComponentsWithStats(mask, connectivity=4)\n",
    "print(retval)"
   ]
  },
  {
   "cell_type": "code",
   "execution_count": 7,
   "id": "2a3816e6",
   "metadata": {},
   "outputs": [],
   "source": [
    "def retval_num(img, idx=0.4):\n",
    "    B = np.max(img[:,:,0])\n",
    "    G = np.max(img[:,:,1])\n",
    "    R = np.max(img[:,:,2])\n",
    "    lower_color = np.array([0,0,0])\n",
    "    # upper_color = np.array([100,100,120])\n",
    "    upper_color = np.array([int(idx*B), int(idx*G), int(idx*R)])\n",
    "    mask = cv.inRange(img,lower_color,upper_color)\n",
    "    kernel = np.ones((2, 2), np.uint8)\n",
    "    # mask = cv.dilate(mask, kernel, iteration = 1)\n",
    "    retval, labels, stats, centroids = cv.connectedComponentsWithStats(mask, connectivity=4)\n",
    "    return retval"
   ]
  },
  {
   "cell_type": "code",
   "execution_count": 15,
   "id": "794f491b",
   "metadata": {},
   "outputs": [],
   "source": [
    "root = r'D:\\MyCodes\\pythonProject\\coated_tongue_color\\datas\\data3\\category\\3'"
   ]
  },
  {
   "cell_type": "code",
   "execution_count": 16,
   "id": "c105c4c4",
   "metadata": {},
   "outputs": [],
   "source": [
    "lst = []\n",
    "lst2 = []\n",
    "file_lst = []\n",
    "for filename in os.listdir(root):\n",
    "    img = cv.imread(os.path.join(root, filename))\n",
    "    num = retval_num(img)\n",
    "    if num > 160:\n",
    "        lst2.append([num, filename])\n",
    "    lst.append(num)"
   ]
  },
  {
   "cell_type": "code",
   "execution_count": 17,
   "id": "600ce811",
   "metadata": {},
   "outputs": [
    {
     "data": {
      "text/plain": [
       "8"
      ]
     },
     "execution_count": 17,
     "metadata": {},
     "output_type": "execute_result"
    }
   ],
   "source": [
    "len(lst)"
   ]
  },
  {
   "cell_type": "code",
   "execution_count": 18,
   "id": "e52903ac",
   "metadata": {},
   "outputs": [
    {
     "data": {
      "text/plain": [
       "3"
      ]
     },
     "execution_count": 18,
     "metadata": {},
     "output_type": "execute_result"
    }
   ],
   "source": [
    "len(lst2)"
   ]
  },
  {
   "cell_type": "code",
   "execution_count": 19,
   "id": "4e6d152a",
   "metadata": {},
   "outputs": [
    {
     "name": "stdout",
     "output_type": "stream",
     "text": [
      "336\n",
      "8\n"
     ]
    }
   ],
   "source": [
    "print(max(lst))\n",
    "print(len(lst))"
   ]
  },
  {
   "cell_type": "code",
   "execution_count": 20,
   "id": "624796d7",
   "metadata": {},
   "outputs": [
    {
     "ename": "AttributeError",
     "evalue": "'numpy.ndarray' object has no attribute 'scoreatpercentile'",
     "output_type": "error",
     "traceback": [
      "\u001b[1;31m---------------------------------------------------------------------------\u001b[0m",
      "\u001b[1;31mAttributeError\u001b[0m                            Traceback (most recent call last)",
      "Input \u001b[1;32mIn [20]\u001b[0m, in \u001b[0;36m<cell line: 1>\u001b[1;34m()\u001b[0m\n\u001b[1;32m----> 1\u001b[0m a \u001b[38;5;241m=\u001b[39m \u001b[43mstats\u001b[49m\u001b[38;5;241;43m.\u001b[39;49m\u001b[43mscoreatpercentile\u001b[49m(lst, \u001b[38;5;241m99.9\u001b[39m)\n\u001b[0;32m      2\u001b[0m \u001b[38;5;28mprint\u001b[39m(a)\n",
      "\u001b[1;31mAttributeError\u001b[0m: 'numpy.ndarray' object has no attribute 'scoreatpercentile'"
     ]
    }
   ],
   "source": [
    "a = stats.scoreatpercentile(lst, 99.9)\n",
    "print(a)"
   ]
  },
  {
   "cell_type": "code",
   "execution_count": 21,
   "id": "6e9cea58",
   "metadata": {},
   "outputs": [
    {
     "data": {
      "text/plain": [
       "(array([3., 1., 1., 0., 1., 0., 1., 0., 0., 1.]),\n",
       " array([ 28. ,  58.8,  89.6, 120.4, 151.2, 182. , 212.8, 243.6, 274.4,\n",
       "        305.2, 336. ]),\n",
       " <BarContainer object of 10 artists>)"
      ]
     },
     "execution_count": 21,
     "metadata": {},
     "output_type": "execute_result"
    },
    {
     "data": {
      "image/png": "[encoded data removed]",
      "text/plain": [
       "<Figure size 432x288 with 1 Axes>"
      ]
     },
     "metadata": {
      "needs_background": "light"
     },
     "output_type": "display_data"
    }
   ],
   "source": [
    "plt.hist(lst)"
   ]
  },
  {
   "cell_type": "code",
   "execution_count": 621,
   "id": "ab360f29",
   "metadata": {},
   "outputs": [
    {
     "name": "stdout",
     "output_type": "stream",
     "text": [
      "586\n",
      "123\n",
      "370\n",
      "119\n",
      "265\n",
      "329\n",
      "207\n",
      "186\n",
      "366\n",
      "123\n",
      "760\n",
      "247\n",
      "274\n",
      "211\n",
      "182\n",
      "145\n",
      "681\n",
      "727\n",
      "660\n",
      "846\n",
      "315\n",
      "131\n",
      "625\n",
      "484\n",
      "618\n",
      "331\n",
      "697\n",
      "715\n",
      "319\n",
      "421\n",
      "720\n",
      "227\n",
      "310\n",
      "279\n",
      "319\n",
      "206\n",
      "216\n",
      "262\n",
      "476\n",
      "120\n",
      "103\n",
      "299\n",
      "348\n",
      "130\n",
      "568\n",
      "594\n",
      "1339\n",
      "808\n",
      "271\n",
      "245\n",
      "454\n",
      "732\n",
      "234\n",
      "186\n",
      "565\n",
      "385\n",
      "2788\n",
      "483\n",
      "245\n",
      "142\n",
      "117\n",
      "522\n",
      "154\n",
      "613\n",
      "489\n",
      "237\n",
      "421\n",
      "132\n",
      "151\n",
      "131\n",
      "118\n",
      "787\n",
      "220\n",
      "390\n",
      "729\n"
     ]
    }
   ],
   "source": [
    "for i in lst:\n",
    "    if i > 100:\n",
    "        print(i)"
   ]
  },
  {
   "cell_type": "code",
   "execution_count": 656,
   "id": "8d54ef1a",
   "metadata": {},
   "outputs": [],
   "source": [
    "class Animal():  #  python3中所有类都可以继承于object基类\n",
    "   def __init__(self, name, age):\n",
    "       self.name = name\n",
    "       self.age = age\n",
    "       self.A = 1\n",
    "       print('dsfs')\n",
    "       self.name = 'sdfssffsdf'\n",
    "\n",
    "   def call(self):\n",
    "       print(self.name, '会叫')\n",
    "\n",
    "######\n",
    "# 现在我们需要定义一个Cat 猫类继承于Animal，猫类比动物类多一个sex属性。 \n",
    "######\n",
    "class Cat(Animal):\n",
    "   def __init__(self,name,age,sex):\n",
    "       super(Cat, self).__init__(name,age)  # 不要忘记从Animal类引入属性\n",
    "       self.sex=sex\n",
    "class Dog(Cat):\n",
    "    def __init__(self, name, age, sex, he):\n",
    "        super(Dog, self).__init__"
   ]
  },
  {
   "cell_type": "code",
   "execution_count": 657,
   "id": "5da46f9c",
   "metadata": {},
   "outputs": [
    {
     "name": "stdout",
     "output_type": "stream",
     "text": [
      "dsfs\n"
     ]
    }
   ],
   "source": [
    "a = Animal(1, 2)"
   ]
  },
  {
   "cell_type": "code",
   "execution_count": 658,
   "id": "07601c82",
   "metadata": {
    "scrolled": true
   },
   "outputs": [
    {
     "name": "stdout",
     "output_type": "stream",
     "text": [
      "dsfs\n"
     ]
    }
   ],
   "source": [
    "b = Cat(3, 4, 4)"
   ]
  },
  {
   "cell_type": "code",
   "execution_count": 31,
   "id": "ea0d8867",
   "metadata": {},
   "outputs": [],
   "source": [
    "import os"
   ]
  },
  {
   "cell_type": "code",
   "execution_count": 35,
   "id": "5066e371",
   "metadata": {},
   "outputs": [],
   "source": [
    "a = \"D:\\MyCodes\\pythonProject\\coated_tongue_color\\datas\\data2all\\category\""
   ]
  },
  {
   "cell_type": "code",
   "execution_count": 36,
   "id": "e468b75f",
   "metadata": {},
   "outputs": [
    {
     "name": "stdout",
     "output_type": "stream",
     "text": [
      "D:\\MyCodes\\pythonProject\\coated_tongue_color\\datas\\data2all\\category\n"
     ]
    }
   ],
   "source": [
    "print(a)"
   ]
  },
  {
   "cell_type": "code",
   "execution_count": 43,
   "id": "93af4df4",
   "metadata": {},
   "outputs": [
    {
     "ename": "TypeError",
     "evalue": "'str' object is not callable",
     "output_type": "error",
     "traceback": [
      "\u001b[1;31m---------------------------------------------------------------------------\u001b[0m",
      "\u001b[1;31mTypeError\u001b[0m                                 Traceback (most recent call last)",
      "Input \u001b[1;32mIn [43]\u001b[0m, in \u001b[0;36m<cell line: 1>\u001b[1;34m()\u001b[0m\n\u001b[1;32m----> 1\u001b[0m \u001b[43mos\u001b[49m\u001b[38;5;241;43m.\u001b[39;49m\u001b[43mpath\u001b[49m\u001b[38;5;241;43m.\u001b[39;49m\u001b[43mpardir\u001b[49m\u001b[43m(\u001b[49m\u001b[43mos\u001b[49m\u001b[38;5;241;43m.\u001b[39;49m\u001b[43mpath\u001b[49m\u001b[38;5;241;43m.\u001b[39;49m\u001b[43mabspath\u001b[49m\u001b[43m(\u001b[49m\u001b[43ma\u001b[49m\u001b[43m)\u001b[49m\u001b[43m)\u001b[49m\n",
      "\u001b[1;31mTypeError\u001b[0m: 'str' object is not callable"
     ]
    }
   ],
   "source": [
    "os.path.pardir(os.path.abspath(a))"
   ]
  },
  {
   "cell_type": "code",
   "execution_count": 40,
   "id": "67766928",
   "metadata": {},
   "outputs": [
    {
     "data": {
      "text/plain": [
       "'D:\\\\MyCodes\\\\pythonProject\\\\coated_tongue_color\\\\datas\\\\data2all\\\\category'"
      ]
     },
     "execution_count": 40,
     "metadata": {},
     "output_type": "execute_result"
    }
   ],
   "source": [
    "os.path.abspath(a)"
   ]
  },
  {
   "cell_type": "code",
   "execution_count": 45,
   "id": "49c71ee9",
   "metadata": {},
   "outputs": [
    {
     "name": "stdout",
     "output_type": "stream",
     "text": [
      "D:\\MyCodes\\pythonProject\\coated_tongue_color\\datas\\data2all\n"
     ]
    }
   ],
   "source": [
    "print(os.path.abspath(os.path.join(a, os.path.pardir)))"
   ]
  },
  {
   "cell_type": "code",
   "execution_count": null,
   "id": "a2c5fd24",
   "metadata": {},
   "outputs": [],
   "source": []
  }
 ],
 "metadata": {
  "kernelspec": {
   "display_name": "Python 3 (ipykernel)",
   "language": "python",
   "name": "python3"
  },
  "language_info": {
   "codemirror_mode": {
    "name": "ipython",
    "version": 3
   },
   "file_extension": ".py",
   "mimetype": "text/x-python",
   "name": "python",
   "nbconvert_exporter": "python",
   "pygments_lexer": "ipython3",
   "version": "3.9.12"
  }
 },
 "nbformat": 4,
 "nbformat_minor": 5
}
