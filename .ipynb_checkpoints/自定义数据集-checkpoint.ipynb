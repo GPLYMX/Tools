{
 "cells": [
  {
   "cell_type": "code",
   "execution_count": 33,
   "id": "198ee40f",
   "metadata": {},
   "outputs": [],
   "source": [
    "import os\n",
    "import glob\n",
    "import random\n",
    "import csv\n",
    "import time\n",
    "\n",
    "from PIL import Image\n",
    "import torch\n",
    "import torchvision.transforms as transforms\n",
    "import visdom\n",
    "from torch.utils.data import Dataset, DataLoader\n",
    "from torchvision.models import resnet18\n",
    "import torch.nn as nn\n",
    "import torch.optim as optim"
   ]
  },
  {
   "cell_type": "code",
   "execution_count": 34,
   "id": "e8042025",
   "metadata": {},
   "outputs": [],
   "source": [
    "class Pokemon(Dataset):\n",
    "\n",
    "    def __init__(self, root, resize=32, mode=\"train\", csv_filename='images.csv'):\n",
    "        super(Pokemon, self).__init__()\n",
    "\n",
    "        self.root = root\n",
    "        self.resize = resize\n",
    "        self.images = []\n",
    "        self.labels = []\n",
    "\n",
    "        self.name2label = {}\n",
    "        for name in sorted(os.listdir(os.path.join(root))):\n",
    "            if not os.path.isdir(os.path.join(root, name)):\n",
    "                continue\n",
    "            self.name2label[name] = len(self.name2label.keys())\n",
    "        self.load_csv(csv_filename)\n",
    "        \n",
    "        if mode == 'train':\n",
    "            self.images = self.images[:int(0.6*len(self.images))]\n",
    "            self.labels = self.labels[:int(0.6*len(self.labels))]\n",
    "        elif mode == 'val':\n",
    "            self.images = self.images[int(0.6*len(self.images)):int(0.8*len(self.images))]\n",
    "            self.labels = self.labels[int(0.6*len(self.labels)):int(0.8*len(self.labels))]\n",
    "        elif mode == 'test':\n",
    "            self.images = self.images[int(0.8*len(self.images)):]\n",
    "            self.labels = self.labels[int(0.8*len(self.labels)):]\n",
    "        else:\n",
    "            print('请重新输入mode')\n",
    "\n",
    "    def load_csv(self, filename):\n",
    "        # 保存在CSV文件中\n",
    "        if not os.path.exists(os.path.join(self.root, filename)):\n",
    "            for name in self.name2label.keys():\n",
    "                self.images += glob.glob(os.path.join(self.root, name, '*.png'))\n",
    "                self.images += glob.glob(os.path.join(self.root, name, '*.jpg'))\n",
    "                self.images += glob.glob(os.path.join(self.root, name, '*.jpeg'))\n",
    "            random.shuffle(self.images)\n",
    "            with open(os.path.join(self.root, filename), mode='w', newline='') as f:\n",
    "                writer = csv.writer(f)\n",
    "                for img in self.images:\n",
    "                    name = img.split(os.sep)[-2]\n",
    "                    label = self.name2label[name]\n",
    "                    writer.writerow([img, label])\n",
    "                \n",
    "        with open(os.path.join(self.root, filename)) as f:\n",
    "            reader = csv.reader(f)\n",
    "            for row in reader:\n",
    "                img, label = row\n",
    "                label = int(label)\n",
    "                self.images.append(img)\n",
    "                self.labels.append(label)\n",
    "        assert len(self.images) == len(self.labels)\n",
    "        \n",
    "    def __len__(self):\n",
    "        return len(self.images)\n",
    "    \n",
    "    def denormalize(self, x_hat):\n",
    "        \n",
    "        mean=[0.435, 0.456, 0.406]\n",
    "        std=[0.229, 0.224, 0.225]\n",
    "        mean = torch.tensor(mean).unsqueeze(1).unsqueeze(1)\n",
    "        std = torch.tensor(std).unsqueeze(1).unsqueeze(1)\n",
    "        \n",
    "        x = x_hat * std + mean\n",
    "        \n",
    "        return x\n",
    "    \n",
    "    def __getitem__(self, idx):\n",
    "        img, label = self.images[idx], self.labels[idx]\n",
    "        tf = transforms.Compose([\n",
    "            lambda x:Image.open(x).convert('RGB'),\n",
    "            transforms.Resize((self.resize, self.resize)),\n",
    "            transforms.RandomRotation(15),\n",
    "            transforms.CenterCrop(self.resize),\n",
    "            transforms.ToTensor(),\n",
    "            transforms.Normalize(mean=[0.435, 0.456, 0.406],\n",
    "                                 std=[0.229, 0.224, 0.225])\n",
    "        ])\n",
    "        img = tf(img)\n",
    "        label = torch.tensor(int(label))\n",
    "        return img,label"
   ]
  },
  {
   "cell_type": "code",
   "execution_count": 4,
   "id": "887241f9",
   "metadata": {},
   "outputs": [
    {
     "name": "stderr",
     "output_type": "stream",
     "text": [
      "Setting up a new session...\n"
     ]
    },
    {
     "name": "stdout",
     "output_type": "stream",
     "text": [
      "sample: torch.Size([3, 224, 224]) torch.Size([]) tensor(1)\n"
     ]
    },
    {
     "data": {
      "text/plain": [
       "'sample_x'"
      ]
     },
     "execution_count": 4,
     "metadata": {},
     "output_type": "execute_result"
    }
   ],
   "source": [
    "db = Pokemon('D:\\MyCode\\dataset\\pokeman', resize=224, mode=\"train\")\n",
    "viz = visdom.Visdom()\n",
    "x, y = next(iter(db))\n",
    "print('sample:', x.shape, y.shape, y)\n",
    "viz.image(db.denormalize(x), win='sample_x', opts=dict(title='sample_x'))\n",
    "\n",
    "# loader = DataLoader(db, batch_size=32, shuffle=True)\n",
    "# for x, y in loader:\n",
    "#     viz.images(db.denormalize(x), nrow=8, win='batch', opts=dict(title='batch'))\n",
    "#     viz.text(str(y.numpy()), win='label', opts=dict(title='batch-y'))\n",
    "#     time.sleep(10)"
   ]
  },
  {
   "cell_type": "code",
   "execution_count": 35,
   "id": "f8ee98b3",
   "metadata": {},
   "outputs": [],
   "source": [
    "def evalute(model, loader):\n",
    "    correct = 0\n",
    "    total = len(loader.dataset)\n",
    "    for x, y in loader:\n",
    "        x, y = x.to(device), y.to(device)\n",
    "        with torch.no_grad():\n",
    "            logits = model(x)\n",
    "            pred = logits.argmax(dim=1)\n",
    "        correct += torch.eq(pred, y).sum().float().item()\n",
    "    return correct/total"
   ]
  },
  {
   "cell_type": "code",
   "execution_count": 36,
   "id": "382071e5",
   "metadata": {},
   "outputs": [],
   "source": [
    "class Flatten(nn.Module):\n",
    "    def __init__(self):\n",
    "        super(Flatten, self).__init__()\n",
    "    def forward(self, x):\n",
    "        shape = torch.prod(torch.tensor(x.shape[1:])).item()\n",
    "        return x.view(-1, shape)"
   ]
  },
  {
   "cell_type": "code",
   "execution_count": null,
   "id": "134a5a26",
   "metadata": {},
   "outputs": [],
   "source": [
    "batchsz = 32\n",
    "lr = 1e-3\n",
    "epochs = 10\n",
    "# device = torch.device('cuda')\n",
    "torch.manual_seed(1234)\n",
    "\n",
    "\n",
    "def main():\n",
    "    train_db = Pokemon('D:\\MyCode\\dataset\\pokeman', 224, mode='train')\n",
    "    val_db = Pokemon('D:\\MyCode\\dataset\\pokeman', 224, mode='val')\n",
    "    test_db = Pokemon('D:\\MyCode\\dataset\\pokeman', 224, mode='test')\n",
    "    \n",
    "    train_loader = DataLoader(train_db, batch_size=batchsz, shuffle=True) # num_workers=2\n",
    "    val_loader = DataLoader(val_db, batch_size=batchsz)\n",
    "    test_loader = DataLoader(test_db, batch_size=batchsz)\n",
    "    \n",
    "    \n",
    "    trained_model = resnet18(pretrained=True)#.to(device)\n",
    "    model = nn.Sequential(*list(trained_model.children())[:-1],# 测试一下输出维度[b, 512, 1, 1]\n",
    "                          Flatten(), #\n",
    "                          nn.Linear(512, 5)\n",
    "                         )\n",
    "    \n",
    "    optimizer = optim.Adam(model.parameters(), lr=lr)\n",
    "    criteon = nn.CrossEntropyLoss()\n",
    "    \n",
    "    best_acc = 0\n",
    "    best_epoch = 0\n",
    "    for epoch in range(epochs):\n",
    "        \n",
    "        for step, (x, y) in enumerate(train_loader):\n",
    "            \n",
    "            # x, y = x.to(device), y.to(device)\n",
    "            logits = model(x)\n",
    "            loss = criteon(logits, y)\n",
    "            \n",
    "            optimizer.zero_grad()\n",
    "            loss.backward()\n",
    "            optimizer.step()\n",
    "        \n",
    "        if epoch % 2 == 0:\n",
    "            val_acc = evalute(model, val_loader)\n",
    "            if val_acc > best_acc:\n",
    "                best_epoch = epoch\n",
    "                best_acc = val_acc\n",
    "                # 保存参数\n",
    "                torch.save(model.state_dict(), 'best.mdl')\n",
    "                \n",
    "                \n",
    "    # 加载参数               \n",
    "    model.load_state_dict(torch.load('best.mdl'))   \n",
    "    test_acc = evalute(model, test_loader)\n",
    "main()"
   ]
  },
  {
   "cell_type": "code",
   "execution_count": 20,
   "id": "ceea91e0",
   "metadata": {},
   "outputs": [
    {
     "ename": "SyntaxError",
     "evalue": "invalid syntax (3642243474.py, line 6)",
     "output_type": "error",
     "traceback": [
      "\u001b[1;36m  Input \u001b[1;32mIn [20]\u001b[1;36m\u001b[0m\n\u001b[1;33m    if val_ass is the best:\u001b[0m\n\u001b[1;37m                      ^\u001b[0m\n\u001b[1;31mSyntaxError\u001b[0m\u001b[1;31m:\u001b[0m invalid syntax\n"
     ]
    }
   ],
   "source": [
    "        train(train_db)\n",
    "\n",
    "if epoch%10 == 0:\n",
    "    val_acc = evaluate(val_db)\n",
    "\n",
    "    if val_ass is the best:\n",
    "        save_ckpt()\n",
    "\n",
    "    if out_of_pratience():\n",
    "        break\n",
    "load_ckpt()\n",
    "test_acc = evaluate(test_db)"
   ]
  },
  {
   "cell_type": "code",
   "execution_count": null,
   "id": "90bb66e8",
   "metadata": {},
   "outputs": [],
   "source": []
  }
 ],
 "metadata": {
  "kernelspec": {
   "display_name": "Python 3 (ipykernel)",
   "language": "python",
   "name": "python3"
  },
  "language_info": {
   "codemirror_mode": {
    "name": "ipython",
    "version": 3
   },
   "file_extension": ".py",
   "mimetype": "text/x-python",
   "name": "python",
   "nbconvert_exporter": "python",
   "pygments_lexer": "ipython3",
   "version": "3.9.12"
  }
 },
 "nbformat": 4,
 "nbformat_minor": 5
}
