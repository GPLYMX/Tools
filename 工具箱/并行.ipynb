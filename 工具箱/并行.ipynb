{
 "cells": [
  {
   "cell_type": "code",
   "execution_count": 26,
   "id": "d90d38d4",
   "metadata": {},
   "outputs": [
    {
     "name": "stdout",
     "output_type": "stream",
     "text": [
      "TestThread test  0\n",
      "TestThread test  1\n",
      "TestThread test  2\n",
      "TestThread test  3\n",
      "TestThread test  4\n",
      "MainThread main  0\n",
      "TestThread is alive  False\n",
      "MainThread main  1\n",
      "TestThread is alive  False\n",
      "MainThread main  2\n",
      "TestThread is alive  False\n",
      "MainThread main  3\n",
      "TestThread is alive  False\n",
      "MainThread main  4\n",
      "TestThread is alive  False\n"
     ]
    }
   ],
   "source": [
    "import threading\n",
    "import time\n",
    "\n",
    "def test():\n",
    "\n",
    "    for i in range(5):\n",
    "        print(threading.current_thread().name+' test ',i)\n",
    "        time.sleep(0.5)\n",
    "\n",
    "\n",
    "thread = threading.Thread(target=test,name='TestThread')\n",
    "thread.start()\n",
    "thread.join()\n",
    "\n",
    "for i in range(5):\n",
    "    print(threading.current_thread().name+' main ', i)\n",
    "    print(thread.name+' is alive ', thread.is_alive())\n",
    "    time.sleep(1)\n"
   ]
  },
  {
   "cell_type": "code",
   "execution_count": 31,
   "id": "d30424ff",
   "metadata": {},
   "outputs": [
    {
     "name": "stdout",
     "output_type": "stream",
     "text": [
      "future1线程的状态：True\n",
      "221\n",
      "future2线程的状态：True\n",
      "21\n",
      "221\n",
      "110\n",
      "skdfjh\n"
     ]
    }
   ],
   "source": [
    "# -*- coding: utf-8 -*-\n",
    "from concurrent.futures import ThreadPoolExecutor\n",
    "import threading\n",
    "import time\n",
    " \n",
    "# 定义获取线程return返回测试的方法\n",
    "def action_a(max):\n",
    "    my_sum = max + 1\n",
    "    return my_sum\n",
    " \n",
    "def action_b(max):\n",
    "    my_sum = max + 100\n",
    "    time.sleep(3)\n",
    "    return my_sum\n",
    " \n",
    "# 创建包含2个线程的线程池\n",
    "pool = ThreadPoolExecutor(max_workers=2)\n",
    "# 向线程池提交一个任务, 20和10会作为action_a/b()方法的参数\n",
    "future1 = pool.submit(action_a, 20)\n",
    "future2 = pool.submit(action_b, 10)\n",
    " \n",
    "# 判断future1线程是否结束---返回False表示该线程未结束，True表示该线程已经结束\n",
    "print(\"future1线程的状态：\" + str(future1.done()))       #此时future1线程已结束\n",
    "a = future2.result()\n",
    "print(a+111)\n",
    "# 判断future2线程是否结束\n",
    "print(\"future2线程的状态：\" + str(future2.done()))        #此时future2线程未结束，因为休眠了3秒\n",
    " \n",
    "# 查看future1代表的任务返回的结果，如果线程未运行完毕，会暂时阻塞，等待线程运行完毕后再执行、输出；\n",
    "print(future1.result())\t\t#此处会直接输出\n",
    "a = future2.result()\n",
    "print(a+111)\n",
    "# 查看future2代表的任务返回的结果\n",
    "print(future2.result())\t\t#此处会等待3秒，因为方法中休眠了3秒\n",
    " \n",
    "# 关闭线程池\n",
    "pool.shutdown()\n",
    "print('skdfjh')"
   ]
  },
  {
   "cell_type": "code",
   "execution_count": null,
   "id": "86e4ae5c",
   "metadata": {},
   "outputs": [],
   "source": []
  }
 ],
 "metadata": {
  "kernelspec": {
   "display_name": "Python 3 (ipykernel)",
   "language": "python",
   "name": "python3"
  },
  "language_info": {
   "codemirror_mode": {
    "name": "ipython",
    "version": 3
   },
   "file_extension": ".py",
   "mimetype": "text/x-python",
   "name": "python",
   "nbconvert_exporter": "python",
   "pygments_lexer": "ipython3",
   "version": "3.9.12"
  }
 },
 "nbformat": 4,
 "nbformat_minor": 5
}
