{
 "cells": [
  {
   "cell_type": "code",
   "execution_count": 13,
   "id": "02723317",
   "metadata": {},
   "outputs": [],
   "source": [
    "import warnings\n",
    "\n",
    "import numpy as np\n",
    "import matplotlib.pyplot as plt\n",
    "from matplotlib.colors import ListedColormap\n",
    "import cv2\n",
    "from scipy.fft import fft2, ifft2\n",
    "from sklearn.cluster import KMeans"
   ]
  },
  {
   "cell_type": "code",
   "execution_count": 14,
   "id": "70e59ac6",
   "metadata": {},
   "outputs": [],
   "source": [
    "warnings.filterwarnings(\"ignore\")"
   ]
  },
  {
   "cell_type": "markdown",
   "id": "a1239fb5",
   "metadata": {},
   "source": [
    "## 读取raw文件并展示热图"
   ]
  },
  {
   "cell_type": "code",
   "execution_count": 15,
   "id": "6d6c1634",
   "metadata": {},
   "outputs": [],
   "source": [
    "def read_raw(file_root='cube_20221028_104439\\ENVI_cube_20221028_104439.raw'):\n",
    "    \"\"\"\n",
    "    读取raw文件，转换成10*1024*1280的数组\n",
    "    \"\"\"\n",
    "    width = 1280\n",
    "    height = 1024\n",
    "    channels = 10\n",
    "    raw_image = np.fromfile(file_root, dtype=np.float16)\n",
    "    image = raw_image.reshape((channels, height, width))\n",
    "    image = image * 1.5e6\n",
    "    \n",
    "    return image "
   ]
  },
  {
   "cell_type": "code",
   "execution_count": 16,
   "id": "8d7fe74f",
   "metadata": {},
   "outputs": [],
   "source": [
    "def revise_raw(image):\n",
    "    \"\"\"\n",
    "    将raw的值映射至1-7000，并让每个通道相加\n",
    "    \"\"\"\n",
    "    image = image * 1e1\n",
    "    image = np.sum(image, axis=0)\n",
    "    \n",
    "    return image"
   ]
  },
  {
   "cell_type": "code",
   "execution_count": 17,
   "id": "91387dd3",
   "metadata": {},
   "outputs": [],
   "source": [
    "def show_heat_map(data = np.random.rand(1024, 1280), name='original'):\n",
    "    \"\"\"\n",
    "    绘制热图,配置参数\n",
    "    \"\"\"\n",
    "    \n",
    "    # 定义自定义的颜色映射，从暗蓝色到绿色再到黄色，并反转颜色顺序\n",
    "    cmap = ListedColormap(list(reversed(plt.cm.YlGnBu(np.linspace(0, 1, 256)))))\n",
    "    # 绘制热图，并指定颜色映射和插值方式\n",
    "    plt.imshow(data, cmap=cmap, interpolation='bilinear')\n",
    "    plt.clim(0, 7000)\n",
    "    # 添加颜色条\n",
    "    plt.colorbar()\n",
    "\n",
    "    # 添加标题和标签\n",
    "    plt.title(name)\n",
    "    plt.xlabel('X-axis')\n",
    "    plt.ylabel('Y-axis')\n",
    "\n",
    "    # 显示图像\n",
    "    plt.show()\n",
    "    "
   ]
  },
  {
   "cell_type": "markdown",
   "id": "54802ce8",
   "metadata": {},
   "source": [
    "## 评价指标:使用不同通道的目标区域的平均面积重合度(mIOU)\n",
    "### 1、计算所有通道的目标区域面积以及位置，目标区域指的是花生所在区域\n",
    "### 2、选取基准通道，基准通道指目标区域面积最小的通道\n",
    "### 3、计算所有通道与基准通道的IOU，之后求平均值，即为mIOU"
   ]
  },
  {
   "cell_type": "code",
   "execution_count": 18,
   "id": "fc129e9f",
   "metadata": {},
   "outputs": [],
   "source": [
    "def calculate_IOU(image1, image2):\n",
    "    intersection = np.logical_and(image1, image2)\n",
    "    union = np.logical_or(image1, image2)\n",
    "    iou = np.sum(intersection) / np.sum(union)\n",
    "    return iou"
   ]
  },
  {
   "cell_type": "code",
   "execution_count": 19,
   "id": "c1cc3e1b",
   "metadata": {},
   "outputs": [],
   "source": [
    "def calculate_mIOU(img):\n",
    "    a = 1587120\n",
    "    count = []\n",
    "    img_lst = []\n",
    "    for i, image in enumerate(img):\n",
    "        # 将图像转换为二维数组\n",
    "        pixels = image.reshape(1, -1)\n",
    "        pixels = pixels.reshape(-1, 1)\n",
    "        # 使用K均值聚类进行图像聚类\n",
    "        kmeans = KMeans(n_clusters=2)  # K是聚类的数量\n",
    "        kmeans.fit(pixels)\n",
    "        # 获取聚类标签和聚类中心\n",
    "        labels = kmeans.labels_\n",
    "        \n",
    "        # 将聚类结果转换为图像形式\n",
    "        segmented_image = labels.reshape(1024, 1280)\n",
    "        # 根据聚类结果标记多数类和少数类\n",
    "        majority_class_label = np.argmax(np.bincount(labels))\n",
    "        minority_class_label = 1 - majority_class_label\n",
    "        segmented_image[segmented_image == majority_class_label] = 0\n",
    "        segmented_image[segmented_image == minority_class_label] = 1\n",
    "        \n",
    "        img_lst.append(segmented_image)\n",
    "        \n",
    "        # 计算每个类别的个数\n",
    "        counts = np.bincount(labels)\n",
    "        count.append(min(counts))\n",
    "\n",
    "    idx = count.index(min(count))\n",
    "    IOU = 0\n",
    "    for img in img_lst:\n",
    "        IOU += calculate_IOU(img, img_lst[idx])\n",
    "    return IOU/10"
   ]
  },
  {
   "cell_type": "markdown",
   "id": "8700c62c",
   "metadata": {},
   "source": [
    "## 像素对齐\n",
    "### 1、选取基准通道，以花生面积最小的通道为基准通道\n",
    "### 2、计算其余通道与基准通道之间的SIFT特征\n",
    "### 3、特征匹配与仿射变换"
   ]
  },
  {
   "cell_type": "code",
   "execution_count": 20,
   "id": "d18512b4",
   "metadata": {},
   "outputs": [],
   "source": [
    "def align_channels(image):\n",
    "\n",
    "    reference_channel = image[0]\n",
    "    aligned_data = np.zeros_like(image)\n",
    "\n",
    "    # 创建SIFT对象\n",
    "    sift = cv2.SIFT_create()\n",
    "\n",
    "    # 对每个通道进行对齐和重影修复\n",
    "    for channel in range(image.shape[0]):\n",
    "        current_channel = image[channel]\n",
    "\n",
    "        # 将图像数据类型转换为np.uint8\n",
    "        reference_channel = (reference_channel*2).astype(np.uint8)\n",
    "        current_channel = (current_channel*2).astype(np.uint8)\n",
    "\n",
    "        # 使用SIFT特征检测和描述符提取\n",
    "        keypoints_ref, descriptors_ref = sift.detectAndCompute(reference_channel, None)\n",
    "        keypoints_cur, descriptors_cur = sift.detectAndCompute(current_channel, None)\n",
    "\n",
    "        # 使用FLANN匹配器进行特征匹配\n",
    "        matcher = cv2.FlannBasedMatcher()\n",
    "        matches = matcher.match(descriptors_ref, descriptors_cur)\n",
    "\n",
    "        # 根据匹配结果计算图像间的仿射变换矩阵\n",
    "        src_pts = np.float32([keypoints_ref[m.queryIdx].pt for m in matches]).reshape(-1, 1, 2)\n",
    "        dst_pts = np.float32([keypoints_cur[m.trainIdx].pt for m in matches]).reshape(-1, 1, 2)\n",
    "        M, _ = cv2.estimateAffinePartial2D(src_pts, dst_pts)\n",
    "\n",
    "        # 将当前通道的图像根据仿射变换矩阵进行像素对齐\n",
    "        aligned_image = cv2.warpAffine(current_channel, M, reference_channel.shape[::-1])\n",
    "\n",
    "        # 将对齐后的图像保存到输出图像数组中\n",
    "        aligned_data[channel] = aligned_image.astype(np.float32)/2\n",
    "\n",
    "    return aligned_data\n"
   ]
  },
  {
   "cell_type": "code",
   "execution_count": 21,
   "id": "780168cf",
   "metadata": {},
   "outputs": [],
   "source": [
    "def main():\n",
    "    file_list = ['cube_20221028_104439\\ENVI_cube_20221028_104439.raw', 'cube_20221028_104126\\ENVI_cube_20221028_104126.raw']\n",
    "    \n",
    "    for file in file_list:\n",
    "        # 原始图像\n",
    "        img = read_raw(file)\n",
    "        original_mIOU = calculate_mIOU(img)\n",
    "        original_img = revise_raw(img)\n",
    "        show_heat_map(original_img)\n",
    "        \n",
    "        final_img = align_channels(img)\n",
    "        final_mIOU = calculate_mIOU(final_img)\n",
    "        final_img = final_img *5\n",
    "        final_img = revise_raw(final_img)\n",
    "        show_heat_map(final_img, name='final')\n",
    "        \n",
    "        print('原始图片的mIOU：',original_mIOU)\n",
    "        print('像素对齐的mIOU：',final_mIOU)\n",
    "        print('__________________________________________________________')\n",
    "        "
   ]
  },
  {
   "cell_type": "code",
   "execution_count": 22,
   "id": "f2991e6d",
   "metadata": {},
   "outputs": [
    {
     "data": {
      "image/png": "[encoded data removed]",
      "text/plain": [
       "<Figure size 432x288 with 2 Axes>"
      ]
     },
     "metadata": {
      "needs_background": "light"
     },
     "output_type": "display_data"
    },
    {
     "ename": "error",
     "evalue": "OpenCV(4.6.0) D:\\a\\opencv-python\\opencv-python\\opencv\\modules\\calib3d\\src\\ptsetreg.cpp:176: error: (-215:Assertion failed) count >= 0 && count2 == count in function 'cv::RANSACPointSetRegistrator::run'\n",
     "output_type": "error",
     "traceback": [
      "\u001b[1;31m---------------------------------------------------------------------------\u001b[0m",
      "\u001b[1;31merror\u001b[0m                                     Traceback (most recent call last)",
      "Input \u001b[1;32mIn [22]\u001b[0m, in \u001b[0;36m<cell line: 1>\u001b[1;34m()\u001b[0m\n\u001b[0;32m      1\u001b[0m \u001b[38;5;28;01mif\u001b[39;00m \u001b[38;5;18m__name__\u001b[39m \u001b[38;5;241m==\u001b[39m \u001b[38;5;124m'\u001b[39m\u001b[38;5;124m__main__\u001b[39m\u001b[38;5;124m'\u001b[39m:\n\u001b[1;32m----> 2\u001b[0m     \u001b[43mmain\u001b[49m\u001b[43m(\u001b[49m\u001b[43m)\u001b[49m\n",
      "Input \u001b[1;32mIn [21]\u001b[0m, in \u001b[0;36mmain\u001b[1;34m()\u001b[0m\n\u001b[0;32m      8\u001b[0m original_img \u001b[38;5;241m=\u001b[39m revise_raw(img)\n\u001b[0;32m      9\u001b[0m show_heat_map(original_img)\n\u001b[1;32m---> 11\u001b[0m final_img \u001b[38;5;241m=\u001b[39m \u001b[43malign_channels\u001b[49m\u001b[43m(\u001b[49m\u001b[43mimg\u001b[49m\u001b[43m)\u001b[49m\n\u001b[0;32m     12\u001b[0m final_mIOU \u001b[38;5;241m=\u001b[39m calculate_mIOU(final_img)\n\u001b[0;32m     13\u001b[0m final_img \u001b[38;5;241m=\u001b[39m final_img \u001b[38;5;241m*\u001b[39m\u001b[38;5;241m5\u001b[39m\n",
      "Input \u001b[1;32mIn [20]\u001b[0m, in \u001b[0;36malign_channels\u001b[1;34m(image)\u001b[0m\n\u001b[0;32m     26\u001b[0m src_pts \u001b[38;5;241m=\u001b[39m np\u001b[38;5;241m.\u001b[39mfloat32([keypoints_ref[m\u001b[38;5;241m.\u001b[39mqueryIdx]\u001b[38;5;241m.\u001b[39mpt \u001b[38;5;28;01mfor\u001b[39;00m m \u001b[38;5;129;01min\u001b[39;00m matches])\u001b[38;5;241m.\u001b[39mreshape(\u001b[38;5;241m-\u001b[39m\u001b[38;5;241m1\u001b[39m, \u001b[38;5;241m1\u001b[39m, \u001b[38;5;241m2\u001b[39m)\n\u001b[0;32m     27\u001b[0m dst_pts \u001b[38;5;241m=\u001b[39m np\u001b[38;5;241m.\u001b[39mfloat32([keypoints_cur[m\u001b[38;5;241m.\u001b[39mtrainIdx]\u001b[38;5;241m.\u001b[39mpt \u001b[38;5;28;01mfor\u001b[39;00m m \u001b[38;5;129;01min\u001b[39;00m matches])\u001b[38;5;241m.\u001b[39mreshape(\u001b[38;5;241m-\u001b[39m\u001b[38;5;241m1\u001b[39m, \u001b[38;5;241m1\u001b[39m, \u001b[38;5;241m2\u001b[39m)\n\u001b[1;32m---> 28\u001b[0m M, _ \u001b[38;5;241m=\u001b[39m \u001b[43mcv2\u001b[49m\u001b[38;5;241;43m.\u001b[39;49m\u001b[43mestimateAffinePartial2D\u001b[49m\u001b[43m(\u001b[49m\u001b[43msrc_pts\u001b[49m\u001b[43m,\u001b[49m\u001b[43m \u001b[49m\u001b[43mdst_pts\u001b[49m\u001b[43m)\u001b[49m\n\u001b[0;32m     30\u001b[0m \u001b[38;5;66;03m# 将当前通道的图像根据仿射变换矩阵进行像素对齐\u001b[39;00m\n\u001b[0;32m     31\u001b[0m aligned_image \u001b[38;5;241m=\u001b[39m cv2\u001b[38;5;241m.\u001b[39mwarpAffine(current_channel, M, reference_channel\u001b[38;5;241m.\u001b[39mshape[::\u001b[38;5;241m-\u001b[39m\u001b[38;5;241m1\u001b[39m])\n",
      "\u001b[1;31merror\u001b[0m: OpenCV(4.6.0) D:\\a\\opencv-python\\opencv-python\\opencv\\modules\\calib3d\\src\\ptsetreg.cpp:176: error: (-215:Assertion failed) count >= 0 && count2 == count in function 'cv::RANSACPointSetRegistrator::run'\n"
     ]
    }
   ],
   "source": [
    "if __name__ == '__main__':\n",
    "    main()"
   ]
  },
  {
   "cell_type": "code",
   "execution_count": null,
   "id": "f16f5b41",
   "metadata": {},
   "outputs": [],
   "source": []
  }
 ],
 "metadata": {
  "kernelspec": {
   "display_name": "Python 3 (ipykernel)",
   "language": "python",
   "name": "python3"
  },
  "language_info": {
   "codemirror_mode": {
    "name": "ipython",
    "version": 3
   },
   "file_extension": ".py",
   "mimetype": "text/x-python",
   "name": "python",
   "nbconvert_exporter": "python",
   "pygments_lexer": "ipython3",
   "version": "3.9.12"
  }
 },
 "nbformat": 4,
 "nbformat_minor": 5
}
